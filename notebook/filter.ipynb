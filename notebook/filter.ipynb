{
 "cells": [
  {
   "cell_type": "code",
   "execution_count": 1,
   "outputs": [
    {
     "data": {
      "text/plain": "   ID      NAME SURNAME  COUNTRY  AGE  SALARY\n0   1      ADAM   SMITH      USA   25  150000\n1   2      PAUL  WAGNER   FRANCE   35  250000\n2   3      JACK    RYAN  GERMANY   32  200000\n3   4      JOHN    WICK   CANADA   40  300000\n4   5      ADAM   WAYNE      USA   21  225000\n5   6  JENNIFER    NICK   CANADA   24  200000\n6   7     WANDA    RYAN      USA   36  150000\n7   8     JOHNY   BRYAN   FRANCE   19  100000",
      "text/html": "<div>\n<style scoped>\n    .dataframe tbody tr th:only-of-type {\n        vertical-align: middle;\n    }\n\n    .dataframe tbody tr th {\n        vertical-align: top;\n    }\n\n    .dataframe thead th {\n        text-align: right;\n    }\n</style>\n<table border=\"1\" class=\"dataframe\">\n  <thead>\n    <tr style=\"text-align: right;\">\n      <th></th>\n      <th>ID</th>\n      <th>NAME</th>\n      <th>SURNAME</th>\n      <th>COUNTRY</th>\n      <th>AGE</th>\n      <th>SALARY</th>\n    </tr>\n  </thead>\n  <tbody>\n    <tr>\n      <th>0</th>\n      <td>1</td>\n      <td>ADAM</td>\n      <td>SMITH</td>\n      <td>USA</td>\n      <td>25</td>\n      <td>150000</td>\n    </tr>\n    <tr>\n      <th>1</th>\n      <td>2</td>\n      <td>PAUL</td>\n      <td>WAGNER</td>\n      <td>FRANCE</td>\n      <td>35</td>\n      <td>250000</td>\n    </tr>\n    <tr>\n      <th>2</th>\n      <td>3</td>\n      <td>JACK</td>\n      <td>RYAN</td>\n      <td>GERMANY</td>\n      <td>32</td>\n      <td>200000</td>\n    </tr>\n    <tr>\n      <th>3</th>\n      <td>4</td>\n      <td>JOHN</td>\n      <td>WICK</td>\n      <td>CANADA</td>\n      <td>40</td>\n      <td>300000</td>\n    </tr>\n    <tr>\n      <th>4</th>\n      <td>5</td>\n      <td>ADAM</td>\n      <td>WAYNE</td>\n      <td>USA</td>\n      <td>21</td>\n      <td>225000</td>\n    </tr>\n    <tr>\n      <th>5</th>\n      <td>6</td>\n      <td>JENNIFER</td>\n      <td>NICK</td>\n      <td>CANADA</td>\n      <td>24</td>\n      <td>200000</td>\n    </tr>\n    <tr>\n      <th>6</th>\n      <td>7</td>\n      <td>WANDA</td>\n      <td>RYAN</td>\n      <td>USA</td>\n      <td>36</td>\n      <td>150000</td>\n    </tr>\n    <tr>\n      <th>7</th>\n      <td>8</td>\n      <td>JOHNY</td>\n      <td>BRYAN</td>\n      <td>FRANCE</td>\n      <td>19</td>\n      <td>100000</td>\n    </tr>\n  </tbody>\n</table>\n</div>"
     },
     "execution_count": 1,
     "metadata": {},
     "output_type": "execute_result"
    }
   ],
   "source": [
    "# DATA\n",
    "import pandas as pd\n",
    "\n",
    "df = pd.DataFrame(\n",
    "    data={\n",
    "        'ID': [1, 2, 3, 4, 5, 6, 7, 8],\n",
    "        'NAME': ['ADAM', 'PAUL', 'JACK', 'JOHN', 'ADAM', 'JENNIFER', 'WANDA', 'JOHNY'],\n",
    "        'SURNAME': ['SMITH', 'WAGNER', 'RYAN', 'WICK', 'WAYNE', 'NICK', 'RYAN', 'BRYAN'],\n",
    "        'COUNTRY': ['USA', 'FRANCE', 'GERMANY', 'CANADA', 'USA', 'CANADA', 'USA', 'FRANCE'],\n",
    "        'AGE': [25, 35, 32, 40, 21, 24, 36, 19],\n",
    "        'SALARY': [150000, 250000, 200000, 300000, 225000, 200000, 150000, 100000]\n",
    "    }\n",
    ")\n",
    "df"
   ],
   "metadata": {
    "collapsed": false,
    "pycharm": {
     "name": "#%%\n"
    }
   }
  },
  {
   "cell_type": "code",
   "execution_count": null,
   "outputs": [],
   "source": [
    "# SINGLE CONDITION\n",
    "# SELECT * FROM TABLE WHERE ID > 5"
   ],
   "metadata": {
    "collapsed": false,
    "pycharm": {
     "name": "#%%\n"
    }
   }
  },
  {
   "cell_type": "code",
   "execution_count": 2,
   "outputs": [
    {
     "data": {
      "text/plain": "   ID      NAME SURNAME COUNTRY  AGE  SALARY\n5   6  JENNIFER    NICK  CANADA   24  200000\n6   7     WANDA    RYAN     USA   36  150000\n7   8     JOHNY   BRYAN  FRANCE   19  100000",
      "text/html": "<div>\n<style scoped>\n    .dataframe tbody tr th:only-of-type {\n        vertical-align: middle;\n    }\n\n    .dataframe tbody tr th {\n        vertical-align: top;\n    }\n\n    .dataframe thead th {\n        text-align: right;\n    }\n</style>\n<table border=\"1\" class=\"dataframe\">\n  <thead>\n    <tr style=\"text-align: right;\">\n      <th></th>\n      <th>ID</th>\n      <th>NAME</th>\n      <th>SURNAME</th>\n      <th>COUNTRY</th>\n      <th>AGE</th>\n      <th>SALARY</th>\n    </tr>\n  </thead>\n  <tbody>\n    <tr>\n      <th>5</th>\n      <td>6</td>\n      <td>JENNIFER</td>\n      <td>NICK</td>\n      <td>CANADA</td>\n      <td>24</td>\n      <td>200000</td>\n    </tr>\n    <tr>\n      <th>6</th>\n      <td>7</td>\n      <td>WANDA</td>\n      <td>RYAN</td>\n      <td>USA</td>\n      <td>36</td>\n      <td>150000</td>\n    </tr>\n    <tr>\n      <th>7</th>\n      <td>8</td>\n      <td>JOHNY</td>\n      <td>BRYAN</td>\n      <td>FRANCE</td>\n      <td>19</td>\n      <td>100000</td>\n    </tr>\n  </tbody>\n</table>\n</div>"
     },
     "execution_count": 2,
     "metadata": {},
     "output_type": "execute_result"
    }
   ],
   "source": [
    "# method 1: Dataframe way\n",
    "df[df['ID'] > 5]"
   ],
   "metadata": {
    "collapsed": false,
    "pycharm": {
     "name": "#%%\n"
    }
   }
  },
  {
   "cell_type": "code",
   "execution_count": 3,
   "outputs": [
    {
     "data": {
      "text/plain": "   ID      NAME SURNAME COUNTRY  AGE  SALARY\n5   6  JENNIFER    NICK  CANADA   24  200000\n6   7     WANDA    RYAN     USA   36  150000\n7   8     JOHNY   BRYAN  FRANCE   19  100000",
      "text/html": "<div>\n<style scoped>\n    .dataframe tbody tr th:only-of-type {\n        vertical-align: middle;\n    }\n\n    .dataframe tbody tr th {\n        vertical-align: top;\n    }\n\n    .dataframe thead th {\n        text-align: right;\n    }\n</style>\n<table border=\"1\" class=\"dataframe\">\n  <thead>\n    <tr style=\"text-align: right;\">\n      <th></th>\n      <th>ID</th>\n      <th>NAME</th>\n      <th>SURNAME</th>\n      <th>COUNTRY</th>\n      <th>AGE</th>\n      <th>SALARY</th>\n    </tr>\n  </thead>\n  <tbody>\n    <tr>\n      <th>5</th>\n      <td>6</td>\n      <td>JENNIFER</td>\n      <td>NICK</td>\n      <td>CANADA</td>\n      <td>24</td>\n      <td>200000</td>\n    </tr>\n    <tr>\n      <th>6</th>\n      <td>7</td>\n      <td>WANDA</td>\n      <td>RYAN</td>\n      <td>USA</td>\n      <td>36</td>\n      <td>150000</td>\n    </tr>\n    <tr>\n      <th>7</th>\n      <td>8</td>\n      <td>JOHNY</td>\n      <td>BRYAN</td>\n      <td>FRANCE</td>\n      <td>19</td>\n      <td>100000</td>\n    </tr>\n  </tbody>\n</table>\n</div>"
     },
     "execution_count": 3,
     "metadata": {},
     "output_type": "execute_result"
    }
   ],
   "source": [
    "# method 2: query function\n",
    "df.query('ID > 5')"
   ],
   "metadata": {
    "collapsed": false,
    "pycharm": {
     "name": "#%%\n"
    }
   }
  },
  {
   "cell_type": "code",
   "execution_count": 4,
   "outputs": [
    {
     "data": {
      "text/plain": "   ID      NAME SURNAME COUNTRY  AGE  SALARY\n5   6  JENNIFER    NICK  CANADA   24  200000\n6   7     WANDA    RYAN     USA   36  150000\n7   8     JOHNY   BRYAN  FRANCE   19  100000",
      "text/html": "<div>\n<style scoped>\n    .dataframe tbody tr th:only-of-type {\n        vertical-align: middle;\n    }\n\n    .dataframe tbody tr th {\n        vertical-align: top;\n    }\n\n    .dataframe thead th {\n        text-align: right;\n    }\n</style>\n<table border=\"1\" class=\"dataframe\">\n  <thead>\n    <tr style=\"text-align: right;\">\n      <th></th>\n      <th>ID</th>\n      <th>NAME</th>\n      <th>SURNAME</th>\n      <th>COUNTRY</th>\n      <th>AGE</th>\n      <th>SALARY</th>\n    </tr>\n  </thead>\n  <tbody>\n    <tr>\n      <th>5</th>\n      <td>6</td>\n      <td>JENNIFER</td>\n      <td>NICK</td>\n      <td>CANADA</td>\n      <td>24</td>\n      <td>200000</td>\n    </tr>\n    <tr>\n      <th>6</th>\n      <td>7</td>\n      <td>WANDA</td>\n      <td>RYAN</td>\n      <td>USA</td>\n      <td>36</td>\n      <td>150000</td>\n    </tr>\n    <tr>\n      <th>7</th>\n      <td>8</td>\n      <td>JOHNY</td>\n      <td>BRYAN</td>\n      <td>FRANCE</td>\n      <td>19</td>\n      <td>100000</td>\n    </tr>\n  </tbody>\n</table>\n</div>"
     },
     "execution_count": 4,
     "metadata": {},
     "output_type": "execute_result"
    }
   ],
   "source": [
    "# method 3: loc function\n",
    "df.loc[df[\"ID\"] > 5]"
   ],
   "metadata": {
    "collapsed": false,
    "pycharm": {
     "name": "#%%\n"
    }
   }
  },
  {
   "cell_type": "code",
   "execution_count": null,
   "outputs": [],
   "source": [
    "# SINGLE CONDITION (NOT)\n",
    "# SELECT * FROM TABLE WHERE NOT ID > 5"
   ],
   "metadata": {
    "collapsed": false,
    "pycharm": {
     "name": "#%%\n"
    }
   }
  },
  {
   "cell_type": "code",
   "execution_count": 5,
   "outputs": [
    {
     "data": {
      "text/plain": "   ID  NAME SURNAME  COUNTRY  AGE  SALARY\n0   1  ADAM   SMITH      USA   25  150000\n1   2  PAUL  WAGNER   FRANCE   35  250000\n2   3  JACK    RYAN  GERMANY   32  200000\n3   4  JOHN    WICK   CANADA   40  300000\n4   5  ADAM   WAYNE      USA   21  225000",
      "text/html": "<div>\n<style scoped>\n    .dataframe tbody tr th:only-of-type {\n        vertical-align: middle;\n    }\n\n    .dataframe tbody tr th {\n        vertical-align: top;\n    }\n\n    .dataframe thead th {\n        text-align: right;\n    }\n</style>\n<table border=\"1\" class=\"dataframe\">\n  <thead>\n    <tr style=\"text-align: right;\">\n      <th></th>\n      <th>ID</th>\n      <th>NAME</th>\n      <th>SURNAME</th>\n      <th>COUNTRY</th>\n      <th>AGE</th>\n      <th>SALARY</th>\n    </tr>\n  </thead>\n  <tbody>\n    <tr>\n      <th>0</th>\n      <td>1</td>\n      <td>ADAM</td>\n      <td>SMITH</td>\n      <td>USA</td>\n      <td>25</td>\n      <td>150000</td>\n    </tr>\n    <tr>\n      <th>1</th>\n      <td>2</td>\n      <td>PAUL</td>\n      <td>WAGNER</td>\n      <td>FRANCE</td>\n      <td>35</td>\n      <td>250000</td>\n    </tr>\n    <tr>\n      <th>2</th>\n      <td>3</td>\n      <td>JACK</td>\n      <td>RYAN</td>\n      <td>GERMANY</td>\n      <td>32</td>\n      <td>200000</td>\n    </tr>\n    <tr>\n      <th>3</th>\n      <td>4</td>\n      <td>JOHN</td>\n      <td>WICK</td>\n      <td>CANADA</td>\n      <td>40</td>\n      <td>300000</td>\n    </tr>\n    <tr>\n      <th>4</th>\n      <td>5</td>\n      <td>ADAM</td>\n      <td>WAYNE</td>\n      <td>USA</td>\n      <td>21</td>\n      <td>225000</td>\n    </tr>\n  </tbody>\n</table>\n</div>"
     },
     "execution_count": 5,
     "metadata": {},
     "output_type": "execute_result"
    }
   ],
   "source": [
    "# method 1: Dataframe way\n",
    "df[~(df['ID'] > 5)]"
   ],
   "metadata": {
    "collapsed": false,
    "pycharm": {
     "name": "#%%\n"
    }
   }
  },
  {
   "cell_type": "code",
   "execution_count": 6,
   "outputs": [
    {
     "data": {
      "text/plain": "   ID  NAME SURNAME  COUNTRY  AGE  SALARY\n0   1  ADAM   SMITH      USA   25  150000\n1   2  PAUL  WAGNER   FRANCE   35  250000\n2   3  JACK    RYAN  GERMANY   32  200000\n3   4  JOHN    WICK   CANADA   40  300000\n4   5  ADAM   WAYNE      USA   21  225000",
      "text/html": "<div>\n<style scoped>\n    .dataframe tbody tr th:only-of-type {\n        vertical-align: middle;\n    }\n\n    .dataframe tbody tr th {\n        vertical-align: top;\n    }\n\n    .dataframe thead th {\n        text-align: right;\n    }\n</style>\n<table border=\"1\" class=\"dataframe\">\n  <thead>\n    <tr style=\"text-align: right;\">\n      <th></th>\n      <th>ID</th>\n      <th>NAME</th>\n      <th>SURNAME</th>\n      <th>COUNTRY</th>\n      <th>AGE</th>\n      <th>SALARY</th>\n    </tr>\n  </thead>\n  <tbody>\n    <tr>\n      <th>0</th>\n      <td>1</td>\n      <td>ADAM</td>\n      <td>SMITH</td>\n      <td>USA</td>\n      <td>25</td>\n      <td>150000</td>\n    </tr>\n    <tr>\n      <th>1</th>\n      <td>2</td>\n      <td>PAUL</td>\n      <td>WAGNER</td>\n      <td>FRANCE</td>\n      <td>35</td>\n      <td>250000</td>\n    </tr>\n    <tr>\n      <th>2</th>\n      <td>3</td>\n      <td>JACK</td>\n      <td>RYAN</td>\n      <td>GERMANY</td>\n      <td>32</td>\n      <td>200000</td>\n    </tr>\n    <tr>\n      <th>3</th>\n      <td>4</td>\n      <td>JOHN</td>\n      <td>WICK</td>\n      <td>CANADA</td>\n      <td>40</td>\n      <td>300000</td>\n    </tr>\n    <tr>\n      <th>4</th>\n      <td>5</td>\n      <td>ADAM</td>\n      <td>WAYNE</td>\n      <td>USA</td>\n      <td>21</td>\n      <td>225000</td>\n    </tr>\n  </tbody>\n</table>\n</div>"
     },
     "execution_count": 6,
     "metadata": {},
     "output_type": "execute_result"
    }
   ],
   "source": [
    "# method 2: query function\n",
    "df.query('~(ID > 5)')"
   ],
   "metadata": {
    "collapsed": false,
    "pycharm": {
     "name": "#%%\n"
    }
   }
  },
  {
   "cell_type": "code",
   "execution_count": null,
   "outputs": [],
   "source": [
    "# MULTIPLE CONDITION (AND)\n",
    "# SELECT * FROM TABLE WHERE ID > 5 AND COUNTRY = 'CANADA'"
   ],
   "metadata": {
    "collapsed": false,
    "pycharm": {
     "name": "#%%\n"
    }
   }
  },
  {
   "cell_type": "code",
   "execution_count": 7,
   "outputs": [
    {
     "data": {
      "text/plain": "   ID      NAME SURNAME COUNTRY  AGE  SALARY\n5   6  JENNIFER    NICK  CANADA   24  200000",
      "text/html": "<div>\n<style scoped>\n    .dataframe tbody tr th:only-of-type {\n        vertical-align: middle;\n    }\n\n    .dataframe tbody tr th {\n        vertical-align: top;\n    }\n\n    .dataframe thead th {\n        text-align: right;\n    }\n</style>\n<table border=\"1\" class=\"dataframe\">\n  <thead>\n    <tr style=\"text-align: right;\">\n      <th></th>\n      <th>ID</th>\n      <th>NAME</th>\n      <th>SURNAME</th>\n      <th>COUNTRY</th>\n      <th>AGE</th>\n      <th>SALARY</th>\n    </tr>\n  </thead>\n  <tbody>\n    <tr>\n      <th>5</th>\n      <td>6</td>\n      <td>JENNIFER</td>\n      <td>NICK</td>\n      <td>CANADA</td>\n      <td>24</td>\n      <td>200000</td>\n    </tr>\n  </tbody>\n</table>\n</div>"
     },
     "execution_count": 7,
     "metadata": {},
     "output_type": "execute_result"
    }
   ],
   "source": [
    "# method 1: Dataframe way\n",
    "df[(df.ID > 5) & (df.COUNTRY == 'CANADA')]"
   ],
   "metadata": {
    "collapsed": false,
    "pycharm": {
     "name": "#%%\n"
    }
   }
  },
  {
   "cell_type": "code",
   "execution_count": 8,
   "outputs": [
    {
     "data": {
      "text/plain": "   ID      NAME SURNAME COUNTRY  AGE  SALARY\n5   6  JENNIFER    NICK  CANADA   24  200000",
      "text/html": "<div>\n<style scoped>\n    .dataframe tbody tr th:only-of-type {\n        vertical-align: middle;\n    }\n\n    .dataframe tbody tr th {\n        vertical-align: top;\n    }\n\n    .dataframe thead th {\n        text-align: right;\n    }\n</style>\n<table border=\"1\" class=\"dataframe\">\n  <thead>\n    <tr style=\"text-align: right;\">\n      <th></th>\n      <th>ID</th>\n      <th>NAME</th>\n      <th>SURNAME</th>\n      <th>COUNTRY</th>\n      <th>AGE</th>\n      <th>SALARY</th>\n    </tr>\n  </thead>\n  <tbody>\n    <tr>\n      <th>5</th>\n      <td>6</td>\n      <td>JENNIFER</td>\n      <td>NICK</td>\n      <td>CANADA</td>\n      <td>24</td>\n      <td>200000</td>\n    </tr>\n  </tbody>\n</table>\n</div>"
     },
     "execution_count": 8,
     "metadata": {},
     "output_type": "execute_result"
    }
   ],
   "source": [
    "# method 2: query function\n",
    "df.query('ID > 5 and COUNTRY == \"CANADA\"')"
   ],
   "metadata": {
    "collapsed": false,
    "pycharm": {
     "name": "#%%\n"
    }
   }
  },
  {
   "cell_type": "code",
   "execution_count": null,
   "outputs": [],
   "source": [
    "# MULTIPLE CONDITION (AND & OR)\n",
    "# SELECT * FROM TABLE WHERE ID > 5 AND (COUNTRY = 'CANADA' OR COUNTRY = 'USA')"
   ],
   "metadata": {
    "collapsed": false,
    "pycharm": {
     "name": "#%%\n"
    }
   }
  },
  {
   "cell_type": "code",
   "execution_count": 9,
   "outputs": [
    {
     "data": {
      "text/plain": "   ID      NAME SURNAME COUNTRY  AGE  SALARY\n5   6  JENNIFER    NICK  CANADA   24  200000\n6   7     WANDA    RYAN     USA   36  150000",
      "text/html": "<div>\n<style scoped>\n    .dataframe tbody tr th:only-of-type {\n        vertical-align: middle;\n    }\n\n    .dataframe tbody tr th {\n        vertical-align: top;\n    }\n\n    .dataframe thead th {\n        text-align: right;\n    }\n</style>\n<table border=\"1\" class=\"dataframe\">\n  <thead>\n    <tr style=\"text-align: right;\">\n      <th></th>\n      <th>ID</th>\n      <th>NAME</th>\n      <th>SURNAME</th>\n      <th>COUNTRY</th>\n      <th>AGE</th>\n      <th>SALARY</th>\n    </tr>\n  </thead>\n  <tbody>\n    <tr>\n      <th>5</th>\n      <td>6</td>\n      <td>JENNIFER</td>\n      <td>NICK</td>\n      <td>CANADA</td>\n      <td>24</td>\n      <td>200000</td>\n    </tr>\n    <tr>\n      <th>6</th>\n      <td>7</td>\n      <td>WANDA</td>\n      <td>RYAN</td>\n      <td>USA</td>\n      <td>36</td>\n      <td>150000</td>\n    </tr>\n  </tbody>\n</table>\n</div>"
     },
     "execution_count": 9,
     "metadata": {},
     "output_type": "execute_result"
    }
   ],
   "source": [
    "# method 1: Dataframe way\n",
    "df[(df.ID > 5) & ((df.COUNTRY == 'CANADA') | (df.COUNTRY == 'USA'))]"
   ],
   "metadata": {
    "collapsed": false,
    "pycharm": {
     "name": "#%%\n"
    }
   }
  },
  {
   "cell_type": "code",
   "execution_count": 10,
   "outputs": [
    {
     "data": {
      "text/plain": "   ID      NAME SURNAME COUNTRY  AGE  SALARY\n5   6  JENNIFER    NICK  CANADA   24  200000\n6   7     WANDA    RYAN     USA   36  150000",
      "text/html": "<div>\n<style scoped>\n    .dataframe tbody tr th:only-of-type {\n        vertical-align: middle;\n    }\n\n    .dataframe tbody tr th {\n        vertical-align: top;\n    }\n\n    .dataframe thead th {\n        text-align: right;\n    }\n</style>\n<table border=\"1\" class=\"dataframe\">\n  <thead>\n    <tr style=\"text-align: right;\">\n      <th></th>\n      <th>ID</th>\n      <th>NAME</th>\n      <th>SURNAME</th>\n      <th>COUNTRY</th>\n      <th>AGE</th>\n      <th>SALARY</th>\n    </tr>\n  </thead>\n  <tbody>\n    <tr>\n      <th>5</th>\n      <td>6</td>\n      <td>JENNIFER</td>\n      <td>NICK</td>\n      <td>CANADA</td>\n      <td>24</td>\n      <td>200000</td>\n    </tr>\n    <tr>\n      <th>6</th>\n      <td>7</td>\n      <td>WANDA</td>\n      <td>RYAN</td>\n      <td>USA</td>\n      <td>36</td>\n      <td>150000</td>\n    </tr>\n  </tbody>\n</table>\n</div>"
     },
     "execution_count": 10,
     "metadata": {},
     "output_type": "execute_result"
    }
   ],
   "source": [
    "# method 2: query function\n",
    "df.query('ID > 5 and (COUNTRY == \"CANADA\" or COUNTRY == \"USA\")')"
   ],
   "metadata": {
    "collapsed": false,
    "pycharm": {
     "name": "#%%\n"
    }
   }
  },
  {
   "cell_type": "code",
   "execution_count": null,
   "outputs": [],
   "source": [
    "# IN OPERATOR\n",
    "# SELECT * FROM TABLE WHERE COUNTRY IN  ('GERMANY', 'FRANCE')"
   ],
   "metadata": {
    "collapsed": false,
    "pycharm": {
     "name": "#%%\n"
    }
   }
  },
  {
   "cell_type": "code",
   "execution_count": 11,
   "outputs": [
    {
     "data": {
      "text/plain": "   ID   NAME SURNAME  COUNTRY  AGE  SALARY\n1   2   PAUL  WAGNER   FRANCE   35  250000\n2   3   JACK    RYAN  GERMANY   32  200000\n7   8  JOHNY   BRYAN   FRANCE   19  100000",
      "text/html": "<div>\n<style scoped>\n    .dataframe tbody tr th:only-of-type {\n        vertical-align: middle;\n    }\n\n    .dataframe tbody tr th {\n        vertical-align: top;\n    }\n\n    .dataframe thead th {\n        text-align: right;\n    }\n</style>\n<table border=\"1\" class=\"dataframe\">\n  <thead>\n    <tr style=\"text-align: right;\">\n      <th></th>\n      <th>ID</th>\n      <th>NAME</th>\n      <th>SURNAME</th>\n      <th>COUNTRY</th>\n      <th>AGE</th>\n      <th>SALARY</th>\n    </tr>\n  </thead>\n  <tbody>\n    <tr>\n      <th>1</th>\n      <td>2</td>\n      <td>PAUL</td>\n      <td>WAGNER</td>\n      <td>FRANCE</td>\n      <td>35</td>\n      <td>250000</td>\n    </tr>\n    <tr>\n      <th>2</th>\n      <td>3</td>\n      <td>JACK</td>\n      <td>RYAN</td>\n      <td>GERMANY</td>\n      <td>32</td>\n      <td>200000</td>\n    </tr>\n    <tr>\n      <th>7</th>\n      <td>8</td>\n      <td>JOHNY</td>\n      <td>BRYAN</td>\n      <td>FRANCE</td>\n      <td>19</td>\n      <td>100000</td>\n    </tr>\n  </tbody>\n</table>\n</div>"
     },
     "execution_count": 11,
     "metadata": {},
     "output_type": "execute_result"
    }
   ],
   "source": [
    "# method 1: Dataframe way\n",
    "df[df.COUNTRY.isin(['GERMANY','FRANCE'])]"
   ],
   "metadata": {
    "collapsed": false,
    "pycharm": {
     "name": "#%%\n"
    }
   }
  },
  {
   "cell_type": "code",
   "execution_count": 12,
   "outputs": [
    {
     "data": {
      "text/plain": "   ID   NAME SURNAME  COUNTRY  AGE  SALARY\n1   2   PAUL  WAGNER   FRANCE   35  250000\n2   3   JACK    RYAN  GERMANY   32  200000\n7   8  JOHNY   BRYAN   FRANCE   19  100000",
      "text/html": "<div>\n<style scoped>\n    .dataframe tbody tr th:only-of-type {\n        vertical-align: middle;\n    }\n\n    .dataframe tbody tr th {\n        vertical-align: top;\n    }\n\n    .dataframe thead th {\n        text-align: right;\n    }\n</style>\n<table border=\"1\" class=\"dataframe\">\n  <thead>\n    <tr style=\"text-align: right;\">\n      <th></th>\n      <th>ID</th>\n      <th>NAME</th>\n      <th>SURNAME</th>\n      <th>COUNTRY</th>\n      <th>AGE</th>\n      <th>SALARY</th>\n    </tr>\n  </thead>\n  <tbody>\n    <tr>\n      <th>1</th>\n      <td>2</td>\n      <td>PAUL</td>\n      <td>WAGNER</td>\n      <td>FRANCE</td>\n      <td>35</td>\n      <td>250000</td>\n    </tr>\n    <tr>\n      <th>2</th>\n      <td>3</td>\n      <td>JACK</td>\n      <td>RYAN</td>\n      <td>GERMANY</td>\n      <td>32</td>\n      <td>200000</td>\n    </tr>\n    <tr>\n      <th>7</th>\n      <td>8</td>\n      <td>JOHNY</td>\n      <td>BRYAN</td>\n      <td>FRANCE</td>\n      <td>19</td>\n      <td>100000</td>\n    </tr>\n  </tbody>\n</table>\n</div>"
     },
     "execution_count": 12,
     "metadata": {},
     "output_type": "execute_result"
    }
   ],
   "source": [
    "# method 2: query function\n",
    "df.query('COUNTRY in [\"GERMANY\",\"FRANCE\"]')"
   ],
   "metadata": {
    "collapsed": false,
    "pycharm": {
     "name": "#%%\n"
    }
   }
  },
  {
   "cell_type": "code",
   "execution_count": 13,
   "outputs": [
    {
     "data": {
      "text/plain": "   ID   NAME SURNAME  COUNTRY  AGE  SALARY\n1   2   PAUL  WAGNER   FRANCE   35  250000\n2   3   JACK    RYAN  GERMANY   32  200000\n7   8  JOHNY   BRYAN   FRANCE   19  100000",
      "text/html": "<div>\n<style scoped>\n    .dataframe tbody tr th:only-of-type {\n        vertical-align: middle;\n    }\n\n    .dataframe tbody tr th {\n        vertical-align: top;\n    }\n\n    .dataframe thead th {\n        text-align: right;\n    }\n</style>\n<table border=\"1\" class=\"dataframe\">\n  <thead>\n    <tr style=\"text-align: right;\">\n      <th></th>\n      <th>ID</th>\n      <th>NAME</th>\n      <th>SURNAME</th>\n      <th>COUNTRY</th>\n      <th>AGE</th>\n      <th>SALARY</th>\n    </tr>\n  </thead>\n  <tbody>\n    <tr>\n      <th>1</th>\n      <td>2</td>\n      <td>PAUL</td>\n      <td>WAGNER</td>\n      <td>FRANCE</td>\n      <td>35</td>\n      <td>250000</td>\n    </tr>\n    <tr>\n      <th>2</th>\n      <td>3</td>\n      <td>JACK</td>\n      <td>RYAN</td>\n      <td>GERMANY</td>\n      <td>32</td>\n      <td>200000</td>\n    </tr>\n    <tr>\n      <th>7</th>\n      <td>8</td>\n      <td>JOHNY</td>\n      <td>BRYAN</td>\n      <td>FRANCE</td>\n      <td>19</td>\n      <td>100000</td>\n    </tr>\n  </tbody>\n</table>\n</div>"
     },
     "execution_count": 13,
     "metadata": {},
     "output_type": "execute_result"
    }
   ],
   "source": [
    "df.query('COUNTRY.isin([\"GERMANY\", \"FRANCE\"]).values')"
   ],
   "metadata": {
    "collapsed": false,
    "pycharm": {
     "name": "#%%\n"
    }
   }
  },
  {
   "cell_type": "code",
   "execution_count": null,
   "outputs": [],
   "source": [
    "# NOT IN OPERATOR\n",
    "# SELECT * FROM TABLE WHERE COUNTRY NOT IN  ('USA', 'FRANCE')"
   ],
   "metadata": {
    "collapsed": false,
    "pycharm": {
     "name": "#%%\n"
    }
   }
  },
  {
   "cell_type": "code",
   "execution_count": 14,
   "outputs": [
    {
     "data": {
      "text/plain": "   ID      NAME SURNAME  COUNTRY  AGE  SALARY\n2   3      JACK    RYAN  GERMANY   32  200000\n3   4      JOHN    WICK   CANADA   40  300000\n5   6  JENNIFER    NICK   CANADA   24  200000",
      "text/html": "<div>\n<style scoped>\n    .dataframe tbody tr th:only-of-type {\n        vertical-align: middle;\n    }\n\n    .dataframe tbody tr th {\n        vertical-align: top;\n    }\n\n    .dataframe thead th {\n        text-align: right;\n    }\n</style>\n<table border=\"1\" class=\"dataframe\">\n  <thead>\n    <tr style=\"text-align: right;\">\n      <th></th>\n      <th>ID</th>\n      <th>NAME</th>\n      <th>SURNAME</th>\n      <th>COUNTRY</th>\n      <th>AGE</th>\n      <th>SALARY</th>\n    </tr>\n  </thead>\n  <tbody>\n    <tr>\n      <th>2</th>\n      <td>3</td>\n      <td>JACK</td>\n      <td>RYAN</td>\n      <td>GERMANY</td>\n      <td>32</td>\n      <td>200000</td>\n    </tr>\n    <tr>\n      <th>3</th>\n      <td>4</td>\n      <td>JOHN</td>\n      <td>WICK</td>\n      <td>CANADA</td>\n      <td>40</td>\n      <td>300000</td>\n    </tr>\n    <tr>\n      <th>5</th>\n      <td>6</td>\n      <td>JENNIFER</td>\n      <td>NICK</td>\n      <td>CANADA</td>\n      <td>24</td>\n      <td>200000</td>\n    </tr>\n  </tbody>\n</table>\n</div>"
     },
     "execution_count": 14,
     "metadata": {},
     "output_type": "execute_result"
    }
   ],
   "source": [
    "# method 1: Dataframe way\n",
    "df[~df.COUNTRY.isin(['USA','FRANCE'])]"
   ],
   "metadata": {
    "collapsed": false,
    "pycharm": {
     "name": "#%%\n"
    }
   }
  },
  {
   "cell_type": "code",
   "execution_count": 15,
   "outputs": [
    {
     "data": {
      "text/plain": "   ID      NAME SURNAME  COUNTRY  AGE  SALARY\n2   3      JACK    RYAN  GERMANY   32  200000\n3   4      JOHN    WICK   CANADA   40  300000\n5   6  JENNIFER    NICK   CANADA   24  200000",
      "text/html": "<div>\n<style scoped>\n    .dataframe tbody tr th:only-of-type {\n        vertical-align: middle;\n    }\n\n    .dataframe tbody tr th {\n        vertical-align: top;\n    }\n\n    .dataframe thead th {\n        text-align: right;\n    }\n</style>\n<table border=\"1\" class=\"dataframe\">\n  <thead>\n    <tr style=\"text-align: right;\">\n      <th></th>\n      <th>ID</th>\n      <th>NAME</th>\n      <th>SURNAME</th>\n      <th>COUNTRY</th>\n      <th>AGE</th>\n      <th>SALARY</th>\n    </tr>\n  </thead>\n  <tbody>\n    <tr>\n      <th>2</th>\n      <td>3</td>\n      <td>JACK</td>\n      <td>RYAN</td>\n      <td>GERMANY</td>\n      <td>32</td>\n      <td>200000</td>\n    </tr>\n    <tr>\n      <th>3</th>\n      <td>4</td>\n      <td>JOHN</td>\n      <td>WICK</td>\n      <td>CANADA</td>\n      <td>40</td>\n      <td>300000</td>\n    </tr>\n    <tr>\n      <th>5</th>\n      <td>6</td>\n      <td>JENNIFER</td>\n      <td>NICK</td>\n      <td>CANADA</td>\n      <td>24</td>\n      <td>200000</td>\n    </tr>\n  </tbody>\n</table>\n</div>"
     },
     "execution_count": 15,
     "metadata": {},
     "output_type": "execute_result"
    }
   ],
   "source": [
    "# method 2: query function\n",
    "df.query('COUNTRY not in [\"USA\",\"FRANCE\"]')"
   ],
   "metadata": {
    "collapsed": false,
    "pycharm": {
     "name": "#%%\n"
    }
   }
  },
  {
   "cell_type": "code",
   "execution_count": 16,
   "outputs": [
    {
     "data": {
      "text/plain": "   ID      NAME SURNAME  COUNTRY  AGE  SALARY\n2   3      JACK    RYAN  GERMANY   32  200000\n3   4      JOHN    WICK   CANADA   40  300000\n5   6  JENNIFER    NICK   CANADA   24  200000",
      "text/html": "<div>\n<style scoped>\n    .dataframe tbody tr th:only-of-type {\n        vertical-align: middle;\n    }\n\n    .dataframe tbody tr th {\n        vertical-align: top;\n    }\n\n    .dataframe thead th {\n        text-align: right;\n    }\n</style>\n<table border=\"1\" class=\"dataframe\">\n  <thead>\n    <tr style=\"text-align: right;\">\n      <th></th>\n      <th>ID</th>\n      <th>NAME</th>\n      <th>SURNAME</th>\n      <th>COUNTRY</th>\n      <th>AGE</th>\n      <th>SALARY</th>\n    </tr>\n  </thead>\n  <tbody>\n    <tr>\n      <th>2</th>\n      <td>3</td>\n      <td>JACK</td>\n      <td>RYAN</td>\n      <td>GERMANY</td>\n      <td>32</td>\n      <td>200000</td>\n    </tr>\n    <tr>\n      <th>3</th>\n      <td>4</td>\n      <td>JOHN</td>\n      <td>WICK</td>\n      <td>CANADA</td>\n      <td>40</td>\n      <td>300000</td>\n    </tr>\n    <tr>\n      <th>5</th>\n      <td>6</td>\n      <td>JENNIFER</td>\n      <td>NICK</td>\n      <td>CANADA</td>\n      <td>24</td>\n      <td>200000</td>\n    </tr>\n  </tbody>\n</table>\n</div>"
     },
     "execution_count": 16,
     "metadata": {},
     "output_type": "execute_result"
    }
   ],
   "source": [
    "df.query('~(COUNTRY in [\"USA\",\"FRANCE\"])')"
   ],
   "metadata": {
    "collapsed": false,
    "pycharm": {
     "name": "#%%\n"
    }
   }
  },
  {
   "cell_type": "code",
   "execution_count": null,
   "outputs": [],
   "source": [
    "# LIKE OPERATOR - startswith\n",
    "# SELECT * FROM TABLE WHERE SURNAME LIKE ''WA%\""
   ],
   "metadata": {
    "collapsed": false,
    "pycharm": {
     "name": "#%%\n"
    }
   }
  },
  {
   "cell_type": "code",
   "execution_count": 17,
   "outputs": [
    {
     "data": {
      "text/plain": "   ID  NAME SURNAME COUNTRY  AGE  SALARY\n1   2  PAUL  WAGNER  FRANCE   35  250000\n4   5  ADAM   WAYNE     USA   21  225000",
      "text/html": "<div>\n<style scoped>\n    .dataframe tbody tr th:only-of-type {\n        vertical-align: middle;\n    }\n\n    .dataframe tbody tr th {\n        vertical-align: top;\n    }\n\n    .dataframe thead th {\n        text-align: right;\n    }\n</style>\n<table border=\"1\" class=\"dataframe\">\n  <thead>\n    <tr style=\"text-align: right;\">\n      <th></th>\n      <th>ID</th>\n      <th>NAME</th>\n      <th>SURNAME</th>\n      <th>COUNTRY</th>\n      <th>AGE</th>\n      <th>SALARY</th>\n    </tr>\n  </thead>\n  <tbody>\n    <tr>\n      <th>1</th>\n      <td>2</td>\n      <td>PAUL</td>\n      <td>WAGNER</td>\n      <td>FRANCE</td>\n      <td>35</td>\n      <td>250000</td>\n    </tr>\n    <tr>\n      <th>4</th>\n      <td>5</td>\n      <td>ADAM</td>\n      <td>WAYNE</td>\n      <td>USA</td>\n      <td>21</td>\n      <td>225000</td>\n    </tr>\n  </tbody>\n</table>\n</div>"
     },
     "execution_count": 17,
     "metadata": {},
     "output_type": "execute_result"
    }
   ],
   "source": [
    "# method 1: Dataframe way\n",
    "df[df.SURNAME.str.startswith('WA')]"
   ],
   "metadata": {
    "collapsed": false,
    "pycharm": {
     "name": "#%%\n"
    }
   }
  },
  {
   "cell_type": "code",
   "execution_count": 18,
   "outputs": [
    {
     "data": {
      "text/plain": "   ID  NAME SURNAME COUNTRY  AGE  SALARY\n1   2  PAUL  WAGNER  FRANCE   35  250000\n4   5  ADAM   WAYNE     USA   21  225000",
      "text/html": "<div>\n<style scoped>\n    .dataframe tbody tr th:only-of-type {\n        vertical-align: middle;\n    }\n\n    .dataframe tbody tr th {\n        vertical-align: top;\n    }\n\n    .dataframe thead th {\n        text-align: right;\n    }\n</style>\n<table border=\"1\" class=\"dataframe\">\n  <thead>\n    <tr style=\"text-align: right;\">\n      <th></th>\n      <th>ID</th>\n      <th>NAME</th>\n      <th>SURNAME</th>\n      <th>COUNTRY</th>\n      <th>AGE</th>\n      <th>SALARY</th>\n    </tr>\n  </thead>\n  <tbody>\n    <tr>\n      <th>1</th>\n      <td>2</td>\n      <td>PAUL</td>\n      <td>WAGNER</td>\n      <td>FRANCE</td>\n      <td>35</td>\n      <td>250000</td>\n    </tr>\n    <tr>\n      <th>4</th>\n      <td>5</td>\n      <td>ADAM</td>\n      <td>WAYNE</td>\n      <td>USA</td>\n      <td>21</td>\n      <td>225000</td>\n    </tr>\n  </tbody>\n</table>\n</div>"
     },
     "execution_count": 18,
     "metadata": {},
     "output_type": "execute_result"
    }
   ],
   "source": [
    "# method 2: query function\n",
    "df.query('SURNAME.str.startswith(\"WA\")')"
   ],
   "metadata": {
    "collapsed": false,
    "pycharm": {
     "name": "#%%\n"
    }
   }
  },
  {
   "cell_type": "code",
   "execution_count": null,
   "outputs": [],
   "source": [
    "# LIKE OPERATOR - endswith\n",
    "# SELECT * FROM TABLE WHERE SURNAME LIKE \"%YAN\""
   ],
   "metadata": {
    "collapsed": false,
    "pycharm": {
     "name": "#%%\n"
    }
   }
  },
  {
   "cell_type": "code",
   "execution_count": 19,
   "outputs": [
    {
     "data": {
      "text/plain": "   ID   NAME SURNAME  COUNTRY  AGE  SALARY\n2   3   JACK    RYAN  GERMANY   32  200000\n6   7  WANDA    RYAN      USA   36  150000\n7   8  JOHNY   BRYAN   FRANCE   19  100000",
      "text/html": "<div>\n<style scoped>\n    .dataframe tbody tr th:only-of-type {\n        vertical-align: middle;\n    }\n\n    .dataframe tbody tr th {\n        vertical-align: top;\n    }\n\n    .dataframe thead th {\n        text-align: right;\n    }\n</style>\n<table border=\"1\" class=\"dataframe\">\n  <thead>\n    <tr style=\"text-align: right;\">\n      <th></th>\n      <th>ID</th>\n      <th>NAME</th>\n      <th>SURNAME</th>\n      <th>COUNTRY</th>\n      <th>AGE</th>\n      <th>SALARY</th>\n    </tr>\n  </thead>\n  <tbody>\n    <tr>\n      <th>2</th>\n      <td>3</td>\n      <td>JACK</td>\n      <td>RYAN</td>\n      <td>GERMANY</td>\n      <td>32</td>\n      <td>200000</td>\n    </tr>\n    <tr>\n      <th>6</th>\n      <td>7</td>\n      <td>WANDA</td>\n      <td>RYAN</td>\n      <td>USA</td>\n      <td>36</td>\n      <td>150000</td>\n    </tr>\n    <tr>\n      <th>7</th>\n      <td>8</td>\n      <td>JOHNY</td>\n      <td>BRYAN</td>\n      <td>FRANCE</td>\n      <td>19</td>\n      <td>100000</td>\n    </tr>\n  </tbody>\n</table>\n</div>"
     },
     "execution_count": 19,
     "metadata": {},
     "output_type": "execute_result"
    }
   ],
   "source": [
    "# method 1: Dataframe way\n",
    "df[df.SURNAME.str.endswith('YAN')]"
   ],
   "metadata": {
    "collapsed": false,
    "pycharm": {
     "name": "#%%\n"
    }
   }
  },
  {
   "cell_type": "code",
   "execution_count": 20,
   "outputs": [
    {
     "data": {
      "text/plain": "   ID   NAME SURNAME  COUNTRY  AGE  SALARY\n2   3   JACK    RYAN  GERMANY   32  200000\n6   7  WANDA    RYAN      USA   36  150000\n7   8  JOHNY   BRYAN   FRANCE   19  100000",
      "text/html": "<div>\n<style scoped>\n    .dataframe tbody tr th:only-of-type {\n        vertical-align: middle;\n    }\n\n    .dataframe tbody tr th {\n        vertical-align: top;\n    }\n\n    .dataframe thead th {\n        text-align: right;\n    }\n</style>\n<table border=\"1\" class=\"dataframe\">\n  <thead>\n    <tr style=\"text-align: right;\">\n      <th></th>\n      <th>ID</th>\n      <th>NAME</th>\n      <th>SURNAME</th>\n      <th>COUNTRY</th>\n      <th>AGE</th>\n      <th>SALARY</th>\n    </tr>\n  </thead>\n  <tbody>\n    <tr>\n      <th>2</th>\n      <td>3</td>\n      <td>JACK</td>\n      <td>RYAN</td>\n      <td>GERMANY</td>\n      <td>32</td>\n      <td>200000</td>\n    </tr>\n    <tr>\n      <th>6</th>\n      <td>7</td>\n      <td>WANDA</td>\n      <td>RYAN</td>\n      <td>USA</td>\n      <td>36</td>\n      <td>150000</td>\n    </tr>\n    <tr>\n      <th>7</th>\n      <td>8</td>\n      <td>JOHNY</td>\n      <td>BRYAN</td>\n      <td>FRANCE</td>\n      <td>19</td>\n      <td>100000</td>\n    </tr>\n  </tbody>\n</table>\n</div>"
     },
     "execution_count": 20,
     "metadata": {},
     "output_type": "execute_result"
    }
   ],
   "source": [
    "# method 2: query function\n",
    "df.query('SURNAME.str.endswith(\"YAN\").values')"
   ],
   "metadata": {
    "collapsed": false,
    "pycharm": {
     "name": "#%%\n"
    }
   }
  },
  {
   "cell_type": "code",
   "execution_count": null,
   "outputs": [],
   "source": [
    "# LIKE OPERATOR - contains\n",
    "# SELECT * FROM TABLE WHERE NAME LIKE \"%OH%\""
   ],
   "metadata": {
    "collapsed": false,
    "pycharm": {
     "name": "#%%\n"
    }
   }
  },
  {
   "cell_type": "code",
   "execution_count": 21,
   "outputs": [
    {
     "data": {
      "text/plain": "   ID   NAME SURNAME COUNTRY  AGE  SALARY\n3   4   JOHN    WICK  CANADA   40  300000\n7   8  JOHNY   BRYAN  FRANCE   19  100000",
      "text/html": "<div>\n<style scoped>\n    .dataframe tbody tr th:only-of-type {\n        vertical-align: middle;\n    }\n\n    .dataframe tbody tr th {\n        vertical-align: top;\n    }\n\n    .dataframe thead th {\n        text-align: right;\n    }\n</style>\n<table border=\"1\" class=\"dataframe\">\n  <thead>\n    <tr style=\"text-align: right;\">\n      <th></th>\n      <th>ID</th>\n      <th>NAME</th>\n      <th>SURNAME</th>\n      <th>COUNTRY</th>\n      <th>AGE</th>\n      <th>SALARY</th>\n    </tr>\n  </thead>\n  <tbody>\n    <tr>\n      <th>3</th>\n      <td>4</td>\n      <td>JOHN</td>\n      <td>WICK</td>\n      <td>CANADA</td>\n      <td>40</td>\n      <td>300000</td>\n    </tr>\n    <tr>\n      <th>7</th>\n      <td>8</td>\n      <td>JOHNY</td>\n      <td>BRYAN</td>\n      <td>FRANCE</td>\n      <td>19</td>\n      <td>100000</td>\n    </tr>\n  </tbody>\n</table>\n</div>"
     },
     "execution_count": 21,
     "metadata": {},
     "output_type": "execute_result"
    }
   ],
   "source": [
    "# method 1: Dataframe way\n",
    "df[df.NAME.str.contains('OH')]"
   ],
   "metadata": {
    "collapsed": false,
    "pycharm": {
     "name": "#%%\n"
    }
   }
  },
  {
   "cell_type": "code",
   "execution_count": 22,
   "outputs": [
    {
     "data": {
      "text/plain": "   ID   NAME SURNAME COUNTRY  AGE  SALARY\n3   4   JOHN    WICK  CANADA   40  300000\n7   8  JOHNY   BRYAN  FRANCE   19  100000",
      "text/html": "<div>\n<style scoped>\n    .dataframe tbody tr th:only-of-type {\n        vertical-align: middle;\n    }\n\n    .dataframe tbody tr th {\n        vertical-align: top;\n    }\n\n    .dataframe thead th {\n        text-align: right;\n    }\n</style>\n<table border=\"1\" class=\"dataframe\">\n  <thead>\n    <tr style=\"text-align: right;\">\n      <th></th>\n      <th>ID</th>\n      <th>NAME</th>\n      <th>SURNAME</th>\n      <th>COUNTRY</th>\n      <th>AGE</th>\n      <th>SALARY</th>\n    </tr>\n  </thead>\n  <tbody>\n    <tr>\n      <th>3</th>\n      <td>4</td>\n      <td>JOHN</td>\n      <td>WICK</td>\n      <td>CANADA</td>\n      <td>40</td>\n      <td>300000</td>\n    </tr>\n    <tr>\n      <th>7</th>\n      <td>8</td>\n      <td>JOHNY</td>\n      <td>BRYAN</td>\n      <td>FRANCE</td>\n      <td>19</td>\n      <td>100000</td>\n    </tr>\n  </tbody>\n</table>\n</div>"
     },
     "execution_count": 22,
     "metadata": {},
     "output_type": "execute_result"
    }
   ],
   "source": [
    "# method 2: query function\n",
    "df.query('NAME.str.contains(\"OH\")')"
   ],
   "metadata": {
    "collapsed": false,
    "pycharm": {
     "name": "#%%\n"
    }
   }
  },
  {
   "cell_type": "code",
   "execution_count": null,
   "outputs": [],
   "source": [
    "# IS NULL\n",
    "# SELECT * FROM TABLE WHERE COUNTRY IS NULL"
   ],
   "metadata": {
    "collapsed": false,
    "pycharm": {
     "name": "#%%\n"
    }
   }
  },
  {
   "cell_type": "code",
   "execution_count": 23,
   "outputs": [
    {
     "data": {
      "text/plain": "   ID      NAME SURNAME  COUNTRY  AGE  SALARY\n0   1      ADAM   SMITH      NaN   25  150000\n1   2      PAUL  WAGNER   FRANCE   35  250000\n2   3      JACK    RYAN  GERMANY   32  200000\n3   4      JOHN    WICK   CANADA   40  300000\n4   5      ADAM   WAYNE      NaN   21  225000\n5   6  JENNIFER    NICK   CANADA   24  200000\n6   7     WANDA    RYAN      NaN   36  150000\n7   8     JOHNY   BRYAN   FRANCE   19  100000",
      "text/html": "<div>\n<style scoped>\n    .dataframe tbody tr th:only-of-type {\n        vertical-align: middle;\n    }\n\n    .dataframe tbody tr th {\n        vertical-align: top;\n    }\n\n    .dataframe thead th {\n        text-align: right;\n    }\n</style>\n<table border=\"1\" class=\"dataframe\">\n  <thead>\n    <tr style=\"text-align: right;\">\n      <th></th>\n      <th>ID</th>\n      <th>NAME</th>\n      <th>SURNAME</th>\n      <th>COUNTRY</th>\n      <th>AGE</th>\n      <th>SALARY</th>\n    </tr>\n  </thead>\n  <tbody>\n    <tr>\n      <th>0</th>\n      <td>1</td>\n      <td>ADAM</td>\n      <td>SMITH</td>\n      <td>NaN</td>\n      <td>25</td>\n      <td>150000</td>\n    </tr>\n    <tr>\n      <th>1</th>\n      <td>2</td>\n      <td>PAUL</td>\n      <td>WAGNER</td>\n      <td>FRANCE</td>\n      <td>35</td>\n      <td>250000</td>\n    </tr>\n    <tr>\n      <th>2</th>\n      <td>3</td>\n      <td>JACK</td>\n      <td>RYAN</td>\n      <td>GERMANY</td>\n      <td>32</td>\n      <td>200000</td>\n    </tr>\n    <tr>\n      <th>3</th>\n      <td>4</td>\n      <td>JOHN</td>\n      <td>WICK</td>\n      <td>CANADA</td>\n      <td>40</td>\n      <td>300000</td>\n    </tr>\n    <tr>\n      <th>4</th>\n      <td>5</td>\n      <td>ADAM</td>\n      <td>WAYNE</td>\n      <td>NaN</td>\n      <td>21</td>\n      <td>225000</td>\n    </tr>\n    <tr>\n      <th>5</th>\n      <td>6</td>\n      <td>JENNIFER</td>\n      <td>NICK</td>\n      <td>CANADA</td>\n      <td>24</td>\n      <td>200000</td>\n    </tr>\n    <tr>\n      <th>6</th>\n      <td>7</td>\n      <td>WANDA</td>\n      <td>RYAN</td>\n      <td>NaN</td>\n      <td>36</td>\n      <td>150000</td>\n    </tr>\n    <tr>\n      <th>7</th>\n      <td>8</td>\n      <td>JOHNY</td>\n      <td>BRYAN</td>\n      <td>FRANCE</td>\n      <td>19</td>\n      <td>100000</td>\n    </tr>\n  </tbody>\n</table>\n</div>"
     },
     "execution_count": 23,
     "metadata": {},
     "output_type": "execute_result"
    }
   ],
   "source": [
    "# Change USA to NaN\n",
    "import numpy as np\n",
    "\n",
    "df.loc[df.COUNTRY == \"USA\", 'COUNTRY'] = np.nan\n",
    "df"
   ],
   "metadata": {
    "collapsed": false,
    "pycharm": {
     "name": "#%%\n"
    }
   }
  },
  {
   "cell_type": "code",
   "execution_count": 24,
   "outputs": [
    {
     "data": {
      "text/plain": "   ID   NAME SURNAME COUNTRY  AGE  SALARY\n0   1   ADAM   SMITH     NaN   25  150000\n4   5   ADAM   WAYNE     NaN   21  225000\n6   7  WANDA    RYAN     NaN   36  150000",
      "text/html": "<div>\n<style scoped>\n    .dataframe tbody tr th:only-of-type {\n        vertical-align: middle;\n    }\n\n    .dataframe tbody tr th {\n        vertical-align: top;\n    }\n\n    .dataframe thead th {\n        text-align: right;\n    }\n</style>\n<table border=\"1\" class=\"dataframe\">\n  <thead>\n    <tr style=\"text-align: right;\">\n      <th></th>\n      <th>ID</th>\n      <th>NAME</th>\n      <th>SURNAME</th>\n      <th>COUNTRY</th>\n      <th>AGE</th>\n      <th>SALARY</th>\n    </tr>\n  </thead>\n  <tbody>\n    <tr>\n      <th>0</th>\n      <td>1</td>\n      <td>ADAM</td>\n      <td>SMITH</td>\n      <td>NaN</td>\n      <td>25</td>\n      <td>150000</td>\n    </tr>\n    <tr>\n      <th>4</th>\n      <td>5</td>\n      <td>ADAM</td>\n      <td>WAYNE</td>\n      <td>NaN</td>\n      <td>21</td>\n      <td>225000</td>\n    </tr>\n    <tr>\n      <th>6</th>\n      <td>7</td>\n      <td>WANDA</td>\n      <td>RYAN</td>\n      <td>NaN</td>\n      <td>36</td>\n      <td>150000</td>\n    </tr>\n  </tbody>\n</table>\n</div>"
     },
     "execution_count": 24,
     "metadata": {},
     "output_type": "execute_result"
    }
   ],
   "source": [
    "# method 1: Dataframe way\n",
    "df[df.COUNTRY.isnull()]\n",
    "df[df.COUNTRY.isna()]"
   ],
   "metadata": {
    "collapsed": false,
    "pycharm": {
     "name": "#%%\n"
    }
   }
  },
  {
   "cell_type": "code",
   "execution_count": 25,
   "outputs": [
    {
     "data": {
      "text/plain": "   ID   NAME SURNAME COUNTRY  AGE  SALARY\n0   1   ADAM   SMITH     NaN   25  150000\n4   5   ADAM   WAYNE     NaN   21  225000\n6   7  WANDA    RYAN     NaN   36  150000",
      "text/html": "<div>\n<style scoped>\n    .dataframe tbody tr th:only-of-type {\n        vertical-align: middle;\n    }\n\n    .dataframe tbody tr th {\n        vertical-align: top;\n    }\n\n    .dataframe thead th {\n        text-align: right;\n    }\n</style>\n<table border=\"1\" class=\"dataframe\">\n  <thead>\n    <tr style=\"text-align: right;\">\n      <th></th>\n      <th>ID</th>\n      <th>NAME</th>\n      <th>SURNAME</th>\n      <th>COUNTRY</th>\n      <th>AGE</th>\n      <th>SALARY</th>\n    </tr>\n  </thead>\n  <tbody>\n    <tr>\n      <th>0</th>\n      <td>1</td>\n      <td>ADAM</td>\n      <td>SMITH</td>\n      <td>NaN</td>\n      <td>25</td>\n      <td>150000</td>\n    </tr>\n    <tr>\n      <th>4</th>\n      <td>5</td>\n      <td>ADAM</td>\n      <td>WAYNE</td>\n      <td>NaN</td>\n      <td>21</td>\n      <td>225000</td>\n    </tr>\n    <tr>\n      <th>6</th>\n      <td>7</td>\n      <td>WANDA</td>\n      <td>RYAN</td>\n      <td>NaN</td>\n      <td>36</td>\n      <td>150000</td>\n    </tr>\n  </tbody>\n</table>\n</div>"
     },
     "execution_count": 25,
     "metadata": {},
     "output_type": "execute_result"
    }
   ],
   "source": [
    "# method 2: query function\n",
    "df.query('COUNTRY.isna()')\n",
    "df.query('COUNTRY.isnull()')"
   ],
   "metadata": {
    "collapsed": false,
    "pycharm": {
     "name": "#%%\n"
    }
   }
  },
  {
   "cell_type": "code",
   "execution_count": null,
   "outputs": [],
   "source": [
    "# IS NOT NULL\n",
    "# SELECT * FROM TABLE WHERE COUNTRY IS NOT NULL"
   ],
   "metadata": {
    "collapsed": false,
    "pycharm": {
     "name": "#%%\n"
    }
   }
  },
  {
   "cell_type": "code",
   "execution_count": 26,
   "outputs": [
    {
     "data": {
      "text/plain": "   ID      NAME SURNAME  COUNTRY  AGE  SALARY\n1   2      PAUL  WAGNER   FRANCE   35  250000\n2   3      JACK    RYAN  GERMANY   32  200000\n3   4      JOHN    WICK   CANADA   40  300000\n5   6  JENNIFER    NICK   CANADA   24  200000\n7   8     JOHNY   BRYAN   FRANCE   19  100000",
      "text/html": "<div>\n<style scoped>\n    .dataframe tbody tr th:only-of-type {\n        vertical-align: middle;\n    }\n\n    .dataframe tbody tr th {\n        vertical-align: top;\n    }\n\n    .dataframe thead th {\n        text-align: right;\n    }\n</style>\n<table border=\"1\" class=\"dataframe\">\n  <thead>\n    <tr style=\"text-align: right;\">\n      <th></th>\n      <th>ID</th>\n      <th>NAME</th>\n      <th>SURNAME</th>\n      <th>COUNTRY</th>\n      <th>AGE</th>\n      <th>SALARY</th>\n    </tr>\n  </thead>\n  <tbody>\n    <tr>\n      <th>1</th>\n      <td>2</td>\n      <td>PAUL</td>\n      <td>WAGNER</td>\n      <td>FRANCE</td>\n      <td>35</td>\n      <td>250000</td>\n    </tr>\n    <tr>\n      <th>2</th>\n      <td>3</td>\n      <td>JACK</td>\n      <td>RYAN</td>\n      <td>GERMANY</td>\n      <td>32</td>\n      <td>200000</td>\n    </tr>\n    <tr>\n      <th>3</th>\n      <td>4</td>\n      <td>JOHN</td>\n      <td>WICK</td>\n      <td>CANADA</td>\n      <td>40</td>\n      <td>300000</td>\n    </tr>\n    <tr>\n      <th>5</th>\n      <td>6</td>\n      <td>JENNIFER</td>\n      <td>NICK</td>\n      <td>CANADA</td>\n      <td>24</td>\n      <td>200000</td>\n    </tr>\n    <tr>\n      <th>7</th>\n      <td>8</td>\n      <td>JOHNY</td>\n      <td>BRYAN</td>\n      <td>FRANCE</td>\n      <td>19</td>\n      <td>100000</td>\n    </tr>\n  </tbody>\n</table>\n</div>"
     },
     "execution_count": 26,
     "metadata": {},
     "output_type": "execute_result"
    }
   ],
   "source": [
    "# method 1: Dataframe way\n",
    "df[df.COUNTRY.notna()]\n",
    "df[df.COUNTRY.notnull()]"
   ],
   "metadata": {
    "collapsed": false,
    "pycharm": {
     "name": "#%%\n"
    }
   }
  },
  {
   "cell_type": "code",
   "execution_count": 27,
   "outputs": [
    {
     "data": {
      "text/plain": "   ID      NAME SURNAME  COUNTRY  AGE  SALARY\n1   2      PAUL  WAGNER   FRANCE   35  250000\n2   3      JACK    RYAN  GERMANY   32  200000\n3   4      JOHN    WICK   CANADA   40  300000\n5   6  JENNIFER    NICK   CANADA   24  200000\n7   8     JOHNY   BRYAN   FRANCE   19  100000",
      "text/html": "<div>\n<style scoped>\n    .dataframe tbody tr th:only-of-type {\n        vertical-align: middle;\n    }\n\n    .dataframe tbody tr th {\n        vertical-align: top;\n    }\n\n    .dataframe thead th {\n        text-align: right;\n    }\n</style>\n<table border=\"1\" class=\"dataframe\">\n  <thead>\n    <tr style=\"text-align: right;\">\n      <th></th>\n      <th>ID</th>\n      <th>NAME</th>\n      <th>SURNAME</th>\n      <th>COUNTRY</th>\n      <th>AGE</th>\n      <th>SALARY</th>\n    </tr>\n  </thead>\n  <tbody>\n    <tr>\n      <th>1</th>\n      <td>2</td>\n      <td>PAUL</td>\n      <td>WAGNER</td>\n      <td>FRANCE</td>\n      <td>35</td>\n      <td>250000</td>\n    </tr>\n    <tr>\n      <th>2</th>\n      <td>3</td>\n      <td>JACK</td>\n      <td>RYAN</td>\n      <td>GERMANY</td>\n      <td>32</td>\n      <td>200000</td>\n    </tr>\n    <tr>\n      <th>3</th>\n      <td>4</td>\n      <td>JOHN</td>\n      <td>WICK</td>\n      <td>CANADA</td>\n      <td>40</td>\n      <td>300000</td>\n    </tr>\n    <tr>\n      <th>5</th>\n      <td>6</td>\n      <td>JENNIFER</td>\n      <td>NICK</td>\n      <td>CANADA</td>\n      <td>24</td>\n      <td>200000</td>\n    </tr>\n    <tr>\n      <th>7</th>\n      <td>8</td>\n      <td>JOHNY</td>\n      <td>BRYAN</td>\n      <td>FRANCE</td>\n      <td>19</td>\n      <td>100000</td>\n    </tr>\n  </tbody>\n</table>\n</div>"
     },
     "execution_count": 27,
     "metadata": {},
     "output_type": "execute_result"
    }
   ],
   "source": [
    "# method 2: query function\n",
    "df.query('COUNTRY.notna()')\n",
    "df.query('COUNTRY.notnull()')"
   ],
   "metadata": {
    "collapsed": false,
    "pycharm": {
     "name": "#%%\n"
    }
   }
  },
  {
   "cell_type": "code",
   "execution_count": 28,
   "outputs": [
    {
     "data": {
      "text/plain": "   ID      NAME SURNAME  COUNTRY  AGE  SALARY MEMBER_DATE\n0   1      ADAM   SMITH      NaN   25  150000  2021-02-14\n1   2      PAUL  WAGNER   FRANCE   35  250000  2005-03-17\n2   3      JACK    RYAN  GERMANY   32  200000  2000-03-01\n3   4      JOHN    WICK   CANADA   40  300000  1999-01-19\n4   5      ADAM   WAYNE      NaN   21  225000  2011-04-24\n5   6  JENNIFER    NICK   CANADA   24  200000  2008-11-10\n6   7     WANDA    RYAN      NaN   36  150000  2015-11-30\n7   8     JOHNY   BRYAN   FRANCE   19  100000  2019-04-19",
      "text/html": "<div>\n<style scoped>\n    .dataframe tbody tr th:only-of-type {\n        vertical-align: middle;\n    }\n\n    .dataframe tbody tr th {\n        vertical-align: top;\n    }\n\n    .dataframe thead th {\n        text-align: right;\n    }\n</style>\n<table border=\"1\" class=\"dataframe\">\n  <thead>\n    <tr style=\"text-align: right;\">\n      <th></th>\n      <th>ID</th>\n      <th>NAME</th>\n      <th>SURNAME</th>\n      <th>COUNTRY</th>\n      <th>AGE</th>\n      <th>SALARY</th>\n      <th>MEMBER_DATE</th>\n    </tr>\n  </thead>\n  <tbody>\n    <tr>\n      <th>0</th>\n      <td>1</td>\n      <td>ADAM</td>\n      <td>SMITH</td>\n      <td>NaN</td>\n      <td>25</td>\n      <td>150000</td>\n      <td>2021-02-14</td>\n    </tr>\n    <tr>\n      <th>1</th>\n      <td>2</td>\n      <td>PAUL</td>\n      <td>WAGNER</td>\n      <td>FRANCE</td>\n      <td>35</td>\n      <td>250000</td>\n      <td>2005-03-17</td>\n    </tr>\n    <tr>\n      <th>2</th>\n      <td>3</td>\n      <td>JACK</td>\n      <td>RYAN</td>\n      <td>GERMANY</td>\n      <td>32</td>\n      <td>200000</td>\n      <td>2000-03-01</td>\n    </tr>\n    <tr>\n      <th>3</th>\n      <td>4</td>\n      <td>JOHN</td>\n      <td>WICK</td>\n      <td>CANADA</td>\n      <td>40</td>\n      <td>300000</td>\n      <td>1999-01-19</td>\n    </tr>\n    <tr>\n      <th>4</th>\n      <td>5</td>\n      <td>ADAM</td>\n      <td>WAYNE</td>\n      <td>NaN</td>\n      <td>21</td>\n      <td>225000</td>\n      <td>2011-04-24</td>\n    </tr>\n    <tr>\n      <th>5</th>\n      <td>6</td>\n      <td>JENNIFER</td>\n      <td>NICK</td>\n      <td>CANADA</td>\n      <td>24</td>\n      <td>200000</td>\n      <td>2008-11-10</td>\n    </tr>\n    <tr>\n      <th>6</th>\n      <td>7</td>\n      <td>WANDA</td>\n      <td>RYAN</td>\n      <td>NaN</td>\n      <td>36</td>\n      <td>150000</td>\n      <td>2015-11-30</td>\n    </tr>\n    <tr>\n      <th>7</th>\n      <td>8</td>\n      <td>JOHNY</td>\n      <td>BRYAN</td>\n      <td>FRANCE</td>\n      <td>19</td>\n      <td>100000</td>\n      <td>2019-04-19</td>\n    </tr>\n  </tbody>\n</table>\n</div>"
     },
     "execution_count": 28,
     "metadata": {},
     "output_type": "execute_result"
    }
   ],
   "source": [
    "# FILTER DATES\n",
    "df['MEMBER_DATE'] = [\n",
    "    '2021-02-14','2005-03-17','2000-03-01','1999-01-19',\n",
    "    '2011-04-24','2008-11-10','2015-11-30','2019-04-19'\n",
    "]\n",
    "\n",
    "df"
   ],
   "metadata": {
    "collapsed": false,
    "pycharm": {
     "name": "#%%\n"
    }
   }
  },
  {
   "cell_type": "code",
   "execution_count": null,
   "outputs": [],
   "source": [
    "# FILTER STRING DATES\n",
    "# SELECT * FROM TABLE WHERE MEMBER_DATE > '2015-01-01'"
   ],
   "metadata": {
    "collapsed": false,
    "pycharm": {
     "name": "#%%\n"
    }
   }
  },
  {
   "cell_type": "code",
   "execution_count": 29,
   "outputs": [
    {
     "data": {
      "text/plain": "   ID   NAME SURNAME COUNTRY  AGE  SALARY MEMBER_DATE\n0   1   ADAM   SMITH     NaN   25  150000  2021-02-14\n6   7  WANDA    RYAN     NaN   36  150000  2015-11-30\n7   8  JOHNY   BRYAN  FRANCE   19  100000  2019-04-19",
      "text/html": "<div>\n<style scoped>\n    .dataframe tbody tr th:only-of-type {\n        vertical-align: middle;\n    }\n\n    .dataframe tbody tr th {\n        vertical-align: top;\n    }\n\n    .dataframe thead th {\n        text-align: right;\n    }\n</style>\n<table border=\"1\" class=\"dataframe\">\n  <thead>\n    <tr style=\"text-align: right;\">\n      <th></th>\n      <th>ID</th>\n      <th>NAME</th>\n      <th>SURNAME</th>\n      <th>COUNTRY</th>\n      <th>AGE</th>\n      <th>SALARY</th>\n      <th>MEMBER_DATE</th>\n    </tr>\n  </thead>\n  <tbody>\n    <tr>\n      <th>0</th>\n      <td>1</td>\n      <td>ADAM</td>\n      <td>SMITH</td>\n      <td>NaN</td>\n      <td>25</td>\n      <td>150000</td>\n      <td>2021-02-14</td>\n    </tr>\n    <tr>\n      <th>6</th>\n      <td>7</td>\n      <td>WANDA</td>\n      <td>RYAN</td>\n      <td>NaN</td>\n      <td>36</td>\n      <td>150000</td>\n      <td>2015-11-30</td>\n    </tr>\n    <tr>\n      <th>7</th>\n      <td>8</td>\n      <td>JOHNY</td>\n      <td>BRYAN</td>\n      <td>FRANCE</td>\n      <td>19</td>\n      <td>100000</td>\n      <td>2019-04-19</td>\n    </tr>\n  </tbody>\n</table>\n</div>"
     },
     "execution_count": 29,
     "metadata": {},
     "output_type": "execute_result"
    }
   ],
   "source": [
    "# method 1: Dataframe way\n",
    "df[df.MEMBER_DATE > '2015-01-01']"
   ],
   "metadata": {
    "collapsed": false,
    "pycharm": {
     "name": "#%%\n"
    }
   }
  },
  {
   "cell_type": "code",
   "execution_count": 30,
   "outputs": [
    {
     "data": {
      "text/plain": "   ID   NAME SURNAME COUNTRY  AGE  SALARY MEMBER_DATE\n0   1   ADAM   SMITH     NaN   25  150000  2021-02-14\n6   7  WANDA    RYAN     NaN   36  150000  2015-11-30\n7   8  JOHNY   BRYAN  FRANCE   19  100000  2019-04-19",
      "text/html": "<div>\n<style scoped>\n    .dataframe tbody tr th:only-of-type {\n        vertical-align: middle;\n    }\n\n    .dataframe tbody tr th {\n        vertical-align: top;\n    }\n\n    .dataframe thead th {\n        text-align: right;\n    }\n</style>\n<table border=\"1\" class=\"dataframe\">\n  <thead>\n    <tr style=\"text-align: right;\">\n      <th></th>\n      <th>ID</th>\n      <th>NAME</th>\n      <th>SURNAME</th>\n      <th>COUNTRY</th>\n      <th>AGE</th>\n      <th>SALARY</th>\n      <th>MEMBER_DATE</th>\n    </tr>\n  </thead>\n  <tbody>\n    <tr>\n      <th>0</th>\n      <td>1</td>\n      <td>ADAM</td>\n      <td>SMITH</td>\n      <td>NaN</td>\n      <td>25</td>\n      <td>150000</td>\n      <td>2021-02-14</td>\n    </tr>\n    <tr>\n      <th>6</th>\n      <td>7</td>\n      <td>WANDA</td>\n      <td>RYAN</td>\n      <td>NaN</td>\n      <td>36</td>\n      <td>150000</td>\n      <td>2015-11-30</td>\n    </tr>\n    <tr>\n      <th>7</th>\n      <td>8</td>\n      <td>JOHNY</td>\n      <td>BRYAN</td>\n      <td>FRANCE</td>\n      <td>19</td>\n      <td>100000</td>\n      <td>2019-04-19</td>\n    </tr>\n  </tbody>\n</table>\n</div>"
     },
     "execution_count": 30,
     "metadata": {},
     "output_type": "execute_result"
    }
   ],
   "source": [
    "# FILTER STRING DATES\n",
    "# method 2: query function\n",
    "df.query(\"MEMBER_DATE > '2015-01-01'\")"
   ],
   "metadata": {
    "collapsed": false,
    "pycharm": {
     "name": "#%%\n"
    }
   }
  },
  {
   "cell_type": "code",
   "execution_count": null,
   "outputs": [],
   "source": [
    "# FILTER DATETIME DATES\n",
    "# SELECT * FROM TABLE WHERE YEAR(MEMBER_DATE) > 2015"
   ],
   "metadata": {
    "collapsed": false,
    "pycharm": {
     "name": "#%%\n"
    }
   }
  },
  {
   "cell_type": "code",
   "execution_count": 31,
   "outputs": [],
   "source": [
    "df.MEMBER_DATE = pd.to_datetime(df.MEMBER_DATE)"
   ],
   "metadata": {
    "collapsed": false,
    "pycharm": {
     "name": "#%%\n"
    }
   }
  },
  {
   "cell_type": "code",
   "execution_count": 42,
   "outputs": [
    {
     "data": {
      "text/plain": "   ID  NAME SURNAME  COUNTRY  AGE  SALARY MEMBER_DATE\n2   3  JACK    RYAN  GERMANY   32  200000  2000-03-01\n3   4  JOHN    WICK   CANADA   40  300000  1999-01-19",
      "text/html": "<div>\n<style scoped>\n    .dataframe tbody tr th:only-of-type {\n        vertical-align: middle;\n    }\n\n    .dataframe tbody tr th {\n        vertical-align: top;\n    }\n\n    .dataframe thead th {\n        text-align: right;\n    }\n</style>\n<table border=\"1\" class=\"dataframe\">\n  <thead>\n    <tr style=\"text-align: right;\">\n      <th></th>\n      <th>ID</th>\n      <th>NAME</th>\n      <th>SURNAME</th>\n      <th>COUNTRY</th>\n      <th>AGE</th>\n      <th>SALARY</th>\n      <th>MEMBER_DATE</th>\n    </tr>\n  </thead>\n  <tbody>\n    <tr>\n      <th>2</th>\n      <td>3</td>\n      <td>JACK</td>\n      <td>RYAN</td>\n      <td>GERMANY</td>\n      <td>32</td>\n      <td>200000</td>\n      <td>2000-03-01</td>\n    </tr>\n    <tr>\n      <th>3</th>\n      <td>4</td>\n      <td>JOHN</td>\n      <td>WICK</td>\n      <td>CANADA</td>\n      <td>40</td>\n      <td>300000</td>\n      <td>1999-01-19</td>\n    </tr>\n  </tbody>\n</table>\n</div>"
     },
     "execution_count": 42,
     "metadata": {},
     "output_type": "execute_result"
    }
   ],
   "source": [
    "# method 1: Dataframe way\n",
    "df[df.MEMBER_DATE.dt.year < 2005]"
   ],
   "metadata": {
    "collapsed": false,
    "pycharm": {
     "name": "#%%\n"
    }
   }
  },
  {
   "cell_type": "code",
   "execution_count": 69,
   "outputs": [
    {
     "data": {
      "text/plain": "   ID  NAME SURNAME  COUNTRY  AGE  SALARY MEMBER_DATE\n2   3  JACK    RYAN  GERMANY   32  200000  2000-03-01\n3   4  JOHN    WICK      NaN   40  300000  1999-01-19",
      "text/html": "<div>\n<style scoped>\n    .dataframe tbody tr th:only-of-type {\n        vertical-align: middle;\n    }\n\n    .dataframe tbody tr th {\n        vertical-align: top;\n    }\n\n    .dataframe thead th {\n        text-align: right;\n    }\n</style>\n<table border=\"1\" class=\"dataframe\">\n  <thead>\n    <tr style=\"text-align: right;\">\n      <th></th>\n      <th>ID</th>\n      <th>NAME</th>\n      <th>SURNAME</th>\n      <th>COUNTRY</th>\n      <th>AGE</th>\n      <th>SALARY</th>\n      <th>MEMBER_DATE</th>\n    </tr>\n  </thead>\n  <tbody>\n    <tr>\n      <th>2</th>\n      <td>3</td>\n      <td>JACK</td>\n      <td>RYAN</td>\n      <td>GERMANY</td>\n      <td>32</td>\n      <td>200000</td>\n      <td>2000-03-01</td>\n    </tr>\n    <tr>\n      <th>3</th>\n      <td>4</td>\n      <td>JOHN</td>\n      <td>WICK</td>\n      <td>NaN</td>\n      <td>40</td>\n      <td>300000</td>\n      <td>1999-01-19</td>\n    </tr>\n  </tbody>\n</table>\n</div>"
     },
     "execution_count": 69,
     "metadata": {},
     "output_type": "execute_result"
    }
   ],
   "source": [
    "# method 2: query function\n",
    "df.query(\"MEMBER_DATE.dt.year < 2005\")"
   ],
   "metadata": {
    "collapsed": false,
    "pycharm": {
     "name": "#%%\n"
    }
   }
  },
  {
   "cell_type": "code",
   "execution_count": 38,
   "outputs": [
    {
     "name": "stdout",
     "output_type": "stream",
     "text": [
      "Date 2021-02-14 00:00:00\n",
      "+1 Day 2021-02-15 00:00:00\n",
      "+1 Week 2021-02-21 00:00:00\n",
      "+1 Month 2021-03-14 00:00:00\n",
      "+1 Year 2022-02-14 00:00:00\n",
      "-1 Year 2020-02-14 00:00:00\n"
     ]
    }
   ],
   "source": [
    "from dateutil.relativedelta import *\n",
    "import datetime\n",
    "\n",
    "date = df.MEMBER_DATE[0]\n",
    "\n",
    "print('Date', date)                                 # Date 2021-02-14 00:00:00\n",
    "print('+1 Day', date + relativedelta(days=+1))      # +1 Day 2021-02-15 00:00:00\n",
    "print('+1 Week', date + relativedelta(weeks=+1))    # +1 Week 2021-02-21 00:00:00\n",
    "print('+1 Month', date + relativedelta(months=+1))  # +1 Month 2021-03-14 00:00:00\n",
    "print('+1 Year', date + relativedelta(years=+1))    # +1 Year 2022-02-14 00:00:00\n",
    "print('-1 Year', date + relativedelta(years=-1))    # -1 Year 2020-02-14 00:00:00"
   ],
   "metadata": {
    "collapsed": false,
    "pycharm": {
     "name": "#%%\n"
    }
   }
  },
  {
   "cell_type": "code",
   "execution_count": null,
   "outputs": [],
   "source": [
    "# BASIC OPERATIONS\n",
    "# SELECT * FROM TABLE WHERE SALARY / 20 < 12000;"
   ],
   "metadata": {
    "collapsed": false,
    "pycharm": {
     "name": "#%%\n"
    }
   }
  },
  {
   "cell_type": "code",
   "execution_count": 48,
   "outputs": [
    {
     "data": {
      "text/plain": "   ID  NAME SURNAME COUNTRY  AGE  SALARY MEMBER_DATE\n1   2  PAUL  WAGNER  FRANCE   35  250000  2005-03-17\n3   4  JOHN    WICK  CANADA   40  300000  1999-01-19",
      "text/html": "<div>\n<style scoped>\n    .dataframe tbody tr th:only-of-type {\n        vertical-align: middle;\n    }\n\n    .dataframe tbody tr th {\n        vertical-align: top;\n    }\n\n    .dataframe thead th {\n        text-align: right;\n    }\n</style>\n<table border=\"1\" class=\"dataframe\">\n  <thead>\n    <tr style=\"text-align: right;\">\n      <th></th>\n      <th>ID</th>\n      <th>NAME</th>\n      <th>SURNAME</th>\n      <th>COUNTRY</th>\n      <th>AGE</th>\n      <th>SALARY</th>\n      <th>MEMBER_DATE</th>\n    </tr>\n  </thead>\n  <tbody>\n    <tr>\n      <th>1</th>\n      <td>2</td>\n      <td>PAUL</td>\n      <td>WAGNER</td>\n      <td>FRANCE</td>\n      <td>35</td>\n      <td>250000</td>\n      <td>2005-03-17</td>\n    </tr>\n    <tr>\n      <th>3</th>\n      <td>4</td>\n      <td>JOHN</td>\n      <td>WICK</td>\n      <td>CANADA</td>\n      <td>40</td>\n      <td>300000</td>\n      <td>1999-01-19</td>\n    </tr>\n  </tbody>\n</table>\n</div>"
     },
     "execution_count": 48,
     "metadata": {},
     "output_type": "execute_result"
    }
   ],
   "source": [
    "# method 1: Dataframe way\n",
    "df[(df.SALARY / 20 > 12000)]"
   ],
   "metadata": {
    "collapsed": false,
    "pycharm": {
     "name": "#%%\n"
    }
   }
  },
  {
   "cell_type": "code",
   "execution_count": 45,
   "outputs": [
    {
     "data": {
      "text/plain": "   ID  NAME SURNAME COUNTRY  AGE  SALARY MEMBER_DATE\n1   2  PAUL  WAGNER  FRANCE   35  250000  2005-03-17\n3   4  JOHN    WICK  CANADA   40  300000  1999-01-19",
      "text/html": "<div>\n<style scoped>\n    .dataframe tbody tr th:only-of-type {\n        vertical-align: middle;\n    }\n\n    .dataframe tbody tr th {\n        vertical-align: top;\n    }\n\n    .dataframe thead th {\n        text-align: right;\n    }\n</style>\n<table border=\"1\" class=\"dataframe\">\n  <thead>\n    <tr style=\"text-align: right;\">\n      <th></th>\n      <th>ID</th>\n      <th>NAME</th>\n      <th>SURNAME</th>\n      <th>COUNTRY</th>\n      <th>AGE</th>\n      <th>SALARY</th>\n      <th>MEMBER_DATE</th>\n    </tr>\n  </thead>\n  <tbody>\n    <tr>\n      <th>1</th>\n      <td>2</td>\n      <td>PAUL</td>\n      <td>WAGNER</td>\n      <td>FRANCE</td>\n      <td>35</td>\n      <td>250000</td>\n      <td>2005-03-17</td>\n    </tr>\n    <tr>\n      <th>3</th>\n      <td>4</td>\n      <td>JOHN</td>\n      <td>WICK</td>\n      <td>CANADA</td>\n      <td>40</td>\n      <td>300000</td>\n      <td>1999-01-19</td>\n    </tr>\n  </tbody>\n</table>\n</div>"
     },
     "execution_count": 45,
     "metadata": {},
     "output_type": "execute_result"
    }
   ],
   "source": [
    "# method 2: query function\n",
    "df.query(\"SALARY / 20 > 12000\")"
   ],
   "metadata": {
    "collapsed": false,
    "pycharm": {
     "name": "#%%\n"
    }
   }
  },
  {
   "cell_type": "code",
   "execution_count": null,
   "outputs": [],
   "source": [
    "# SELECT * FROM TABLE WHERE NAME > 'JO';"
   ],
   "metadata": {
    "collapsed": false,
    "pycharm": {
     "name": "#%%\n"
    }
   }
  },
  {
   "cell_type": "code",
   "execution_count": 50,
   "outputs": [
    {
     "data": {
      "text/plain": "   ID   NAME SURNAME COUNTRY  AGE  SALARY MEMBER_DATE\n1   2   PAUL  WAGNER  FRANCE   35  250000  2005-03-17\n3   4   JOHN    WICK  CANADA   40  300000  1999-01-19\n6   7  WANDA    RYAN     NaN   36  150000  2015-11-30\n7   8  JOHNY   BRYAN  FRANCE   19  100000  2019-04-19",
      "text/html": "<div>\n<style scoped>\n    .dataframe tbody tr th:only-of-type {\n        vertical-align: middle;\n    }\n\n    .dataframe tbody tr th {\n        vertical-align: top;\n    }\n\n    .dataframe thead th {\n        text-align: right;\n    }\n</style>\n<table border=\"1\" class=\"dataframe\">\n  <thead>\n    <tr style=\"text-align: right;\">\n      <th></th>\n      <th>ID</th>\n      <th>NAME</th>\n      <th>SURNAME</th>\n      <th>COUNTRY</th>\n      <th>AGE</th>\n      <th>SALARY</th>\n      <th>MEMBER_DATE</th>\n    </tr>\n  </thead>\n  <tbody>\n    <tr>\n      <th>1</th>\n      <td>2</td>\n      <td>PAUL</td>\n      <td>WAGNER</td>\n      <td>FRANCE</td>\n      <td>35</td>\n      <td>250000</td>\n      <td>2005-03-17</td>\n    </tr>\n    <tr>\n      <th>3</th>\n      <td>4</td>\n      <td>JOHN</td>\n      <td>WICK</td>\n      <td>CANADA</td>\n      <td>40</td>\n      <td>300000</td>\n      <td>1999-01-19</td>\n    </tr>\n    <tr>\n      <th>6</th>\n      <td>7</td>\n      <td>WANDA</td>\n      <td>RYAN</td>\n      <td>NaN</td>\n      <td>36</td>\n      <td>150000</td>\n      <td>2015-11-30</td>\n    </tr>\n    <tr>\n      <th>7</th>\n      <td>8</td>\n      <td>JOHNY</td>\n      <td>BRYAN</td>\n      <td>FRANCE</td>\n      <td>19</td>\n      <td>100000</td>\n      <td>2019-04-19</td>\n    </tr>\n  </tbody>\n</table>\n</div>"
     },
     "execution_count": 50,
     "metadata": {},
     "output_type": "execute_result"
    }
   ],
   "source": [
    "# method 1: Dataframe way\n",
    "df[(df.NAME > 'JO')]"
   ],
   "metadata": {
    "collapsed": false,
    "pycharm": {
     "name": "#%%\n"
    }
   }
  },
  {
   "cell_type": "code",
   "execution_count": 76,
   "outputs": [
    {
     "data": {
      "text/plain": "   ID   NAME SURNAME COUNTRY  AGE  SALARY MEMBER_DATE\n1   2   PAUL  WAGNER  FRANCE   35  250000  2005-03-17\n3   4   JOHN    WICK     NaN   40  300000  1999-01-19\n6   7  WANDA    RYAN     USA   36  150000  2015-11-30\n7   8  JOHNY   BRYAN  FRANCE   19  100000  2019-04-19",
      "text/html": "<div>\n<style scoped>\n    .dataframe tbody tr th:only-of-type {\n        vertical-align: middle;\n    }\n\n    .dataframe tbody tr th {\n        vertical-align: top;\n    }\n\n    .dataframe thead th {\n        text-align: right;\n    }\n</style>\n<table border=\"1\" class=\"dataframe\">\n  <thead>\n    <tr style=\"text-align: right;\">\n      <th></th>\n      <th>ID</th>\n      <th>NAME</th>\n      <th>SURNAME</th>\n      <th>COUNTRY</th>\n      <th>AGE</th>\n      <th>SALARY</th>\n      <th>MEMBER_DATE</th>\n    </tr>\n  </thead>\n  <tbody>\n    <tr>\n      <th>1</th>\n      <td>2</td>\n      <td>PAUL</td>\n      <td>WAGNER</td>\n      <td>FRANCE</td>\n      <td>35</td>\n      <td>250000</td>\n      <td>2005-03-17</td>\n    </tr>\n    <tr>\n      <th>3</th>\n      <td>4</td>\n      <td>JOHN</td>\n      <td>WICK</td>\n      <td>NaN</td>\n      <td>40</td>\n      <td>300000</td>\n      <td>1999-01-19</td>\n    </tr>\n    <tr>\n      <th>6</th>\n      <td>7</td>\n      <td>WANDA</td>\n      <td>RYAN</td>\n      <td>USA</td>\n      <td>36</td>\n      <td>150000</td>\n      <td>2015-11-30</td>\n    </tr>\n    <tr>\n      <th>7</th>\n      <td>8</td>\n      <td>JOHNY</td>\n      <td>BRYAN</td>\n      <td>FRANCE</td>\n      <td>19</td>\n      <td>100000</td>\n      <td>2019-04-19</td>\n    </tr>\n  </tbody>\n</table>\n</div>"
     },
     "execution_count": 76,
     "metadata": {},
     "output_type": "execute_result"
    }
   ],
   "source": [
    "# method 2: query function\n",
    "df.query(\"NAME > 'JO'\")"
   ],
   "metadata": {
    "collapsed": false,
    "pycharm": {
     "name": "#%%\n"
    }
   }
  },
  {
   "cell_type": "code",
   "execution_count": null,
   "outputs": [],
   "source": [
    "# SELECT * FROM TABLE WHERE SALARY  * 20 > @VALUE;\n",
    "value = 500000"
   ],
   "metadata": {
    "collapsed": false,
    "pycharm": {
     "name": "#%%\n"
    }
   }
  },
  {
   "cell_type": "code",
   "execution_count": 56,
   "outputs": [
    {
     "data": {
      "text/plain": "   ID  NAME SURNAME COUNTRY  AGE  SALARY MEMBER_DATE\n3   4  JOHN    WICK  CANADA   40  300000  1999-01-19",
      "text/html": "<div>\n<style scoped>\n    .dataframe tbody tr th:only-of-type {\n        vertical-align: middle;\n    }\n\n    .dataframe tbody tr th {\n        vertical-align: top;\n    }\n\n    .dataframe thead th {\n        text-align: right;\n    }\n</style>\n<table border=\"1\" class=\"dataframe\">\n  <thead>\n    <tr style=\"text-align: right;\">\n      <th></th>\n      <th>ID</th>\n      <th>NAME</th>\n      <th>SURNAME</th>\n      <th>COUNTRY</th>\n      <th>AGE</th>\n      <th>SALARY</th>\n      <th>MEMBER_DATE</th>\n    </tr>\n  </thead>\n  <tbody>\n    <tr>\n      <th>3</th>\n      <td>4</td>\n      <td>JOHN</td>\n      <td>WICK</td>\n      <td>CANADA</td>\n      <td>40</td>\n      <td>300000</td>\n      <td>1999-01-19</td>\n    </tr>\n  </tbody>\n</table>\n</div>"
     },
     "execution_count": 56,
     "metadata": {},
     "output_type": "execute_result"
    }
   ],
   "source": [
    "# method 1: Dataframe way\n",
    "df[(df.SALARY * 2 > value)]"
   ],
   "metadata": {
    "collapsed": false,
    "pycharm": {
     "name": "#%%\n"
    }
   }
  },
  {
   "cell_type": "code",
   "execution_count": 55,
   "outputs": [
    {
     "data": {
      "text/plain": "   ID  NAME SURNAME COUNTRY  AGE  SALARY MEMBER_DATE\n3   4  JOHN    WICK  CANADA   40  300000  1999-01-19",
      "text/html": "<div>\n<style scoped>\n    .dataframe tbody tr th:only-of-type {\n        vertical-align: middle;\n    }\n\n    .dataframe tbody tr th {\n        vertical-align: top;\n    }\n\n    .dataframe thead th {\n        text-align: right;\n    }\n</style>\n<table border=\"1\" class=\"dataframe\">\n  <thead>\n    <tr style=\"text-align: right;\">\n      <th></th>\n      <th>ID</th>\n      <th>NAME</th>\n      <th>SURNAME</th>\n      <th>COUNTRY</th>\n      <th>AGE</th>\n      <th>SALARY</th>\n      <th>MEMBER_DATE</th>\n    </tr>\n  </thead>\n  <tbody>\n    <tr>\n      <th>3</th>\n      <td>4</td>\n      <td>JOHN</td>\n      <td>WICK</td>\n      <td>CANADA</td>\n      <td>40</td>\n      <td>300000</td>\n      <td>1999-01-19</td>\n    </tr>\n  </tbody>\n</table>\n</div>"
     },
     "execution_count": 55,
     "metadata": {},
     "output_type": "execute_result"
    }
   ],
   "source": [
    "# method 2: query function\n",
    "df.query(\"SALARY * 2 > @value\")"
   ],
   "metadata": {
    "collapsed": false,
    "pycharm": {
     "name": "#%%\n"
    }
   }
  },
  {
   "cell_type": "code",
   "execution_count": null,
   "outputs": [],
   "source": [
    "# SELECT * FROM TABLE WHERE CONCAT(NAME, ' ' ,SURNAME) = 'PAUL WAGNER'\n",
    "df['FULL NAME'] = df['NAME'] + ' ' + df[\"SURNAME\"]"
   ],
   "metadata": {
    "collapsed": false,
    "pycharm": {
     "name": "#%%\n"
    }
   }
  },
  {
   "cell_type": "code",
   "execution_count": 59,
   "outputs": [
    {
     "data": {
      "text/plain": "   ID  NAME SURNAME COUNTRY  AGE  SALARY MEMBER_DATE    FULL NAME\n1   2  PAUL  WAGNER  FRANCE   35  250000  2005-03-17  PAUL WAGNER",
      "text/html": "<div>\n<style scoped>\n    .dataframe tbody tr th:only-of-type {\n        vertical-align: middle;\n    }\n\n    .dataframe tbody tr th {\n        vertical-align: top;\n    }\n\n    .dataframe thead th {\n        text-align: right;\n    }\n</style>\n<table border=\"1\" class=\"dataframe\">\n  <thead>\n    <tr style=\"text-align: right;\">\n      <th></th>\n      <th>ID</th>\n      <th>NAME</th>\n      <th>SURNAME</th>\n      <th>COUNTRY</th>\n      <th>AGE</th>\n      <th>SALARY</th>\n      <th>MEMBER_DATE</th>\n      <th>FULL NAME</th>\n    </tr>\n  </thead>\n  <tbody>\n    <tr>\n      <th>1</th>\n      <td>2</td>\n      <td>PAUL</td>\n      <td>WAGNER</td>\n      <td>FRANCE</td>\n      <td>35</td>\n      <td>250000</td>\n      <td>2005-03-17</td>\n      <td>PAUL WAGNER</td>\n    </tr>\n  </tbody>\n</table>\n</div>"
     },
     "execution_count": 59,
     "metadata": {},
     "output_type": "execute_result"
    }
   ],
   "source": [
    "# method 1: Dataframe way\n",
    "df[(df['FULL NAME'] == 'PAUL WAGNER')]"
   ],
   "metadata": {
    "collapsed": false,
    "pycharm": {
     "name": "#%%\n"
    }
   }
  },
  {
   "cell_type": "code",
   "execution_count": 60,
   "outputs": [
    {
     "data": {
      "text/plain": "   ID  NAME SURNAME COUNTRY  AGE  SALARY MEMBER_DATE    FULL NAME\n1   2  PAUL  WAGNER  FRANCE   35  250000  2005-03-17  PAUL WAGNER",
      "text/html": "<div>\n<style scoped>\n    .dataframe tbody tr th:only-of-type {\n        vertical-align: middle;\n    }\n\n    .dataframe tbody tr th {\n        vertical-align: top;\n    }\n\n    .dataframe thead th {\n        text-align: right;\n    }\n</style>\n<table border=\"1\" class=\"dataframe\">\n  <thead>\n    <tr style=\"text-align: right;\">\n      <th></th>\n      <th>ID</th>\n      <th>NAME</th>\n      <th>SURNAME</th>\n      <th>COUNTRY</th>\n      <th>AGE</th>\n      <th>SALARY</th>\n      <th>MEMBER_DATE</th>\n      <th>FULL NAME</th>\n    </tr>\n  </thead>\n  <tbody>\n    <tr>\n      <th>1</th>\n      <td>2</td>\n      <td>PAUL</td>\n      <td>WAGNER</td>\n      <td>FRANCE</td>\n      <td>35</td>\n      <td>250000</td>\n      <td>2005-03-17</td>\n      <td>PAUL WAGNER</td>\n    </tr>\n  </tbody>\n</table>\n</div>"
     },
     "execution_count": 60,
     "metadata": {},
     "output_type": "execute_result"
    }
   ],
   "source": [
    "# method 2: query function\n",
    "df.query(\"`FULL NAME` == 'PAUL WAGNER'\")"
   ],
   "metadata": {
    "collapsed": false,
    "pycharm": {
     "name": "#%%\n"
    }
   }
  }
 ],
 "metadata": {
  "kernelspec": {
   "display_name": "Python 3",
   "language": "python",
   "name": "python3"
  },
  "language_info": {
   "codemirror_mode": {
    "name": "ipython",
    "version": 2
   },
   "file_extension": ".py",
   "mimetype": "text/x-python",
   "name": "python",
   "nbconvert_exporter": "python",
   "pygments_lexer": "ipython2",
   "version": "2.7.6"
  }
 },
 "nbformat": 4,
 "nbformat_minor": 0
}