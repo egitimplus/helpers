{
 "cells": [
  {
   "cell_type": "code",
   "execution_count": 29,
   "outputs": [
    {
     "data": {
      "text/plain": "   ID      NAME SURNAME  COUNTRY  AGE  SALARY\n0   1      ADAM   SMITH      USA   25  150000\n1   2      PAUL  WAGNER   FRANCE   35  250000\n2   3      JACK    RYAN  GERMANY   32  200000\n3   4      JOHN    WICK   CANADA   40  300000\n4   5      ADAM   WAYNE      USA   21  225000\n5   6  JENNIFER    NICK   CANADA   24  200000\n6   7     WANDA    RYAN      USA   36  150000\n7   8     JOHNY   BRYAN   FRANCE   19  100000",
      "text/html": "<div>\n<style scoped>\n    .dataframe tbody tr th:only-of-type {\n        vertical-align: middle;\n    }\n\n    .dataframe tbody tr th {\n        vertical-align: top;\n    }\n\n    .dataframe thead th {\n        text-align: right;\n    }\n</style>\n<table border=\"1\" class=\"dataframe\">\n  <thead>\n    <tr style=\"text-align: right;\">\n      <th></th>\n      <th>ID</th>\n      <th>NAME</th>\n      <th>SURNAME</th>\n      <th>COUNTRY</th>\n      <th>AGE</th>\n      <th>SALARY</th>\n    </tr>\n  </thead>\n  <tbody>\n    <tr>\n      <th>0</th>\n      <td>1</td>\n      <td>ADAM</td>\n      <td>SMITH</td>\n      <td>USA</td>\n      <td>25</td>\n      <td>150000</td>\n    </tr>\n    <tr>\n      <th>1</th>\n      <td>2</td>\n      <td>PAUL</td>\n      <td>WAGNER</td>\n      <td>FRANCE</td>\n      <td>35</td>\n      <td>250000</td>\n    </tr>\n    <tr>\n      <th>2</th>\n      <td>3</td>\n      <td>JACK</td>\n      <td>RYAN</td>\n      <td>GERMANY</td>\n      <td>32</td>\n      <td>200000</td>\n    </tr>\n    <tr>\n      <th>3</th>\n      <td>4</td>\n      <td>JOHN</td>\n      <td>WICK</td>\n      <td>CANADA</td>\n      <td>40</td>\n      <td>300000</td>\n    </tr>\n    <tr>\n      <th>4</th>\n      <td>5</td>\n      <td>ADAM</td>\n      <td>WAYNE</td>\n      <td>USA</td>\n      <td>21</td>\n      <td>225000</td>\n    </tr>\n    <tr>\n      <th>5</th>\n      <td>6</td>\n      <td>JENNIFER</td>\n      <td>NICK</td>\n      <td>CANADA</td>\n      <td>24</td>\n      <td>200000</td>\n    </tr>\n    <tr>\n      <th>6</th>\n      <td>7</td>\n      <td>WANDA</td>\n      <td>RYAN</td>\n      <td>USA</td>\n      <td>36</td>\n      <td>150000</td>\n    </tr>\n    <tr>\n      <th>7</th>\n      <td>8</td>\n      <td>JOHNY</td>\n      <td>BRYAN</td>\n      <td>FRANCE</td>\n      <td>19</td>\n      <td>100000</td>\n    </tr>\n  </tbody>\n</table>\n</div>"
     },
     "execution_count": 29,
     "metadata": {},
     "output_type": "execute_result"
    }
   ],
   "source": [
    "# DATA\n",
    "import pandas as pd\n",
    "\n",
    "df = pd.DataFrame(\n",
    "    data={\n",
    "        'ID': [1, 2, 3, 4, 5, 6, 7, 8],\n",
    "        'NAME': ['ADAM', 'PAUL', 'JACK', 'JOHN', 'ADAM', 'JENNIFER', 'WANDA', 'JOHNY'],\n",
    "        'SURNAME': ['SMITH', 'WAGNER', 'RYAN', 'WICK', 'WAYNE', 'NICK', 'RYAN', 'BRYAN'],\n",
    "        'COUNTRY': ['USA', 'FRANCE', 'GERMANY', 'CANADA', 'USA', 'CANADA', 'USA', 'FRANCE'],\n",
    "        'AGE': [25, 35, 32, 40, 21, 24, 36, 19],\n",
    "        'SALARY': [150000, 250000, 200000, 300000, 225000, 200000, 150000, 100000]\n",
    "    }\n",
    ")\n",
    "df"
   ],
   "metadata": {
    "collapsed": false,
    "pycharm": {
     "name": "#%%\n"
    }
   }
  },
  {
   "cell_type": "code",
   "execution_count": 30,
   "outputs": [
    {
     "data": {
      "text/plain": "   ID      NAME SURNAME COUNTRY  AGE  SALARY\n5   6  JENNIFER    NICK  CANADA   24  200000\n6   7     WANDA    RYAN     USA   36  150000\n7   8     JOHNY   BRYAN  FRANCE   19  100000",
      "text/html": "<div>\n<style scoped>\n    .dataframe tbody tr th:only-of-type {\n        vertical-align: middle;\n    }\n\n    .dataframe tbody tr th {\n        vertical-align: top;\n    }\n\n    .dataframe thead th {\n        text-align: right;\n    }\n</style>\n<table border=\"1\" class=\"dataframe\">\n  <thead>\n    <tr style=\"text-align: right;\">\n      <th></th>\n      <th>ID</th>\n      <th>NAME</th>\n      <th>SURNAME</th>\n      <th>COUNTRY</th>\n      <th>AGE</th>\n      <th>SALARY</th>\n    </tr>\n  </thead>\n  <tbody>\n    <tr>\n      <th>5</th>\n      <td>6</td>\n      <td>JENNIFER</td>\n      <td>NICK</td>\n      <td>CANADA</td>\n      <td>24</td>\n      <td>200000</td>\n    </tr>\n    <tr>\n      <th>6</th>\n      <td>7</td>\n      <td>WANDA</td>\n      <td>RYAN</td>\n      <td>USA</td>\n      <td>36</td>\n      <td>150000</td>\n    </tr>\n    <tr>\n      <th>7</th>\n      <td>8</td>\n      <td>JOHNY</td>\n      <td>BRYAN</td>\n      <td>FRANCE</td>\n      <td>19</td>\n      <td>100000</td>\n    </tr>\n  </tbody>\n</table>\n</div>"
     },
     "execution_count": 30,
     "metadata": {},
     "output_type": "execute_result"
    }
   ],
   "source": [
    "# SINGLE CONDITION\n",
    "# method 1: Dataframe way\n",
    "df[df['ID'] > 5]"
   ],
   "metadata": {
    "collapsed": false,
    "pycharm": {
     "name": "#%%\n"
    }
   }
  },
  {
   "cell_type": "code",
   "execution_count": 31,
   "outputs": [
    {
     "data": {
      "text/plain": "   ID      NAME SURNAME COUNTRY  AGE  SALARY\n5   6  JENNIFER    NICK  CANADA   24  200000\n6   7     WANDA    RYAN     USA   36  150000\n7   8     JOHNY   BRYAN  FRANCE   19  100000",
      "text/html": "<div>\n<style scoped>\n    .dataframe tbody tr th:only-of-type {\n        vertical-align: middle;\n    }\n\n    .dataframe tbody tr th {\n        vertical-align: top;\n    }\n\n    .dataframe thead th {\n        text-align: right;\n    }\n</style>\n<table border=\"1\" class=\"dataframe\">\n  <thead>\n    <tr style=\"text-align: right;\">\n      <th></th>\n      <th>ID</th>\n      <th>NAME</th>\n      <th>SURNAME</th>\n      <th>COUNTRY</th>\n      <th>AGE</th>\n      <th>SALARY</th>\n    </tr>\n  </thead>\n  <tbody>\n    <tr>\n      <th>5</th>\n      <td>6</td>\n      <td>JENNIFER</td>\n      <td>NICK</td>\n      <td>CANADA</td>\n      <td>24</td>\n      <td>200000</td>\n    </tr>\n    <tr>\n      <th>6</th>\n      <td>7</td>\n      <td>WANDA</td>\n      <td>RYAN</td>\n      <td>USA</td>\n      <td>36</td>\n      <td>150000</td>\n    </tr>\n    <tr>\n      <th>7</th>\n      <td>8</td>\n      <td>JOHNY</td>\n      <td>BRYAN</td>\n      <td>FRANCE</td>\n      <td>19</td>\n      <td>100000</td>\n    </tr>\n  </tbody>\n</table>\n</div>"
     },
     "execution_count": 31,
     "metadata": {},
     "output_type": "execute_result"
    }
   ],
   "source": [
    "# SINGLE CONDITION\n",
    "# method 2: query function\n",
    "df.query('ID > 5')"
   ],
   "metadata": {
    "collapsed": false,
    "pycharm": {
     "name": "#%%\n"
    }
   }
  },
  {
   "cell_type": "code",
   "execution_count": 32,
   "outputs": [
    {
     "data": {
      "text/plain": "   ID      NAME SURNAME COUNTRY  AGE  SALARY\n5   6  JENNIFER    NICK  CANADA   24  200000\n6   7     WANDA    RYAN     USA   36  150000\n7   8     JOHNY   BRYAN  FRANCE   19  100000",
      "text/html": "<div>\n<style scoped>\n    .dataframe tbody tr th:only-of-type {\n        vertical-align: middle;\n    }\n\n    .dataframe tbody tr th {\n        vertical-align: top;\n    }\n\n    .dataframe thead th {\n        text-align: right;\n    }\n</style>\n<table border=\"1\" class=\"dataframe\">\n  <thead>\n    <tr style=\"text-align: right;\">\n      <th></th>\n      <th>ID</th>\n      <th>NAME</th>\n      <th>SURNAME</th>\n      <th>COUNTRY</th>\n      <th>AGE</th>\n      <th>SALARY</th>\n    </tr>\n  </thead>\n  <tbody>\n    <tr>\n      <th>5</th>\n      <td>6</td>\n      <td>JENNIFER</td>\n      <td>NICK</td>\n      <td>CANADA</td>\n      <td>24</td>\n      <td>200000</td>\n    </tr>\n    <tr>\n      <th>6</th>\n      <td>7</td>\n      <td>WANDA</td>\n      <td>RYAN</td>\n      <td>USA</td>\n      <td>36</td>\n      <td>150000</td>\n    </tr>\n    <tr>\n      <th>7</th>\n      <td>8</td>\n      <td>JOHNY</td>\n      <td>BRYAN</td>\n      <td>FRANCE</td>\n      <td>19</td>\n      <td>100000</td>\n    </tr>\n  </tbody>\n</table>\n</div>"
     },
     "execution_count": 32,
     "metadata": {},
     "output_type": "execute_result"
    }
   ],
   "source": [
    "# SINGLE CONDITION\n",
    "# method 3: loc function\n",
    "df.loc[df[\"ID\"] > 5]"
   ],
   "metadata": {
    "collapsed": false,
    "pycharm": {
     "name": "#%%\n"
    }
   }
  },
  {
   "cell_type": "code",
   "execution_count": 33,
   "outputs": [
    {
     "data": {
      "text/plain": "   ID  NAME SURNAME  COUNTRY  AGE  SALARY\n0   1  ADAM   SMITH      USA   25  150000\n1   2  PAUL  WAGNER   FRANCE   35  250000\n2   3  JACK    RYAN  GERMANY   32  200000\n3   4  JOHN    WICK   CANADA   40  300000\n4   5  ADAM   WAYNE      USA   21  225000",
      "text/html": "<div>\n<style scoped>\n    .dataframe tbody tr th:only-of-type {\n        vertical-align: middle;\n    }\n\n    .dataframe tbody tr th {\n        vertical-align: top;\n    }\n\n    .dataframe thead th {\n        text-align: right;\n    }\n</style>\n<table border=\"1\" class=\"dataframe\">\n  <thead>\n    <tr style=\"text-align: right;\">\n      <th></th>\n      <th>ID</th>\n      <th>NAME</th>\n      <th>SURNAME</th>\n      <th>COUNTRY</th>\n      <th>AGE</th>\n      <th>SALARY</th>\n    </tr>\n  </thead>\n  <tbody>\n    <tr>\n      <th>0</th>\n      <td>1</td>\n      <td>ADAM</td>\n      <td>SMITH</td>\n      <td>USA</td>\n      <td>25</td>\n      <td>150000</td>\n    </tr>\n    <tr>\n      <th>1</th>\n      <td>2</td>\n      <td>PAUL</td>\n      <td>WAGNER</td>\n      <td>FRANCE</td>\n      <td>35</td>\n      <td>250000</td>\n    </tr>\n    <tr>\n      <th>2</th>\n      <td>3</td>\n      <td>JACK</td>\n      <td>RYAN</td>\n      <td>GERMANY</td>\n      <td>32</td>\n      <td>200000</td>\n    </tr>\n    <tr>\n      <th>3</th>\n      <td>4</td>\n      <td>JOHN</td>\n      <td>WICK</td>\n      <td>CANADA</td>\n      <td>40</td>\n      <td>300000</td>\n    </tr>\n    <tr>\n      <th>4</th>\n      <td>5</td>\n      <td>ADAM</td>\n      <td>WAYNE</td>\n      <td>USA</td>\n      <td>21</td>\n      <td>225000</td>\n    </tr>\n  </tbody>\n</table>\n</div>"
     },
     "execution_count": 33,
     "metadata": {},
     "output_type": "execute_result"
    }
   ],
   "source": [
    "# SINGLE CONDITION (NOT)\n",
    "# method 1: Dataframe way\n",
    "df[~(df['ID'] > 5)]"
   ],
   "metadata": {
    "collapsed": false,
    "pycharm": {
     "name": "#%%\n"
    }
   }
  },
  {
   "cell_type": "code",
   "execution_count": 34,
   "outputs": [
    {
     "data": {
      "text/plain": "   ID  NAME SURNAME  COUNTRY  AGE  SALARY\n0   1  ADAM   SMITH      USA   25  150000\n1   2  PAUL  WAGNER   FRANCE   35  250000\n2   3  JACK    RYAN  GERMANY   32  200000\n3   4  JOHN    WICK   CANADA   40  300000\n4   5  ADAM   WAYNE      USA   21  225000",
      "text/html": "<div>\n<style scoped>\n    .dataframe tbody tr th:only-of-type {\n        vertical-align: middle;\n    }\n\n    .dataframe tbody tr th {\n        vertical-align: top;\n    }\n\n    .dataframe thead th {\n        text-align: right;\n    }\n</style>\n<table border=\"1\" class=\"dataframe\">\n  <thead>\n    <tr style=\"text-align: right;\">\n      <th></th>\n      <th>ID</th>\n      <th>NAME</th>\n      <th>SURNAME</th>\n      <th>COUNTRY</th>\n      <th>AGE</th>\n      <th>SALARY</th>\n    </tr>\n  </thead>\n  <tbody>\n    <tr>\n      <th>0</th>\n      <td>1</td>\n      <td>ADAM</td>\n      <td>SMITH</td>\n      <td>USA</td>\n      <td>25</td>\n      <td>150000</td>\n    </tr>\n    <tr>\n      <th>1</th>\n      <td>2</td>\n      <td>PAUL</td>\n      <td>WAGNER</td>\n      <td>FRANCE</td>\n      <td>35</td>\n      <td>250000</td>\n    </tr>\n    <tr>\n      <th>2</th>\n      <td>3</td>\n      <td>JACK</td>\n      <td>RYAN</td>\n      <td>GERMANY</td>\n      <td>32</td>\n      <td>200000</td>\n    </tr>\n    <tr>\n      <th>3</th>\n      <td>4</td>\n      <td>JOHN</td>\n      <td>WICK</td>\n      <td>CANADA</td>\n      <td>40</td>\n      <td>300000</td>\n    </tr>\n    <tr>\n      <th>4</th>\n      <td>5</td>\n      <td>ADAM</td>\n      <td>WAYNE</td>\n      <td>USA</td>\n      <td>21</td>\n      <td>225000</td>\n    </tr>\n  </tbody>\n</table>\n</div>"
     },
     "execution_count": 34,
     "metadata": {},
     "output_type": "execute_result"
    }
   ],
   "source": [
    "# SINGLE CONDITION (NOT)\n",
    "# method 2: query function\n",
    "df.query('~(ID > 5)')"
   ],
   "metadata": {
    "collapsed": false,
    "pycharm": {
     "name": "#%%\n"
    }
   }
  },
  {
   "cell_type": "code",
   "execution_count": 35,
   "outputs": [
    {
     "data": {
      "text/plain": "   ID      NAME SURNAME COUNTRY  AGE  SALARY\n5   6  JENNIFER    NICK  CANADA   24  200000",
      "text/html": "<div>\n<style scoped>\n    .dataframe tbody tr th:only-of-type {\n        vertical-align: middle;\n    }\n\n    .dataframe tbody tr th {\n        vertical-align: top;\n    }\n\n    .dataframe thead th {\n        text-align: right;\n    }\n</style>\n<table border=\"1\" class=\"dataframe\">\n  <thead>\n    <tr style=\"text-align: right;\">\n      <th></th>\n      <th>ID</th>\n      <th>NAME</th>\n      <th>SURNAME</th>\n      <th>COUNTRY</th>\n      <th>AGE</th>\n      <th>SALARY</th>\n    </tr>\n  </thead>\n  <tbody>\n    <tr>\n      <th>5</th>\n      <td>6</td>\n      <td>JENNIFER</td>\n      <td>NICK</td>\n      <td>CANADA</td>\n      <td>24</td>\n      <td>200000</td>\n    </tr>\n  </tbody>\n</table>\n</div>"
     },
     "execution_count": 35,
     "metadata": {},
     "output_type": "execute_result"
    }
   ],
   "source": [
    "# MULTIPLE CONDITION (AND)\n",
    "# method 1: Dataframe way\n",
    "df[(df.ID > 5) & (df.COUNTRY == 'CANADA')]"
   ],
   "metadata": {
    "collapsed": false,
    "pycharm": {
     "name": "#%%\n"
    }
   }
  },
  {
   "cell_type": "code",
   "execution_count": 36,
   "outputs": [
    {
     "data": {
      "text/plain": "   ID      NAME SURNAME COUNTRY  AGE  SALARY\n5   6  JENNIFER    NICK  CANADA   24  200000",
      "text/html": "<div>\n<style scoped>\n    .dataframe tbody tr th:only-of-type {\n        vertical-align: middle;\n    }\n\n    .dataframe tbody tr th {\n        vertical-align: top;\n    }\n\n    .dataframe thead th {\n        text-align: right;\n    }\n</style>\n<table border=\"1\" class=\"dataframe\">\n  <thead>\n    <tr style=\"text-align: right;\">\n      <th></th>\n      <th>ID</th>\n      <th>NAME</th>\n      <th>SURNAME</th>\n      <th>COUNTRY</th>\n      <th>AGE</th>\n      <th>SALARY</th>\n    </tr>\n  </thead>\n  <tbody>\n    <tr>\n      <th>5</th>\n      <td>6</td>\n      <td>JENNIFER</td>\n      <td>NICK</td>\n      <td>CANADA</td>\n      <td>24</td>\n      <td>200000</td>\n    </tr>\n  </tbody>\n</table>\n</div>"
     },
     "execution_count": 36,
     "metadata": {},
     "output_type": "execute_result"
    }
   ],
   "source": [
    "# MULTIPLE CONDITION (AND)\n",
    "# method 2: query function\n",
    "df.query('ID > 5 and COUNTRY == \"CANADA\"')"
   ],
   "metadata": {
    "collapsed": false,
    "pycharm": {
     "name": "#%%\n"
    }
   }
  },
  {
   "cell_type": "code",
   "execution_count": 37,
   "outputs": [
    {
     "data": {
      "text/plain": "   ID      NAME SURNAME COUNTRY  AGE  SALARY\n5   6  JENNIFER    NICK  CANADA   24  200000\n6   7     WANDA    RYAN     USA   36  150000",
      "text/html": "<div>\n<style scoped>\n    .dataframe tbody tr th:only-of-type {\n        vertical-align: middle;\n    }\n\n    .dataframe tbody tr th {\n        vertical-align: top;\n    }\n\n    .dataframe thead th {\n        text-align: right;\n    }\n</style>\n<table border=\"1\" class=\"dataframe\">\n  <thead>\n    <tr style=\"text-align: right;\">\n      <th></th>\n      <th>ID</th>\n      <th>NAME</th>\n      <th>SURNAME</th>\n      <th>COUNTRY</th>\n      <th>AGE</th>\n      <th>SALARY</th>\n    </tr>\n  </thead>\n  <tbody>\n    <tr>\n      <th>5</th>\n      <td>6</td>\n      <td>JENNIFER</td>\n      <td>NICK</td>\n      <td>CANADA</td>\n      <td>24</td>\n      <td>200000</td>\n    </tr>\n    <tr>\n      <th>6</th>\n      <td>7</td>\n      <td>WANDA</td>\n      <td>RYAN</td>\n      <td>USA</td>\n      <td>36</td>\n      <td>150000</td>\n    </tr>\n  </tbody>\n</table>\n</div>"
     },
     "execution_count": 37,
     "metadata": {},
     "output_type": "execute_result"
    }
   ],
   "source": [
    "# MULTIPLE CONDITION (AND & OR)\n",
    "# method 1: Dataframe way\n",
    "df[(df.ID > 5) & ((df.COUNTRY == 'CANADA') | (df.COUNTRY == 'USA'))]"
   ],
   "metadata": {
    "collapsed": false,
    "pycharm": {
     "name": "#%%\n"
    }
   }
  },
  {
   "cell_type": "code",
   "execution_count": 38,
   "outputs": [
    {
     "data": {
      "text/plain": "   ID      NAME SURNAME COUNTRY  AGE  SALARY\n5   6  JENNIFER    NICK  CANADA   24  200000\n6   7     WANDA    RYAN     USA   36  150000",
      "text/html": "<div>\n<style scoped>\n    .dataframe tbody tr th:only-of-type {\n        vertical-align: middle;\n    }\n\n    .dataframe tbody tr th {\n        vertical-align: top;\n    }\n\n    .dataframe thead th {\n        text-align: right;\n    }\n</style>\n<table border=\"1\" class=\"dataframe\">\n  <thead>\n    <tr style=\"text-align: right;\">\n      <th></th>\n      <th>ID</th>\n      <th>NAME</th>\n      <th>SURNAME</th>\n      <th>COUNTRY</th>\n      <th>AGE</th>\n      <th>SALARY</th>\n    </tr>\n  </thead>\n  <tbody>\n    <tr>\n      <th>5</th>\n      <td>6</td>\n      <td>JENNIFER</td>\n      <td>NICK</td>\n      <td>CANADA</td>\n      <td>24</td>\n      <td>200000</td>\n    </tr>\n    <tr>\n      <th>6</th>\n      <td>7</td>\n      <td>WANDA</td>\n      <td>RYAN</td>\n      <td>USA</td>\n      <td>36</td>\n      <td>150000</td>\n    </tr>\n  </tbody>\n</table>\n</div>"
     },
     "execution_count": 38,
     "metadata": {},
     "output_type": "execute_result"
    }
   ],
   "source": [
    "# MULTIPLE CONDITION (AND & OR)\n",
    "# method 2: query function\n",
    "df.query('ID > 5 and (COUNTRY == \"CANADA\" or COUNTRY == \"USA\")')"
   ],
   "metadata": {
    "collapsed": false,
    "pycharm": {
     "name": "#%%\n"
    }
   }
  },
  {
   "cell_type": "code",
   "execution_count": 39,
   "outputs": [
    {
     "data": {
      "text/plain": "   ID   NAME SURNAME  COUNTRY  AGE  SALARY\n1   2   PAUL  WAGNER   FRANCE   35  250000\n2   3   JACK    RYAN  GERMANY   32  200000\n7   8  JOHNY   BRYAN   FRANCE   19  100000",
      "text/html": "<div>\n<style scoped>\n    .dataframe tbody tr th:only-of-type {\n        vertical-align: middle;\n    }\n\n    .dataframe tbody tr th {\n        vertical-align: top;\n    }\n\n    .dataframe thead th {\n        text-align: right;\n    }\n</style>\n<table border=\"1\" class=\"dataframe\">\n  <thead>\n    <tr style=\"text-align: right;\">\n      <th></th>\n      <th>ID</th>\n      <th>NAME</th>\n      <th>SURNAME</th>\n      <th>COUNTRY</th>\n      <th>AGE</th>\n      <th>SALARY</th>\n    </tr>\n  </thead>\n  <tbody>\n    <tr>\n      <th>1</th>\n      <td>2</td>\n      <td>PAUL</td>\n      <td>WAGNER</td>\n      <td>FRANCE</td>\n      <td>35</td>\n      <td>250000</td>\n    </tr>\n    <tr>\n      <th>2</th>\n      <td>3</td>\n      <td>JACK</td>\n      <td>RYAN</td>\n      <td>GERMANY</td>\n      <td>32</td>\n      <td>200000</td>\n    </tr>\n    <tr>\n      <th>7</th>\n      <td>8</td>\n      <td>JOHNY</td>\n      <td>BRYAN</td>\n      <td>FRANCE</td>\n      <td>19</td>\n      <td>100000</td>\n    </tr>\n  </tbody>\n</table>\n</div>"
     },
     "execution_count": 39,
     "metadata": {},
     "output_type": "execute_result"
    }
   ],
   "source": [
    "# IN OPERATOR\n",
    "# method 1: Dataframe way\n",
    "df[df.COUNTRY.isin(['GERMANY','FRANCE'])]"
   ],
   "metadata": {
    "collapsed": false,
    "pycharm": {
     "name": "#%%\n"
    }
   }
  },
  {
   "cell_type": "code",
   "execution_count": 40,
   "outputs": [
    {
     "data": {
      "text/plain": "   ID   NAME SURNAME  COUNTRY  AGE  SALARY\n1   2   PAUL  WAGNER   FRANCE   35  250000\n2   3   JACK    RYAN  GERMANY   32  200000\n7   8  JOHNY   BRYAN   FRANCE   19  100000",
      "text/html": "<div>\n<style scoped>\n    .dataframe tbody tr th:only-of-type {\n        vertical-align: middle;\n    }\n\n    .dataframe tbody tr th {\n        vertical-align: top;\n    }\n\n    .dataframe thead th {\n        text-align: right;\n    }\n</style>\n<table border=\"1\" class=\"dataframe\">\n  <thead>\n    <tr style=\"text-align: right;\">\n      <th></th>\n      <th>ID</th>\n      <th>NAME</th>\n      <th>SURNAME</th>\n      <th>COUNTRY</th>\n      <th>AGE</th>\n      <th>SALARY</th>\n    </tr>\n  </thead>\n  <tbody>\n    <tr>\n      <th>1</th>\n      <td>2</td>\n      <td>PAUL</td>\n      <td>WAGNER</td>\n      <td>FRANCE</td>\n      <td>35</td>\n      <td>250000</td>\n    </tr>\n    <tr>\n      <th>2</th>\n      <td>3</td>\n      <td>JACK</td>\n      <td>RYAN</td>\n      <td>GERMANY</td>\n      <td>32</td>\n      <td>200000</td>\n    </tr>\n    <tr>\n      <th>7</th>\n      <td>8</td>\n      <td>JOHNY</td>\n      <td>BRYAN</td>\n      <td>FRANCE</td>\n      <td>19</td>\n      <td>100000</td>\n    </tr>\n  </tbody>\n</table>\n</div>"
     },
     "execution_count": 40,
     "metadata": {},
     "output_type": "execute_result"
    }
   ],
   "source": [
    "# IN OPERATOR\n",
    "# method 2: query function\n",
    "df.query('COUNTRY in [\"GERMANY\",\"FRANCE\"]')"
   ],
   "metadata": {
    "collapsed": false,
    "pycharm": {
     "name": "#%%\n"
    }
   }
  },
  {
   "cell_type": "code",
   "execution_count": 41,
   "outputs": [
    {
     "data": {
      "text/plain": "   ID   NAME SURNAME  COUNTRY  AGE  SALARY\n1   2   PAUL  WAGNER   FRANCE   35  250000\n2   3   JACK    RYAN  GERMANY   32  200000\n7   8  JOHNY   BRYAN   FRANCE   19  100000",
      "text/html": "<div>\n<style scoped>\n    .dataframe tbody tr th:only-of-type {\n        vertical-align: middle;\n    }\n\n    .dataframe tbody tr th {\n        vertical-align: top;\n    }\n\n    .dataframe thead th {\n        text-align: right;\n    }\n</style>\n<table border=\"1\" class=\"dataframe\">\n  <thead>\n    <tr style=\"text-align: right;\">\n      <th></th>\n      <th>ID</th>\n      <th>NAME</th>\n      <th>SURNAME</th>\n      <th>COUNTRY</th>\n      <th>AGE</th>\n      <th>SALARY</th>\n    </tr>\n  </thead>\n  <tbody>\n    <tr>\n      <th>1</th>\n      <td>2</td>\n      <td>PAUL</td>\n      <td>WAGNER</td>\n      <td>FRANCE</td>\n      <td>35</td>\n      <td>250000</td>\n    </tr>\n    <tr>\n      <th>2</th>\n      <td>3</td>\n      <td>JACK</td>\n      <td>RYAN</td>\n      <td>GERMANY</td>\n      <td>32</td>\n      <td>200000</td>\n    </tr>\n    <tr>\n      <th>7</th>\n      <td>8</td>\n      <td>JOHNY</td>\n      <td>BRYAN</td>\n      <td>FRANCE</td>\n      <td>19</td>\n      <td>100000</td>\n    </tr>\n  </tbody>\n</table>\n</div>"
     },
     "execution_count": 41,
     "metadata": {},
     "output_type": "execute_result"
    }
   ],
   "source": [
    "df.query('COUNTRY.isin([\"GERMANY\", \"FRANCE\"]).values')"
   ],
   "metadata": {
    "collapsed": false,
    "pycharm": {
     "name": "#%%\n"
    }
   }
  },
  {
   "cell_type": "code",
   "execution_count": 42,
   "outputs": [
    {
     "data": {
      "text/plain": "   ID      NAME SURNAME  COUNTRY  AGE  SALARY\n2   3      JACK    RYAN  GERMANY   32  200000\n3   4      JOHN    WICK   CANADA   40  300000\n5   6  JENNIFER    NICK   CANADA   24  200000",
      "text/html": "<div>\n<style scoped>\n    .dataframe tbody tr th:only-of-type {\n        vertical-align: middle;\n    }\n\n    .dataframe tbody tr th {\n        vertical-align: top;\n    }\n\n    .dataframe thead th {\n        text-align: right;\n    }\n</style>\n<table border=\"1\" class=\"dataframe\">\n  <thead>\n    <tr style=\"text-align: right;\">\n      <th></th>\n      <th>ID</th>\n      <th>NAME</th>\n      <th>SURNAME</th>\n      <th>COUNTRY</th>\n      <th>AGE</th>\n      <th>SALARY</th>\n    </tr>\n  </thead>\n  <tbody>\n    <tr>\n      <th>2</th>\n      <td>3</td>\n      <td>JACK</td>\n      <td>RYAN</td>\n      <td>GERMANY</td>\n      <td>32</td>\n      <td>200000</td>\n    </tr>\n    <tr>\n      <th>3</th>\n      <td>4</td>\n      <td>JOHN</td>\n      <td>WICK</td>\n      <td>CANADA</td>\n      <td>40</td>\n      <td>300000</td>\n    </tr>\n    <tr>\n      <th>5</th>\n      <td>6</td>\n      <td>JENNIFER</td>\n      <td>NICK</td>\n      <td>CANADA</td>\n      <td>24</td>\n      <td>200000</td>\n    </tr>\n  </tbody>\n</table>\n</div>"
     },
     "execution_count": 42,
     "metadata": {},
     "output_type": "execute_result"
    }
   ],
   "source": [
    "# NOT IN OPERATOR\n",
    "# method 1: Dataframe way\n",
    "df[~df.COUNTRY.isin(['USA','FRANCE'])]"
   ],
   "metadata": {
    "collapsed": false,
    "pycharm": {
     "name": "#%%\n"
    }
   }
  },
  {
   "cell_type": "code",
   "execution_count": 43,
   "outputs": [
    {
     "data": {
      "text/plain": "   ID      NAME SURNAME  COUNTRY  AGE  SALARY\n2   3      JACK    RYAN  GERMANY   32  200000\n3   4      JOHN    WICK   CANADA   40  300000\n5   6  JENNIFER    NICK   CANADA   24  200000",
      "text/html": "<div>\n<style scoped>\n    .dataframe tbody tr th:only-of-type {\n        vertical-align: middle;\n    }\n\n    .dataframe tbody tr th {\n        vertical-align: top;\n    }\n\n    .dataframe thead th {\n        text-align: right;\n    }\n</style>\n<table border=\"1\" class=\"dataframe\">\n  <thead>\n    <tr style=\"text-align: right;\">\n      <th></th>\n      <th>ID</th>\n      <th>NAME</th>\n      <th>SURNAME</th>\n      <th>COUNTRY</th>\n      <th>AGE</th>\n      <th>SALARY</th>\n    </tr>\n  </thead>\n  <tbody>\n    <tr>\n      <th>2</th>\n      <td>3</td>\n      <td>JACK</td>\n      <td>RYAN</td>\n      <td>GERMANY</td>\n      <td>32</td>\n      <td>200000</td>\n    </tr>\n    <tr>\n      <th>3</th>\n      <td>4</td>\n      <td>JOHN</td>\n      <td>WICK</td>\n      <td>CANADA</td>\n      <td>40</td>\n      <td>300000</td>\n    </tr>\n    <tr>\n      <th>5</th>\n      <td>6</td>\n      <td>JENNIFER</td>\n      <td>NICK</td>\n      <td>CANADA</td>\n      <td>24</td>\n      <td>200000</td>\n    </tr>\n  </tbody>\n</table>\n</div>"
     },
     "execution_count": 43,
     "metadata": {},
     "output_type": "execute_result"
    }
   ],
   "source": [
    "# NOT IN OPERATOR\n",
    "# method 2: query function\n",
    "df.query('COUNTRY not in [\"USA\",\"FRANCE\"]')"
   ],
   "metadata": {
    "collapsed": false,
    "pycharm": {
     "name": "#%%\n"
    }
   }
  },
  {
   "cell_type": "code",
   "execution_count": 44,
   "outputs": [
    {
     "data": {
      "text/plain": "   ID      NAME SURNAME  COUNTRY  AGE  SALARY\n2   3      JACK    RYAN  GERMANY   32  200000\n3   4      JOHN    WICK   CANADA   40  300000\n5   6  JENNIFER    NICK   CANADA   24  200000",
      "text/html": "<div>\n<style scoped>\n    .dataframe tbody tr th:only-of-type {\n        vertical-align: middle;\n    }\n\n    .dataframe tbody tr th {\n        vertical-align: top;\n    }\n\n    .dataframe thead th {\n        text-align: right;\n    }\n</style>\n<table border=\"1\" class=\"dataframe\">\n  <thead>\n    <tr style=\"text-align: right;\">\n      <th></th>\n      <th>ID</th>\n      <th>NAME</th>\n      <th>SURNAME</th>\n      <th>COUNTRY</th>\n      <th>AGE</th>\n      <th>SALARY</th>\n    </tr>\n  </thead>\n  <tbody>\n    <tr>\n      <th>2</th>\n      <td>3</td>\n      <td>JACK</td>\n      <td>RYAN</td>\n      <td>GERMANY</td>\n      <td>32</td>\n      <td>200000</td>\n    </tr>\n    <tr>\n      <th>3</th>\n      <td>4</td>\n      <td>JOHN</td>\n      <td>WICK</td>\n      <td>CANADA</td>\n      <td>40</td>\n      <td>300000</td>\n    </tr>\n    <tr>\n      <th>5</th>\n      <td>6</td>\n      <td>JENNIFER</td>\n      <td>NICK</td>\n      <td>CANADA</td>\n      <td>24</td>\n      <td>200000</td>\n    </tr>\n  </tbody>\n</table>\n</div>"
     },
     "execution_count": 44,
     "metadata": {},
     "output_type": "execute_result"
    }
   ],
   "source": [
    "df.query('~(COUNTRY in [\"USA\",\"FRANCE\"])')"
   ],
   "metadata": {
    "collapsed": false,
    "pycharm": {
     "name": "#%%\n"
    }
   }
  },
  {
   "cell_type": "code",
   "execution_count": 45,
   "outputs": [
    {
     "data": {
      "text/plain": "   ID  NAME SURNAME COUNTRY  AGE  SALARY\n1   2  PAUL  WAGNER  FRANCE   35  250000\n4   5  ADAM   WAYNE     USA   21  225000",
      "text/html": "<div>\n<style scoped>\n    .dataframe tbody tr th:only-of-type {\n        vertical-align: middle;\n    }\n\n    .dataframe tbody tr th {\n        vertical-align: top;\n    }\n\n    .dataframe thead th {\n        text-align: right;\n    }\n</style>\n<table border=\"1\" class=\"dataframe\">\n  <thead>\n    <tr style=\"text-align: right;\">\n      <th></th>\n      <th>ID</th>\n      <th>NAME</th>\n      <th>SURNAME</th>\n      <th>COUNTRY</th>\n      <th>AGE</th>\n      <th>SALARY</th>\n    </tr>\n  </thead>\n  <tbody>\n    <tr>\n      <th>1</th>\n      <td>2</td>\n      <td>PAUL</td>\n      <td>WAGNER</td>\n      <td>FRANCE</td>\n      <td>35</td>\n      <td>250000</td>\n    </tr>\n    <tr>\n      <th>4</th>\n      <td>5</td>\n      <td>ADAM</td>\n      <td>WAYNE</td>\n      <td>USA</td>\n      <td>21</td>\n      <td>225000</td>\n    </tr>\n  </tbody>\n</table>\n</div>"
     },
     "execution_count": 45,
     "metadata": {},
     "output_type": "execute_result"
    }
   ],
   "source": [
    "# LIKE OPERATOR - startswith\n",
    "# method 1: Dataframe way\n",
    "df[df.SURNAME.str.startswith('WA')]"
   ],
   "metadata": {
    "collapsed": false,
    "pycharm": {
     "name": "#%%\n"
    }
   }
  },
  {
   "cell_type": "code",
   "execution_count": 46,
   "outputs": [
    {
     "data": {
      "text/plain": "   ID  NAME SURNAME COUNTRY  AGE  SALARY\n1   2  PAUL  WAGNER  FRANCE   35  250000\n4   5  ADAM   WAYNE     USA   21  225000",
      "text/html": "<div>\n<style scoped>\n    .dataframe tbody tr th:only-of-type {\n        vertical-align: middle;\n    }\n\n    .dataframe tbody tr th {\n        vertical-align: top;\n    }\n\n    .dataframe thead th {\n        text-align: right;\n    }\n</style>\n<table border=\"1\" class=\"dataframe\">\n  <thead>\n    <tr style=\"text-align: right;\">\n      <th></th>\n      <th>ID</th>\n      <th>NAME</th>\n      <th>SURNAME</th>\n      <th>COUNTRY</th>\n      <th>AGE</th>\n      <th>SALARY</th>\n    </tr>\n  </thead>\n  <tbody>\n    <tr>\n      <th>1</th>\n      <td>2</td>\n      <td>PAUL</td>\n      <td>WAGNER</td>\n      <td>FRANCE</td>\n      <td>35</td>\n      <td>250000</td>\n    </tr>\n    <tr>\n      <th>4</th>\n      <td>5</td>\n      <td>ADAM</td>\n      <td>WAYNE</td>\n      <td>USA</td>\n      <td>21</td>\n      <td>225000</td>\n    </tr>\n  </tbody>\n</table>\n</div>"
     },
     "execution_count": 46,
     "metadata": {},
     "output_type": "execute_result"
    }
   ],
   "source": [
    "# LIKE OPERATOR - startswith\n",
    "# method 2: query function\n",
    "df.query('SURNAME.str.startswith(\"WA\")')"
   ],
   "metadata": {
    "collapsed": false,
    "pycharm": {
     "name": "#%%\n"
    }
   }
  },
  {
   "cell_type": "code",
   "execution_count": 47,
   "outputs": [
    {
     "data": {
      "text/plain": "   ID   NAME SURNAME  COUNTRY  AGE  SALARY\n2   3   JACK    RYAN  GERMANY   32  200000\n6   7  WANDA    RYAN      USA   36  150000\n7   8  JOHNY   BRYAN   FRANCE   19  100000",
      "text/html": "<div>\n<style scoped>\n    .dataframe tbody tr th:only-of-type {\n        vertical-align: middle;\n    }\n\n    .dataframe tbody tr th {\n        vertical-align: top;\n    }\n\n    .dataframe thead th {\n        text-align: right;\n    }\n</style>\n<table border=\"1\" class=\"dataframe\">\n  <thead>\n    <tr style=\"text-align: right;\">\n      <th></th>\n      <th>ID</th>\n      <th>NAME</th>\n      <th>SURNAME</th>\n      <th>COUNTRY</th>\n      <th>AGE</th>\n      <th>SALARY</th>\n    </tr>\n  </thead>\n  <tbody>\n    <tr>\n      <th>2</th>\n      <td>3</td>\n      <td>JACK</td>\n      <td>RYAN</td>\n      <td>GERMANY</td>\n      <td>32</td>\n      <td>200000</td>\n    </tr>\n    <tr>\n      <th>6</th>\n      <td>7</td>\n      <td>WANDA</td>\n      <td>RYAN</td>\n      <td>USA</td>\n      <td>36</td>\n      <td>150000</td>\n    </tr>\n    <tr>\n      <th>7</th>\n      <td>8</td>\n      <td>JOHNY</td>\n      <td>BRYAN</td>\n      <td>FRANCE</td>\n      <td>19</td>\n      <td>100000</td>\n    </tr>\n  </tbody>\n</table>\n</div>"
     },
     "execution_count": 47,
     "metadata": {},
     "output_type": "execute_result"
    }
   ],
   "source": [
    "# LIKE OPERATOR - endswith\n",
    "# method 1: Dataframe way\n",
    "df[df.SURNAME.str.endswith('YAN')]"
   ],
   "metadata": {
    "collapsed": false,
    "pycharm": {
     "name": "#%%\n"
    }
   }
  },
  {
   "cell_type": "code",
   "execution_count": 48,
   "outputs": [
    {
     "data": {
      "text/plain": "   ID   NAME SURNAME  COUNTRY  AGE  SALARY\n2   3   JACK    RYAN  GERMANY   32  200000\n6   7  WANDA    RYAN      USA   36  150000\n7   8  JOHNY   BRYAN   FRANCE   19  100000",
      "text/html": "<div>\n<style scoped>\n    .dataframe tbody tr th:only-of-type {\n        vertical-align: middle;\n    }\n\n    .dataframe tbody tr th {\n        vertical-align: top;\n    }\n\n    .dataframe thead th {\n        text-align: right;\n    }\n</style>\n<table border=\"1\" class=\"dataframe\">\n  <thead>\n    <tr style=\"text-align: right;\">\n      <th></th>\n      <th>ID</th>\n      <th>NAME</th>\n      <th>SURNAME</th>\n      <th>COUNTRY</th>\n      <th>AGE</th>\n      <th>SALARY</th>\n    </tr>\n  </thead>\n  <tbody>\n    <tr>\n      <th>2</th>\n      <td>3</td>\n      <td>JACK</td>\n      <td>RYAN</td>\n      <td>GERMANY</td>\n      <td>32</td>\n      <td>200000</td>\n    </tr>\n    <tr>\n      <th>6</th>\n      <td>7</td>\n      <td>WANDA</td>\n      <td>RYAN</td>\n      <td>USA</td>\n      <td>36</td>\n      <td>150000</td>\n    </tr>\n    <tr>\n      <th>7</th>\n      <td>8</td>\n      <td>JOHNY</td>\n      <td>BRYAN</td>\n      <td>FRANCE</td>\n      <td>19</td>\n      <td>100000</td>\n    </tr>\n  </tbody>\n</table>\n</div>"
     },
     "execution_count": 48,
     "metadata": {},
     "output_type": "execute_result"
    }
   ],
   "source": [
    "# LIKE OPERATOR - endswith\n",
    "# method 2: query function\n",
    "df.query('SURNAME.str.endswith(\"YAN\").values')"
   ],
   "metadata": {
    "collapsed": false,
    "pycharm": {
     "name": "#%%\n"
    }
   }
  },
  {
   "cell_type": "code",
   "execution_count": 49,
   "outputs": [
    {
     "data": {
      "text/plain": "   ID   NAME SURNAME COUNTRY  AGE  SALARY\n3   4   JOHN    WICK  CANADA   40  300000\n7   8  JOHNY   BRYAN  FRANCE   19  100000",
      "text/html": "<div>\n<style scoped>\n    .dataframe tbody tr th:only-of-type {\n        vertical-align: middle;\n    }\n\n    .dataframe tbody tr th {\n        vertical-align: top;\n    }\n\n    .dataframe thead th {\n        text-align: right;\n    }\n</style>\n<table border=\"1\" class=\"dataframe\">\n  <thead>\n    <tr style=\"text-align: right;\">\n      <th></th>\n      <th>ID</th>\n      <th>NAME</th>\n      <th>SURNAME</th>\n      <th>COUNTRY</th>\n      <th>AGE</th>\n      <th>SALARY</th>\n    </tr>\n  </thead>\n  <tbody>\n    <tr>\n      <th>3</th>\n      <td>4</td>\n      <td>JOHN</td>\n      <td>WICK</td>\n      <td>CANADA</td>\n      <td>40</td>\n      <td>300000</td>\n    </tr>\n    <tr>\n      <th>7</th>\n      <td>8</td>\n      <td>JOHNY</td>\n      <td>BRYAN</td>\n      <td>FRANCE</td>\n      <td>19</td>\n      <td>100000</td>\n    </tr>\n  </tbody>\n</table>\n</div>"
     },
     "execution_count": 49,
     "metadata": {},
     "output_type": "execute_result"
    }
   ],
   "source": [
    "# LIKE OPERATOR - contains\n",
    "# method 1: Dataframe way\n",
    "df[df.NAME.str.contains('OH')]"
   ],
   "metadata": {
    "collapsed": false,
    "pycharm": {
     "name": "#%%\n"
    }
   }
  },
  {
   "cell_type": "code",
   "execution_count": 50,
   "outputs": [
    {
     "data": {
      "text/plain": "   ID   NAME SURNAME COUNTRY  AGE  SALARY\n3   4   JOHN    WICK  CANADA   40  300000\n7   8  JOHNY   BRYAN  FRANCE   19  100000",
      "text/html": "<div>\n<style scoped>\n    .dataframe tbody tr th:only-of-type {\n        vertical-align: middle;\n    }\n\n    .dataframe tbody tr th {\n        vertical-align: top;\n    }\n\n    .dataframe thead th {\n        text-align: right;\n    }\n</style>\n<table border=\"1\" class=\"dataframe\">\n  <thead>\n    <tr style=\"text-align: right;\">\n      <th></th>\n      <th>ID</th>\n      <th>NAME</th>\n      <th>SURNAME</th>\n      <th>COUNTRY</th>\n      <th>AGE</th>\n      <th>SALARY</th>\n    </tr>\n  </thead>\n  <tbody>\n    <tr>\n      <th>3</th>\n      <td>4</td>\n      <td>JOHN</td>\n      <td>WICK</td>\n      <td>CANADA</td>\n      <td>40</td>\n      <td>300000</td>\n    </tr>\n    <tr>\n      <th>7</th>\n      <td>8</td>\n      <td>JOHNY</td>\n      <td>BRYAN</td>\n      <td>FRANCE</td>\n      <td>19</td>\n      <td>100000</td>\n    </tr>\n  </tbody>\n</table>\n</div>"
     },
     "execution_count": 50,
     "metadata": {},
     "output_type": "execute_result"
    }
   ],
   "source": [
    "# LIKE OPERATOR - contains\n",
    "# method 2: query function\n",
    "df.query('NAME.str.contains(\"OH\")')"
   ],
   "metadata": {
    "collapsed": false,
    "pycharm": {
     "name": "#%%\n"
    }
   }
  },
  {
   "cell_type": "code",
   "execution_count": 51,
   "outputs": [
    {
     "data": {
      "text/plain": "   ID      NAME SURNAME  COUNTRY  AGE  SALARY\n0   1      ADAM   SMITH      USA   25  150000\n1   2      PAUL  WAGNER   FRANCE   35  250000\n2   3      JACK    RYAN  GERMANY   32  200000\n3   4      JOHN    WICK   CANADA   40  300000\n4   5      ADAM   WAYNE      USA   21  225000\n5   6  JENNIFER    NICK   CANADA   24  200000\n6   7     WANDA    RYAN      USA   36  150000\n7   8     JOHNY   BRYAN   FRANCE   19  100000",
      "text/html": "<div>\n<style scoped>\n    .dataframe tbody tr th:only-of-type {\n        vertical-align: middle;\n    }\n\n    .dataframe tbody tr th {\n        vertical-align: top;\n    }\n\n    .dataframe thead th {\n        text-align: right;\n    }\n</style>\n<table border=\"1\" class=\"dataframe\">\n  <thead>\n    <tr style=\"text-align: right;\">\n      <th></th>\n      <th>ID</th>\n      <th>NAME</th>\n      <th>SURNAME</th>\n      <th>COUNTRY</th>\n      <th>AGE</th>\n      <th>SALARY</th>\n    </tr>\n  </thead>\n  <tbody>\n    <tr>\n      <th>0</th>\n      <td>1</td>\n      <td>ADAM</td>\n      <td>SMITH</td>\n      <td>USA</td>\n      <td>25</td>\n      <td>150000</td>\n    </tr>\n    <tr>\n      <th>1</th>\n      <td>2</td>\n      <td>PAUL</td>\n      <td>WAGNER</td>\n      <td>FRANCE</td>\n      <td>35</td>\n      <td>250000</td>\n    </tr>\n    <tr>\n      <th>2</th>\n      <td>3</td>\n      <td>JACK</td>\n      <td>RYAN</td>\n      <td>GERMANY</td>\n      <td>32</td>\n      <td>200000</td>\n    </tr>\n    <tr>\n      <th>3</th>\n      <td>4</td>\n      <td>JOHN</td>\n      <td>WICK</td>\n      <td>CANADA</td>\n      <td>40</td>\n      <td>300000</td>\n    </tr>\n    <tr>\n      <th>4</th>\n      <td>5</td>\n      <td>ADAM</td>\n      <td>WAYNE</td>\n      <td>USA</td>\n      <td>21</td>\n      <td>225000</td>\n    </tr>\n    <tr>\n      <th>5</th>\n      <td>6</td>\n      <td>JENNIFER</td>\n      <td>NICK</td>\n      <td>CANADA</td>\n      <td>24</td>\n      <td>200000</td>\n    </tr>\n    <tr>\n      <th>6</th>\n      <td>7</td>\n      <td>WANDA</td>\n      <td>RYAN</td>\n      <td>USA</td>\n      <td>36</td>\n      <td>150000</td>\n    </tr>\n    <tr>\n      <th>7</th>\n      <td>8</td>\n      <td>JOHNY</td>\n      <td>BRYAN</td>\n      <td>FRANCE</td>\n      <td>19</td>\n      <td>100000</td>\n    </tr>\n  </tbody>\n</table>\n</div>"
     },
     "execution_count": 51,
     "metadata": {},
     "output_type": "execute_result"
    }
   ],
   "source": [
    "df"
   ],
   "metadata": {
    "collapsed": false,
    "pycharm": {
     "name": "#%%\n"
    }
   }
  },
  {
   "cell_type": "code",
   "execution_count": 52,
   "outputs": [
    {
     "data": {
      "text/plain": "   ID      NAME SURNAME  COUNTRY  AGE  SALARY\n0   1      ADAM   SMITH      USA   25  150000\n1   2      PAUL  WAGNER   FRANCE   35  250000\n2   3      JACK    RYAN  GERMANY   32  200000\n3   4      JOHN    WICK      NaN   40  300000\n4   5      ADAM   WAYNE      USA   21  225000\n5   6  JENNIFER    NICK      NaN   24  200000\n6   7     WANDA    RYAN      USA   36  150000\n7   8     JOHNY   BRYAN   FRANCE   19  100000",
      "text/html": "<div>\n<style scoped>\n    .dataframe tbody tr th:only-of-type {\n        vertical-align: middle;\n    }\n\n    .dataframe tbody tr th {\n        vertical-align: top;\n    }\n\n    .dataframe thead th {\n        text-align: right;\n    }\n</style>\n<table border=\"1\" class=\"dataframe\">\n  <thead>\n    <tr style=\"text-align: right;\">\n      <th></th>\n      <th>ID</th>\n      <th>NAME</th>\n      <th>SURNAME</th>\n      <th>COUNTRY</th>\n      <th>AGE</th>\n      <th>SALARY</th>\n    </tr>\n  </thead>\n  <tbody>\n    <tr>\n      <th>0</th>\n      <td>1</td>\n      <td>ADAM</td>\n      <td>SMITH</td>\n      <td>USA</td>\n      <td>25</td>\n      <td>150000</td>\n    </tr>\n    <tr>\n      <th>1</th>\n      <td>2</td>\n      <td>PAUL</td>\n      <td>WAGNER</td>\n      <td>FRANCE</td>\n      <td>35</td>\n      <td>250000</td>\n    </tr>\n    <tr>\n      <th>2</th>\n      <td>3</td>\n      <td>JACK</td>\n      <td>RYAN</td>\n      <td>GERMANY</td>\n      <td>32</td>\n      <td>200000</td>\n    </tr>\n    <tr>\n      <th>3</th>\n      <td>4</td>\n      <td>JOHN</td>\n      <td>WICK</td>\n      <td>NaN</td>\n      <td>40</td>\n      <td>300000</td>\n    </tr>\n    <tr>\n      <th>4</th>\n      <td>5</td>\n      <td>ADAM</td>\n      <td>WAYNE</td>\n      <td>USA</td>\n      <td>21</td>\n      <td>225000</td>\n    </tr>\n    <tr>\n      <th>5</th>\n      <td>6</td>\n      <td>JENNIFER</td>\n      <td>NICK</td>\n      <td>NaN</td>\n      <td>24</td>\n      <td>200000</td>\n    </tr>\n    <tr>\n      <th>6</th>\n      <td>7</td>\n      <td>WANDA</td>\n      <td>RYAN</td>\n      <td>USA</td>\n      <td>36</td>\n      <td>150000</td>\n    </tr>\n    <tr>\n      <th>7</th>\n      <td>8</td>\n      <td>JOHNY</td>\n      <td>BRYAN</td>\n      <td>FRANCE</td>\n      <td>19</td>\n      <td>100000</td>\n    </tr>\n  </tbody>\n</table>\n</div>"
     },
     "execution_count": 52,
     "metadata": {},
     "output_type": "execute_result"
    }
   ],
   "source": [
    "# Change USA to NaN\n",
    "\n",
    "import numpy as np\n",
    "\n",
    "df.loc[df.COUNTRY == \"USA\", 'COUNTRY'] = np.nan\n",
    "df"
   ],
   "metadata": {
    "collapsed": false,
    "pycharm": {
     "name": "#%%\n"
    }
   }
  },
  {
   "cell_type": "code",
   "execution_count": null,
   "outputs": [],
   "source": [
    "# method 1: Dataframe way\n",
    "df[df.COUNTRY.notna()]"
   ],
   "metadata": {
    "collapsed": false,
    "pycharm": {
     "name": "#%%\n",
     "is_executing": true
    }
   }
  },
  {
   "cell_type": "code",
   "execution_count": 53,
   "outputs": [
    {
     "data": {
      "text/plain": "   ID   NAME SURNAME  COUNTRY  AGE  SALARY\n0   1   ADAM   SMITH      USA   25  150000\n1   2   PAUL  WAGNER   FRANCE   35  250000\n2   3   JACK    RYAN  GERMANY   32  200000\n4   5   ADAM   WAYNE      USA   21  225000\n6   7  WANDA    RYAN      USA   36  150000\n7   8  JOHNY   BRYAN   FRANCE   19  100000",
      "text/html": "<div>\n<style scoped>\n    .dataframe tbody tr th:only-of-type {\n        vertical-align: middle;\n    }\n\n    .dataframe tbody tr th {\n        vertical-align: top;\n    }\n\n    .dataframe thead th {\n        text-align: right;\n    }\n</style>\n<table border=\"1\" class=\"dataframe\">\n  <thead>\n    <tr style=\"text-align: right;\">\n      <th></th>\n      <th>ID</th>\n      <th>NAME</th>\n      <th>SURNAME</th>\n      <th>COUNTRY</th>\n      <th>AGE</th>\n      <th>SALARY</th>\n    </tr>\n  </thead>\n  <tbody>\n    <tr>\n      <th>0</th>\n      <td>1</td>\n      <td>ADAM</td>\n      <td>SMITH</td>\n      <td>USA</td>\n      <td>25</td>\n      <td>150000</td>\n    </tr>\n    <tr>\n      <th>1</th>\n      <td>2</td>\n      <td>PAUL</td>\n      <td>WAGNER</td>\n      <td>FRANCE</td>\n      <td>35</td>\n      <td>250000</td>\n    </tr>\n    <tr>\n      <th>2</th>\n      <td>3</td>\n      <td>JACK</td>\n      <td>RYAN</td>\n      <td>GERMANY</td>\n      <td>32</td>\n      <td>200000</td>\n    </tr>\n    <tr>\n      <th>4</th>\n      <td>5</td>\n      <td>ADAM</td>\n      <td>WAYNE</td>\n      <td>USA</td>\n      <td>21</td>\n      <td>225000</td>\n    </tr>\n    <tr>\n      <th>6</th>\n      <td>7</td>\n      <td>WANDA</td>\n      <td>RYAN</td>\n      <td>USA</td>\n      <td>36</td>\n      <td>150000</td>\n    </tr>\n    <tr>\n      <th>7</th>\n      <td>8</td>\n      <td>JOHNY</td>\n      <td>BRYAN</td>\n      <td>FRANCE</td>\n      <td>19</td>\n      <td>100000</td>\n    </tr>\n  </tbody>\n</table>\n</div>"
     },
     "execution_count": 53,
     "metadata": {},
     "output_type": "execute_result"
    }
   ],
   "source": [
    "# method 1: Dataframe way\n",
    "df[df.COUNTRY.notnull()]"
   ],
   "metadata": {
    "collapsed": false,
    "pycharm": {
     "name": "#%%\n"
    }
   }
  },
  {
   "cell_type": "code",
   "execution_count": null,
   "outputs": [],
   "source": [
    "# method 2: query function\n",
    "df.query('COUNTRY.notna()')"
   ],
   "metadata": {
    "collapsed": false,
    "pycharm": {
     "name": "#%%\n",
     "is_executing": true
    }
   }
  },
  {
   "cell_type": "code",
   "execution_count": 59,
   "outputs": [
    {
     "data": {
      "text/plain": "   ID   NAME SURNAME  COUNTRY  AGE  SALARY\n0   1   ADAM   SMITH      USA   25  150000\n1   2   PAUL  WAGNER   FRANCE   35  250000\n2   3   JACK    RYAN  GERMANY   32  200000\n4   5   ADAM   WAYNE      USA   21  225000\n6   7  WANDA    RYAN      USA   36  150000\n7   8  JOHNY   BRYAN   FRANCE   19  100000",
      "text/html": "<div>\n<style scoped>\n    .dataframe tbody tr th:only-of-type {\n        vertical-align: middle;\n    }\n\n    .dataframe tbody tr th {\n        vertical-align: top;\n    }\n\n    .dataframe thead th {\n        text-align: right;\n    }\n</style>\n<table border=\"1\" class=\"dataframe\">\n  <thead>\n    <tr style=\"text-align: right;\">\n      <th></th>\n      <th>ID</th>\n      <th>NAME</th>\n      <th>SURNAME</th>\n      <th>COUNTRY</th>\n      <th>AGE</th>\n      <th>SALARY</th>\n    </tr>\n  </thead>\n  <tbody>\n    <tr>\n      <th>0</th>\n      <td>1</td>\n      <td>ADAM</td>\n      <td>SMITH</td>\n      <td>USA</td>\n      <td>25</td>\n      <td>150000</td>\n    </tr>\n    <tr>\n      <th>1</th>\n      <td>2</td>\n      <td>PAUL</td>\n      <td>WAGNER</td>\n      <td>FRANCE</td>\n      <td>35</td>\n      <td>250000</td>\n    </tr>\n    <tr>\n      <th>2</th>\n      <td>3</td>\n      <td>JACK</td>\n      <td>RYAN</td>\n      <td>GERMANY</td>\n      <td>32</td>\n      <td>200000</td>\n    </tr>\n    <tr>\n      <th>4</th>\n      <td>5</td>\n      <td>ADAM</td>\n      <td>WAYNE</td>\n      <td>USA</td>\n      <td>21</td>\n      <td>225000</td>\n    </tr>\n    <tr>\n      <th>6</th>\n      <td>7</td>\n      <td>WANDA</td>\n      <td>RYAN</td>\n      <td>USA</td>\n      <td>36</td>\n      <td>150000</td>\n    </tr>\n    <tr>\n      <th>7</th>\n      <td>8</td>\n      <td>JOHNY</td>\n      <td>BRYAN</td>\n      <td>FRANCE</td>\n      <td>19</td>\n      <td>100000</td>\n    </tr>\n  </tbody>\n</table>\n</div>"
     },
     "execution_count": 59,
     "metadata": {},
     "output_type": "execute_result"
    }
   ],
   "source": [
    "# method 2: query function\n",
    "df.query('COUNTRY.notnull()')"
   ],
   "metadata": {
    "collapsed": false,
    "pycharm": {
     "name": "#%%\n"
    }
   }
  },
  {
   "cell_type": "code",
   "execution_count": null,
   "outputs": [],
   "source": [
    "# method 1: Dataframe way\n",
    "df[df.COUNTRY.isna()]"
   ],
   "metadata": {
    "collapsed": false,
    "pycharm": {
     "name": "#%%\n",
     "is_executing": true
    }
   }
  },
  {
   "cell_type": "code",
   "execution_count": 57,
   "outputs": [
    {
     "data": {
      "text/plain": "   ID      NAME SURNAME COUNTRY  AGE  SALARY\n3   4      JOHN    WICK     NaN   40  300000\n5   6  JENNIFER    NICK     NaN   24  200000",
      "text/html": "<div>\n<style scoped>\n    .dataframe tbody tr th:only-of-type {\n        vertical-align: middle;\n    }\n\n    .dataframe tbody tr th {\n        vertical-align: top;\n    }\n\n    .dataframe thead th {\n        text-align: right;\n    }\n</style>\n<table border=\"1\" class=\"dataframe\">\n  <thead>\n    <tr style=\"text-align: right;\">\n      <th></th>\n      <th>ID</th>\n      <th>NAME</th>\n      <th>SURNAME</th>\n      <th>COUNTRY</th>\n      <th>AGE</th>\n      <th>SALARY</th>\n    </tr>\n  </thead>\n  <tbody>\n    <tr>\n      <th>3</th>\n      <td>4</td>\n      <td>JOHN</td>\n      <td>WICK</td>\n      <td>NaN</td>\n      <td>40</td>\n      <td>300000</td>\n    </tr>\n    <tr>\n      <th>5</th>\n      <td>6</td>\n      <td>JENNIFER</td>\n      <td>NICK</td>\n      <td>NaN</td>\n      <td>24</td>\n      <td>200000</td>\n    </tr>\n  </tbody>\n</table>\n</div>"
     },
     "execution_count": 57,
     "metadata": {},
     "output_type": "execute_result"
    }
   ],
   "source": [
    "# method 1: Dataframe way\n",
    "df[df.COUNTRY.isnull()]"
   ],
   "metadata": {
    "collapsed": false,
    "pycharm": {
     "name": "#%%\n"
    }
   }
  },
  {
   "cell_type": "code",
   "execution_count": null,
   "outputs": [],
   "source": [
    "# method 2: query function\n",
    "df.query('COUNTRY.isna()')"
   ],
   "metadata": {
    "collapsed": false,
    "pycharm": {
     "name": "#%%\n"
    }
   }
  },
  {
   "cell_type": "code",
   "execution_count": 61,
   "outputs": [
    {
     "data": {
      "text/plain": "   ID      NAME SURNAME COUNTRY  AGE  SALARY\n3   4      JOHN    WICK     NaN   40  300000\n5   6  JENNIFER    NICK     NaN   24  200000",
      "text/html": "<div>\n<style scoped>\n    .dataframe tbody tr th:only-of-type {\n        vertical-align: middle;\n    }\n\n    .dataframe tbody tr th {\n        vertical-align: top;\n    }\n\n    .dataframe thead th {\n        text-align: right;\n    }\n</style>\n<table border=\"1\" class=\"dataframe\">\n  <thead>\n    <tr style=\"text-align: right;\">\n      <th></th>\n      <th>ID</th>\n      <th>NAME</th>\n      <th>SURNAME</th>\n      <th>COUNTRY</th>\n      <th>AGE</th>\n      <th>SALARY</th>\n    </tr>\n  </thead>\n  <tbody>\n    <tr>\n      <th>3</th>\n      <td>4</td>\n      <td>JOHN</td>\n      <td>WICK</td>\n      <td>NaN</td>\n      <td>40</td>\n      <td>300000</td>\n    </tr>\n    <tr>\n      <th>5</th>\n      <td>6</td>\n      <td>JENNIFER</td>\n      <td>NICK</td>\n      <td>NaN</td>\n      <td>24</td>\n      <td>200000</td>\n    </tr>\n  </tbody>\n</table>\n</div>"
     },
     "execution_count": 61,
     "metadata": {},
     "output_type": "execute_result"
    }
   ],
   "source": [
    "# method 2: query function\n",
    "df.query('COUNTRY.isnull()')"
   ],
   "metadata": {
    "collapsed": false,
    "pycharm": {
     "name": "#%%\n"
    }
   }
  },
  {
   "cell_type": "code",
   "execution_count": 62,
   "outputs": [
    {
     "data": {
      "text/plain": "   ID      NAME SURNAME  COUNTRY  AGE  SALARY MEMBER_DATE\n0   1      ADAM   SMITH      USA   25  150000  2021-02-14\n1   2      PAUL  WAGNER   FRANCE   35  250000  2005-03-17\n2   3      JACK    RYAN  GERMANY   32  200000  2000-03-01\n3   4      JOHN    WICK      NaN   40  300000  1999-01-19\n4   5      ADAM   WAYNE      USA   21  225000  2011-04-24\n5   6  JENNIFER    NICK      NaN   24  200000  2008-11-10\n6   7     WANDA    RYAN      USA   36  150000  2015-11-30\n7   8     JOHNY   BRYAN   FRANCE   19  100000  2019-04-19",
      "text/html": "<div>\n<style scoped>\n    .dataframe tbody tr th:only-of-type {\n        vertical-align: middle;\n    }\n\n    .dataframe tbody tr th {\n        vertical-align: top;\n    }\n\n    .dataframe thead th {\n        text-align: right;\n    }\n</style>\n<table border=\"1\" class=\"dataframe\">\n  <thead>\n    <tr style=\"text-align: right;\">\n      <th></th>\n      <th>ID</th>\n      <th>NAME</th>\n      <th>SURNAME</th>\n      <th>COUNTRY</th>\n      <th>AGE</th>\n      <th>SALARY</th>\n      <th>MEMBER_DATE</th>\n    </tr>\n  </thead>\n  <tbody>\n    <tr>\n      <th>0</th>\n      <td>1</td>\n      <td>ADAM</td>\n      <td>SMITH</td>\n      <td>USA</td>\n      <td>25</td>\n      <td>150000</td>\n      <td>2021-02-14</td>\n    </tr>\n    <tr>\n      <th>1</th>\n      <td>2</td>\n      <td>PAUL</td>\n      <td>WAGNER</td>\n      <td>FRANCE</td>\n      <td>35</td>\n      <td>250000</td>\n      <td>2005-03-17</td>\n    </tr>\n    <tr>\n      <th>2</th>\n      <td>3</td>\n      <td>JACK</td>\n      <td>RYAN</td>\n      <td>GERMANY</td>\n      <td>32</td>\n      <td>200000</td>\n      <td>2000-03-01</td>\n    </tr>\n    <tr>\n      <th>3</th>\n      <td>4</td>\n      <td>JOHN</td>\n      <td>WICK</td>\n      <td>NaN</td>\n      <td>40</td>\n      <td>300000</td>\n      <td>1999-01-19</td>\n    </tr>\n    <tr>\n      <th>4</th>\n      <td>5</td>\n      <td>ADAM</td>\n      <td>WAYNE</td>\n      <td>USA</td>\n      <td>21</td>\n      <td>225000</td>\n      <td>2011-04-24</td>\n    </tr>\n    <tr>\n      <th>5</th>\n      <td>6</td>\n      <td>JENNIFER</td>\n      <td>NICK</td>\n      <td>NaN</td>\n      <td>24</td>\n      <td>200000</td>\n      <td>2008-11-10</td>\n    </tr>\n    <tr>\n      <th>6</th>\n      <td>7</td>\n      <td>WANDA</td>\n      <td>RYAN</td>\n      <td>USA</td>\n      <td>36</td>\n      <td>150000</td>\n      <td>2015-11-30</td>\n    </tr>\n    <tr>\n      <th>7</th>\n      <td>8</td>\n      <td>JOHNY</td>\n      <td>BRYAN</td>\n      <td>FRANCE</td>\n      <td>19</td>\n      <td>100000</td>\n      <td>2019-04-19</td>\n    </tr>\n  </tbody>\n</table>\n</div>"
     },
     "execution_count": 62,
     "metadata": {},
     "output_type": "execute_result"
    }
   ],
   "source": [
    "df['MEMBER_DATE'] = [\n",
    "    '2021-02-14','2005-03-17','2000-03-01','1999-01-19',\n",
    "    '2011-04-24','2008-11-10','2015-11-30','2019-04-19'\n",
    "]\n",
    "\n",
    "df"
   ],
   "metadata": {
    "collapsed": false,
    "pycharm": {
     "name": "#%%\n"
    }
   }
  },
  {
   "cell_type": "code",
   "execution_count": 63,
   "outputs": [
    {
     "data": {
      "text/plain": "   ID   NAME SURNAME COUNTRY  AGE  SALARY MEMBER_DATE\n0   1   ADAM   SMITH     USA   25  150000  2021-02-14\n6   7  WANDA    RYAN     USA   36  150000  2015-11-30\n7   8  JOHNY   BRYAN  FRANCE   19  100000  2019-04-19",
      "text/html": "<div>\n<style scoped>\n    .dataframe tbody tr th:only-of-type {\n        vertical-align: middle;\n    }\n\n    .dataframe tbody tr th {\n        vertical-align: top;\n    }\n\n    .dataframe thead th {\n        text-align: right;\n    }\n</style>\n<table border=\"1\" class=\"dataframe\">\n  <thead>\n    <tr style=\"text-align: right;\">\n      <th></th>\n      <th>ID</th>\n      <th>NAME</th>\n      <th>SURNAME</th>\n      <th>COUNTRY</th>\n      <th>AGE</th>\n      <th>SALARY</th>\n      <th>MEMBER_DATE</th>\n    </tr>\n  </thead>\n  <tbody>\n    <tr>\n      <th>0</th>\n      <td>1</td>\n      <td>ADAM</td>\n      <td>SMITH</td>\n      <td>USA</td>\n      <td>25</td>\n      <td>150000</td>\n      <td>2021-02-14</td>\n    </tr>\n    <tr>\n      <th>6</th>\n      <td>7</td>\n      <td>WANDA</td>\n      <td>RYAN</td>\n      <td>USA</td>\n      <td>36</td>\n      <td>150000</td>\n      <td>2015-11-30</td>\n    </tr>\n    <tr>\n      <th>7</th>\n      <td>8</td>\n      <td>JOHNY</td>\n      <td>BRYAN</td>\n      <td>FRANCE</td>\n      <td>19</td>\n      <td>100000</td>\n      <td>2019-04-19</td>\n    </tr>\n  </tbody>\n</table>\n</div>"
     },
     "execution_count": 63,
     "metadata": {},
     "output_type": "execute_result"
    }
   ],
   "source": [
    "# method 1: Dataframe way\n",
    "df[df.MEMBER_DATE > '2015-01-01'] #Conditional"
   ],
   "metadata": {
    "collapsed": false,
    "pycharm": {
     "name": "#%%\n"
    }
   }
  },
  {
   "cell_type": "code",
   "execution_count": 64,
   "outputs": [
    {
     "data": {
      "text/plain": "   ID   NAME SURNAME COUNTRY  AGE  SALARY MEMBER_DATE\n0   1   ADAM   SMITH     USA   25  150000  2021-02-14\n6   7  WANDA    RYAN     USA   36  150000  2015-11-30\n7   8  JOHNY   BRYAN  FRANCE   19  100000  2019-04-19",
      "text/html": "<div>\n<style scoped>\n    .dataframe tbody tr th:only-of-type {\n        vertical-align: middle;\n    }\n\n    .dataframe tbody tr th {\n        vertical-align: top;\n    }\n\n    .dataframe thead th {\n        text-align: right;\n    }\n</style>\n<table border=\"1\" class=\"dataframe\">\n  <thead>\n    <tr style=\"text-align: right;\">\n      <th></th>\n      <th>ID</th>\n      <th>NAME</th>\n      <th>SURNAME</th>\n      <th>COUNTRY</th>\n      <th>AGE</th>\n      <th>SALARY</th>\n      <th>MEMBER_DATE</th>\n    </tr>\n  </thead>\n  <tbody>\n    <tr>\n      <th>0</th>\n      <td>1</td>\n      <td>ADAM</td>\n      <td>SMITH</td>\n      <td>USA</td>\n      <td>25</td>\n      <td>150000</td>\n      <td>2021-02-14</td>\n    </tr>\n    <tr>\n      <th>6</th>\n      <td>7</td>\n      <td>WANDA</td>\n      <td>RYAN</td>\n      <td>USA</td>\n      <td>36</td>\n      <td>150000</td>\n      <td>2015-11-30</td>\n    </tr>\n    <tr>\n      <th>7</th>\n      <td>8</td>\n      <td>JOHNY</td>\n      <td>BRYAN</td>\n      <td>FRANCE</td>\n      <td>19</td>\n      <td>100000</td>\n      <td>2019-04-19</td>\n    </tr>\n  </tbody>\n</table>\n</div>"
     },
     "execution_count": 64,
     "metadata": {},
     "output_type": "execute_result"
    }
   ],
   "source": [
    "df.query(\"MEMBER_DATE > '2015-01-01'\") #Querying"
   ],
   "metadata": {
    "collapsed": false,
    "pycharm": {
     "name": "#%%\n"
    }
   }
  },
  {
   "cell_type": "code",
   "execution_count": null,
   "outputs": [],
   "source": [
    "df.MEMBER_DATE = pd.to_datetime(df.MEMBER_DATE)"
   ],
   "metadata": {
    "collapsed": false,
    "pycharm": {
     "name": "#%%\n"
    }
   }
  },
  {
   "cell_type": "code",
   "execution_count": 70,
   "outputs": [
    {
     "data": {
      "text/plain": "   ID  NAME SURNAME  COUNTRY  AGE  SALARY MEMBER_DATE\n2   3  JACK    RYAN  GERMANY   32  200000  2000-03-01\n3   4  JOHN    WICK      NaN   40  300000  1999-01-19",
      "text/html": "<div>\n<style scoped>\n    .dataframe tbody tr th:only-of-type {\n        vertical-align: middle;\n    }\n\n    .dataframe tbody tr th {\n        vertical-align: top;\n    }\n\n    .dataframe thead th {\n        text-align: right;\n    }\n</style>\n<table border=\"1\" class=\"dataframe\">\n  <thead>\n    <tr style=\"text-align: right;\">\n      <th></th>\n      <th>ID</th>\n      <th>NAME</th>\n      <th>SURNAME</th>\n      <th>COUNTRY</th>\n      <th>AGE</th>\n      <th>SALARY</th>\n      <th>MEMBER_DATE</th>\n    </tr>\n  </thead>\n  <tbody>\n    <tr>\n      <th>2</th>\n      <td>3</td>\n      <td>JACK</td>\n      <td>RYAN</td>\n      <td>GERMANY</td>\n      <td>32</td>\n      <td>200000</td>\n      <td>2000-03-01</td>\n    </tr>\n    <tr>\n      <th>3</th>\n      <td>4</td>\n      <td>JOHN</td>\n      <td>WICK</td>\n      <td>NaN</td>\n      <td>40</td>\n      <td>300000</td>\n      <td>1999-01-19</td>\n    </tr>\n  </tbody>\n</table>\n</div>"
     },
     "execution_count": 70,
     "metadata": {},
     "output_type": "execute_result"
    }
   ],
   "source": [
    "# method 1: Dataframe way\n",
    "df[df.MEMBER_DATE.dt.year < 2005]"
   ],
   "metadata": {
    "collapsed": false,
    "pycharm": {
     "name": "#%%\n"
    }
   }
  },
  {
   "cell_type": "code",
   "execution_count": 69,
   "outputs": [
    {
     "data": {
      "text/plain": "   ID  NAME SURNAME  COUNTRY  AGE  SALARY MEMBER_DATE\n2   3  JACK    RYAN  GERMANY   32  200000  2000-03-01\n3   4  JOHN    WICK      NaN   40  300000  1999-01-19",
      "text/html": "<div>\n<style scoped>\n    .dataframe tbody tr th:only-of-type {\n        vertical-align: middle;\n    }\n\n    .dataframe tbody tr th {\n        vertical-align: top;\n    }\n\n    .dataframe thead th {\n        text-align: right;\n    }\n</style>\n<table border=\"1\" class=\"dataframe\">\n  <thead>\n    <tr style=\"text-align: right;\">\n      <th></th>\n      <th>ID</th>\n      <th>NAME</th>\n      <th>SURNAME</th>\n      <th>COUNTRY</th>\n      <th>AGE</th>\n      <th>SALARY</th>\n      <th>MEMBER_DATE</th>\n    </tr>\n  </thead>\n  <tbody>\n    <tr>\n      <th>2</th>\n      <td>3</td>\n      <td>JACK</td>\n      <td>RYAN</td>\n      <td>GERMANY</td>\n      <td>32</td>\n      <td>200000</td>\n      <td>2000-03-01</td>\n    </tr>\n    <tr>\n      <th>3</th>\n      <td>4</td>\n      <td>JOHN</td>\n      <td>WICK</td>\n      <td>NaN</td>\n      <td>40</td>\n      <td>300000</td>\n      <td>1999-01-19</td>\n    </tr>\n  </tbody>\n</table>\n</div>"
     },
     "execution_count": 69,
     "metadata": {},
     "output_type": "execute_result"
    }
   ],
   "source": [
    "# method 2: query function\n",
    "df.query(\"MEMBER_DATE.dt.year < 2005\")"
   ],
   "metadata": {
    "collapsed": false,
    "pycharm": {
     "name": "#%%\n"
    }
   }
  },
  {
   "cell_type": "code",
   "execution_count": 72,
   "outputs": [
    {
     "data": {
      "text/plain": "   ID      NAME SURNAME COUNTRY  AGE  SALARY MEMBER_DATE\n4   5      ADAM   WAYNE     USA   21  225000  2011-04-24\n5   6  JENNIFER    NICK     NaN   24  200000  2008-11-10\n7   8     JOHNY   BRYAN  FRANCE   19  100000  2019-04-19",
      "text/html": "<div>\n<style scoped>\n    .dataframe tbody tr th:only-of-type {\n        vertical-align: middle;\n    }\n\n    .dataframe tbody tr th {\n        vertical-align: top;\n    }\n\n    .dataframe thead th {\n        text-align: right;\n    }\n</style>\n<table border=\"1\" class=\"dataframe\">\n  <thead>\n    <tr style=\"text-align: right;\">\n      <th></th>\n      <th>ID</th>\n      <th>NAME</th>\n      <th>SURNAME</th>\n      <th>COUNTRY</th>\n      <th>AGE</th>\n      <th>SALARY</th>\n      <th>MEMBER_DATE</th>\n    </tr>\n  </thead>\n  <tbody>\n    <tr>\n      <th>4</th>\n      <td>5</td>\n      <td>ADAM</td>\n      <td>WAYNE</td>\n      <td>USA</td>\n      <td>21</td>\n      <td>225000</td>\n      <td>2011-04-24</td>\n    </tr>\n    <tr>\n      <th>5</th>\n      <td>6</td>\n      <td>JENNIFER</td>\n      <td>NICK</td>\n      <td>NaN</td>\n      <td>24</td>\n      <td>200000</td>\n      <td>2008-11-10</td>\n    </tr>\n    <tr>\n      <th>7</th>\n      <td>8</td>\n      <td>JOHNY</td>\n      <td>BRYAN</td>\n      <td>FRANCE</td>\n      <td>19</td>\n      <td>100000</td>\n      <td>2019-04-19</td>\n    </tr>\n  </tbody>\n</table>\n</div>"
     },
     "execution_count": 72,
     "metadata": {},
     "output_type": "execute_result"
    }
   ],
   "source": [
    "# SELECT * FROM TABLE WHERE AGE * 2 < 50;\n",
    "df.query(\"AGE * 2 < 50\")"
   ],
   "metadata": {
    "collapsed": false,
    "pycharm": {
     "name": "#%%\n"
    }
   }
  },
  {
   "cell_type": "code",
   "execution_count": 75,
   "outputs": [
    {
     "data": {
      "text/plain": "   ID      NAME SURNAME COUNTRY  AGE  SALARY MEMBER_DATE\n4   5      ADAM   WAYNE     USA   21  225000  2011-04-24\n5   6  JENNIFER    NICK     NaN   24  200000  2008-11-10\n7   8     JOHNY   BRYAN  FRANCE   19  100000  2019-04-19",
      "text/html": "<div>\n<style scoped>\n    .dataframe tbody tr th:only-of-type {\n        vertical-align: middle;\n    }\n\n    .dataframe tbody tr th {\n        vertical-align: top;\n    }\n\n    .dataframe thead th {\n        text-align: right;\n    }\n</style>\n<table border=\"1\" class=\"dataframe\">\n  <thead>\n    <tr style=\"text-align: right;\">\n      <th></th>\n      <th>ID</th>\n      <th>NAME</th>\n      <th>SURNAME</th>\n      <th>COUNTRY</th>\n      <th>AGE</th>\n      <th>SALARY</th>\n      <th>MEMBER_DATE</th>\n    </tr>\n  </thead>\n  <tbody>\n    <tr>\n      <th>4</th>\n      <td>5</td>\n      <td>ADAM</td>\n      <td>WAYNE</td>\n      <td>USA</td>\n      <td>21</td>\n      <td>225000</td>\n      <td>2011-04-24</td>\n    </tr>\n    <tr>\n      <th>5</th>\n      <td>6</td>\n      <td>JENNIFER</td>\n      <td>NICK</td>\n      <td>NaN</td>\n      <td>24</td>\n      <td>200000</td>\n      <td>2008-11-10</td>\n    </tr>\n    <tr>\n      <th>7</th>\n      <td>8</td>\n      <td>JOHNY</td>\n      <td>BRYAN</td>\n      <td>FRANCE</td>\n      <td>19</td>\n      <td>100000</td>\n      <td>2019-04-19</td>\n    </tr>\n  </tbody>\n</table>\n</div>"
     },
     "execution_count": 75,
     "metadata": {},
     "output_type": "execute_result"
    }
   ],
   "source": [
    "df[(df.AGE * 2 < 50)]"
   ],
   "metadata": {
    "collapsed": false,
    "pycharm": {
     "name": "#%%\n"
    }
   }
  },
  {
   "cell_type": "code",
   "execution_count": 76,
   "outputs": [
    {
     "data": {
      "text/plain": "   ID   NAME SURNAME COUNTRY  AGE  SALARY MEMBER_DATE\n1   2   PAUL  WAGNER  FRANCE   35  250000  2005-03-17\n3   4   JOHN    WICK     NaN   40  300000  1999-01-19\n6   7  WANDA    RYAN     USA   36  150000  2015-11-30\n7   8  JOHNY   BRYAN  FRANCE   19  100000  2019-04-19",
      "text/html": "<div>\n<style scoped>\n    .dataframe tbody tr th:only-of-type {\n        vertical-align: middle;\n    }\n\n    .dataframe tbody tr th {\n        vertical-align: top;\n    }\n\n    .dataframe thead th {\n        text-align: right;\n    }\n</style>\n<table border=\"1\" class=\"dataframe\">\n  <thead>\n    <tr style=\"text-align: right;\">\n      <th></th>\n      <th>ID</th>\n      <th>NAME</th>\n      <th>SURNAME</th>\n      <th>COUNTRY</th>\n      <th>AGE</th>\n      <th>SALARY</th>\n      <th>MEMBER_DATE</th>\n    </tr>\n  </thead>\n  <tbody>\n    <tr>\n      <th>1</th>\n      <td>2</td>\n      <td>PAUL</td>\n      <td>WAGNER</td>\n      <td>FRANCE</td>\n      <td>35</td>\n      <td>250000</td>\n      <td>2005-03-17</td>\n    </tr>\n    <tr>\n      <th>3</th>\n      <td>4</td>\n      <td>JOHN</td>\n      <td>WICK</td>\n      <td>NaN</td>\n      <td>40</td>\n      <td>300000</td>\n      <td>1999-01-19</td>\n    </tr>\n    <tr>\n      <th>6</th>\n      <td>7</td>\n      <td>WANDA</td>\n      <td>RYAN</td>\n      <td>USA</td>\n      <td>36</td>\n      <td>150000</td>\n      <td>2015-11-30</td>\n    </tr>\n    <tr>\n      <th>7</th>\n      <td>8</td>\n      <td>JOHNY</td>\n      <td>BRYAN</td>\n      <td>FRANCE</td>\n      <td>19</td>\n      <td>100000</td>\n      <td>2019-04-19</td>\n    </tr>\n  </tbody>\n</table>\n</div>"
     },
     "execution_count": 76,
     "metadata": {},
     "output_type": "execute_result"
    }
   ],
   "source": [
    "# SELECT * FROM TABLE WHERE NAME > 'JO';\n",
    "df.query(\"NAME > 'JO'\")"
   ],
   "metadata": {
    "collapsed": false,
    "pycharm": {
     "name": "#%%\n"
    }
   }
  },
  {
   "cell_type": "code",
   "execution_count": 84,
   "outputs": [
    {
     "data": {
      "text/plain": "   ID   NAME SURNAME COUNTRY  AGE  SALARY MEMBER_DATE\n1   2   PAUL  WAGNER  FRANCE   35  250000  2005-03-17\n3   4   JOHN    WICK     NaN   40  300000  1999-01-19\n6   7  WANDA    RYAN     USA   36  150000  2015-11-30\n7   8  JOHNY   BRYAN  FRANCE   19  100000  2019-04-19",
      "text/html": "<div>\n<style scoped>\n    .dataframe tbody tr th:only-of-type {\n        vertical-align: middle;\n    }\n\n    .dataframe tbody tr th {\n        vertical-align: top;\n    }\n\n    .dataframe thead th {\n        text-align: right;\n    }\n</style>\n<table border=\"1\" class=\"dataframe\">\n  <thead>\n    <tr style=\"text-align: right;\">\n      <th></th>\n      <th>ID</th>\n      <th>NAME</th>\n      <th>SURNAME</th>\n      <th>COUNTRY</th>\n      <th>AGE</th>\n      <th>SALARY</th>\n      <th>MEMBER_DATE</th>\n    </tr>\n  </thead>\n  <tbody>\n    <tr>\n      <th>1</th>\n      <td>2</td>\n      <td>PAUL</td>\n      <td>WAGNER</td>\n      <td>FRANCE</td>\n      <td>35</td>\n      <td>250000</td>\n      <td>2005-03-17</td>\n    </tr>\n    <tr>\n      <th>3</th>\n      <td>4</td>\n      <td>JOHN</td>\n      <td>WICK</td>\n      <td>NaN</td>\n      <td>40</td>\n      <td>300000</td>\n      <td>1999-01-19</td>\n    </tr>\n    <tr>\n      <th>6</th>\n      <td>7</td>\n      <td>WANDA</td>\n      <td>RYAN</td>\n      <td>USA</td>\n      <td>36</td>\n      <td>150000</td>\n      <td>2015-11-30</td>\n    </tr>\n    <tr>\n      <th>7</th>\n      <td>8</td>\n      <td>JOHNY</td>\n      <td>BRYAN</td>\n      <td>FRANCE</td>\n      <td>19</td>\n      <td>100000</td>\n      <td>2019-04-19</td>\n    </tr>\n  </tbody>\n</table>\n</div>"
     },
     "execution_count": 84,
     "metadata": {},
     "output_type": "execute_result"
    }
   ],
   "source": [
    "df[(df.NAME > 'JO')]"
   ],
   "metadata": {
    "collapsed": false,
    "pycharm": {
     "name": "#%%\n"
    }
   }
  },
  {
   "cell_type": "code",
   "execution_count": null,
   "outputs": [],
   "source": [
    "df.query(\"AGE > 30\", inplace=True)"
   ],
   "metadata": {
    "collapsed": false,
    "pycharm": {
     "name": "#%%\n"
    }
   }
  },
  {
   "cell_type": "code",
   "execution_count": 87,
   "outputs": [
    {
     "data": {
      "text/plain": "   ID      NAME SURNAME COUNTRY  AGE  SALARY MEMBER_DATE\n4   5      ADAM   WAYNE     USA   21  225000  2011-04-24\n5   6  JENNIFER    NICK     NaN   24  200000  2008-11-10\n7   8     JOHNY   BRYAN  FRANCE   19  100000  2019-04-19",
      "text/html": "<div>\n<style scoped>\n    .dataframe tbody tr th:only-of-type {\n        vertical-align: middle;\n    }\n\n    .dataframe tbody tr th {\n        vertical-align: top;\n    }\n\n    .dataframe thead th {\n        text-align: right;\n    }\n</style>\n<table border=\"1\" class=\"dataframe\">\n  <thead>\n    <tr style=\"text-align: right;\">\n      <th></th>\n      <th>ID</th>\n      <th>NAME</th>\n      <th>SURNAME</th>\n      <th>COUNTRY</th>\n      <th>AGE</th>\n      <th>SALARY</th>\n      <th>MEMBER_DATE</th>\n    </tr>\n  </thead>\n  <tbody>\n    <tr>\n      <th>4</th>\n      <td>5</td>\n      <td>ADAM</td>\n      <td>WAYNE</td>\n      <td>USA</td>\n      <td>21</td>\n      <td>225000</td>\n      <td>2011-04-24</td>\n    </tr>\n    <tr>\n      <th>5</th>\n      <td>6</td>\n      <td>JENNIFER</td>\n      <td>NICK</td>\n      <td>NaN</td>\n      <td>24</td>\n      <td>200000</td>\n      <td>2008-11-10</td>\n    </tr>\n    <tr>\n      <th>7</th>\n      <td>8</td>\n      <td>JOHNY</td>\n      <td>BRYAN</td>\n      <td>FRANCE</td>\n      <td>19</td>\n      <td>100000</td>\n      <td>2019-04-19</td>\n    </tr>\n  </tbody>\n</table>\n</div>"
     },
     "execution_count": 87,
     "metadata": {},
     "output_type": "execute_result"
    }
   ],
   "source": [
    "# SELECT * FROM TABLE WHERE AGE * 2 > 30;\n",
    "\n",
    "value = 30\n",
    "df.query(\"AGE * 2 < @value\")"
   ],
   "metadata": {
    "collapsed": false,
    "pycharm": {
     "name": "#%%\n"
    }
   }
  },
  {
   "cell_type": "code",
   "execution_count": 90,
   "outputs": [
    {
     "data": {
      "text/plain": "   ID      NAME SURNAME COUNTRY  AGE  SALARY MEMBER_DATE\n4   5      ADAM   WAYNE     USA   21  225000  2011-04-24\n5   6  JENNIFER    NICK     NaN   24  200000  2008-11-10\n7   8     JOHNY   BRYAN  FRANCE   19  100000  2019-04-19",
      "text/html": "<div>\n<style scoped>\n    .dataframe tbody tr th:only-of-type {\n        vertical-align: middle;\n    }\n\n    .dataframe tbody tr th {\n        vertical-align: top;\n    }\n\n    .dataframe thead th {\n        text-align: right;\n    }\n</style>\n<table border=\"1\" class=\"dataframe\">\n  <thead>\n    <tr style=\"text-align: right;\">\n      <th></th>\n      <th>ID</th>\n      <th>NAME</th>\n      <th>SURNAME</th>\n      <th>COUNTRY</th>\n      <th>AGE</th>\n      <th>SALARY</th>\n      <th>MEMBER_DATE</th>\n    </tr>\n  </thead>\n  <tbody>\n    <tr>\n      <th>4</th>\n      <td>5</td>\n      <td>ADAM</td>\n      <td>WAYNE</td>\n      <td>USA</td>\n      <td>21</td>\n      <td>225000</td>\n      <td>2011-04-24</td>\n    </tr>\n    <tr>\n      <th>5</th>\n      <td>6</td>\n      <td>JENNIFER</td>\n      <td>NICK</td>\n      <td>NaN</td>\n      <td>24</td>\n      <td>200000</td>\n      <td>2008-11-10</td>\n    </tr>\n    <tr>\n      <th>7</th>\n      <td>8</td>\n      <td>JOHNY</td>\n      <td>BRYAN</td>\n      <td>FRANCE</td>\n      <td>19</td>\n      <td>100000</td>\n      <td>2019-04-19</td>\n    </tr>\n  </tbody>\n</table>\n</div>"
     },
     "execution_count": 90,
     "metadata": {},
     "output_type": "execute_result"
    }
   ],
   "source": [
    "df[(df.AGE * 2 < value)]"
   ],
   "metadata": {
    "collapsed": false,
    "pycharm": {
     "name": "#%%\n"
    }
   }
  },
  {
   "cell_type": "code",
   "execution_count": null,
   "outputs": [],
   "source": [],
   "metadata": {
    "collapsed": false,
    "pycharm": {
     "name": "#%%\n"
    }
   }
  },
  {
   "cell_type": "code",
   "execution_count": 101,
   "outputs": [
    {
     "data": {
      "text/plain": "   ID  NAME SURNAME COUNTRY  AGE  SALARY MEMBER_DATE    FULL NAME\n1   2  PAUL  WAGNER  FRANCE   35  250000  1977-01-27  PAUL WAGNER",
      "text/html": "<div>\n<style scoped>\n    .dataframe tbody tr th:only-of-type {\n        vertical-align: middle;\n    }\n\n    .dataframe tbody tr th {\n        vertical-align: top;\n    }\n\n    .dataframe thead th {\n        text-align: right;\n    }\n</style>\n<table border=\"1\" class=\"dataframe\">\n  <thead>\n    <tr style=\"text-align: right;\">\n      <th></th>\n      <th>ID</th>\n      <th>NAME</th>\n      <th>SURNAME</th>\n      <th>COUNTRY</th>\n      <th>AGE</th>\n      <th>SALARY</th>\n      <th>MEMBER_DATE</th>\n      <th>FULL NAME</th>\n    </tr>\n  </thead>\n  <tbody>\n    <tr>\n      <th>1</th>\n      <td>2</td>\n      <td>PAUL</td>\n      <td>WAGNER</td>\n      <td>FRANCE</td>\n      <td>35</td>\n      <td>250000</td>\n      <td>1977-01-27</td>\n      <td>PAUL WAGNER</td>\n    </tr>\n  </tbody>\n</table>\n</div>"
     },
     "execution_count": 101,
     "metadata": {},
     "output_type": "execute_result"
    }
   ],
   "source": [
    "df['FULL NAME'] = df['NAME'] + ' ' + df[\"SURNAME\"]\n",
    "\n",
    "df.query(\"`FULL NAME` == 'PAUL WAGNER'\")\n"
   ],
   "metadata": {
    "collapsed": false,
    "pycharm": {
     "name": "#%%\n"
    }
   }
  },
  {
   "cell_type": "code",
   "execution_count": 78,
   "outputs": [
    {
     "data": {
      "text/plain": "       NAME  AGE\n0      ADAM   25\n1      PAUL   35\n2      JACK   32\n3      JOHN   40\n4      ADAM   21\n5  JENNIFER   24\n6     WANDA   36\n7     JOHNY   19",
      "text/html": "<div>\n<style scoped>\n    .dataframe tbody tr th:only-of-type {\n        vertical-align: middle;\n    }\n\n    .dataframe tbody tr th {\n        vertical-align: top;\n    }\n\n    .dataframe thead th {\n        text-align: right;\n    }\n</style>\n<table border=\"1\" class=\"dataframe\">\n  <thead>\n    <tr style=\"text-align: right;\">\n      <th></th>\n      <th>NAME</th>\n      <th>AGE</th>\n    </tr>\n  </thead>\n  <tbody>\n    <tr>\n      <th>0</th>\n      <td>ADAM</td>\n      <td>25</td>\n    </tr>\n    <tr>\n      <th>1</th>\n      <td>PAUL</td>\n      <td>35</td>\n    </tr>\n    <tr>\n      <th>2</th>\n      <td>JACK</td>\n      <td>32</td>\n    </tr>\n    <tr>\n      <th>3</th>\n      <td>JOHN</td>\n      <td>40</td>\n    </tr>\n    <tr>\n      <th>4</th>\n      <td>ADAM</td>\n      <td>21</td>\n    </tr>\n    <tr>\n      <th>5</th>\n      <td>JENNIFER</td>\n      <td>24</td>\n    </tr>\n    <tr>\n      <th>6</th>\n      <td>WANDA</td>\n      <td>36</td>\n    </tr>\n    <tr>\n      <th>7</th>\n      <td>JOHNY</td>\n      <td>19</td>\n    </tr>\n  </tbody>\n</table>\n</div>"
     },
     "execution_count": 78,
     "metadata": {},
     "output_type": "execute_result"
    }
   ],
   "source": [
    "# SELECT ROWS\n",
    "df[['NAME','AGE']]\n",
    "df.loc[:,['NAME','AGE']]\n"
   ],
   "metadata": {
    "collapsed": false,
    "pycharm": {
     "name": "#%%\n"
    }
   }
  },
  {
   "cell_type": "code",
   "execution_count": null,
   "outputs": [],
   "source": [
    "df.loc[df['likes'] >= 1000000, ['video_id', 'title']]\n",
    "df[df['likes'] >= 1000000][['video_id', 'title']]"
   ],
   "metadata": {
    "collapsed": false,
    "pycharm": {
     "name": "#%%\n"
    }
   }
  }
 ],
 "metadata": {
  "kernelspec": {
   "display_name": "Python 3",
   "language": "python",
   "name": "python3"
  },
  "language_info": {
   "codemirror_mode": {
    "name": "ipython",
    "version": 2
   },
   "file_extension": ".py",
   "mimetype": "text/x-python",
   "name": "python",
   "nbconvert_exporter": "python",
   "pygments_lexer": "ipython2",
   "version": "2.7.6"
  }
 },
 "nbformat": 4,
 "nbformat_minor": 0
}