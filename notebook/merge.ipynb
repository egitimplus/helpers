{
 "cells": [
  {
   "cell_type": "code",
   "execution_count": 89,
   "outputs": [],
   "source": [
    "import pandas as pd"
   ],
   "metadata": {
    "collapsed": false,
    "pycharm": {
     "name": "#%%\n"
    }
   }
  },
  {
   "cell_type": "code",
   "execution_count": 101,
   "outputs": [],
   "source": [
    "left_table = pd.DataFrame(\n",
    "    data={\n",
    "        'ID': [1, 2, 3, 4],\n",
    "        'VALUE': ['LEFT 1', 'LEFT 2', 'LEFT 3', 'LEFT 4']\n",
    "    }\n",
    ")\n",
    "right_table = pd.DataFrame(\n",
    "data={\n",
    "        'ID': [1, 4, 5, 6],\n",
    "        'VALUE': ['RIGHT 1', 'RIGHT 2', 'RIGHT 3', 'RIGHT 4']\n",
    "    }\n",
    ")"
   ],
   "metadata": {
    "collapsed": false,
    "pycharm": {
     "name": "#%%\n"
    }
   }
  },
  {
   "cell_type": "code",
   "execution_count": 102,
   "outputs": [
    {
     "data": {
      "text/plain": "   ID VALUE_x  VALUE_y\n0   1  LEFT 1  RIGHT 1\n1   4  LEFT 4  RIGHT 2",
      "text/html": "<div>\n<style scoped>\n    .dataframe tbody tr th:only-of-type {\n        vertical-align: middle;\n    }\n\n    .dataframe tbody tr th {\n        vertical-align: top;\n    }\n\n    .dataframe thead th {\n        text-align: right;\n    }\n</style>\n<table border=\"1\" class=\"dataframe\">\n  <thead>\n    <tr style=\"text-align: right;\">\n      <th></th>\n      <th>ID</th>\n      <th>VALUE_x</th>\n      <th>VALUE_y</th>\n    </tr>\n  </thead>\n  <tbody>\n    <tr>\n      <th>0</th>\n      <td>1</td>\n      <td>LEFT 1</td>\n      <td>RIGHT 1</td>\n    </tr>\n    <tr>\n      <th>1</th>\n      <td>4</td>\n      <td>LEFT 4</td>\n      <td>RIGHT 2</td>\n    </tr>\n  </tbody>\n</table>\n</div>"
     },
     "execution_count": 102,
     "metadata": {},
     "output_type": "execute_result"
    }
   ],
   "source": [
    "# INNER JOIN\n",
    "\n",
    "left_table.merge(right_table, on='ID')"
   ],
   "metadata": {
    "collapsed": false,
    "pycharm": {
     "name": "#%%\n"
    }
   }
  },
  {
   "cell_type": "code",
   "execution_count": 103,
   "outputs": [
    {
     "data": {
      "text/plain": "   ID VALUE_x VALUE_y\n0   1  LEFT 1  LEFT 1\n1   2  LEFT 2  LEFT 2\n2   3  LEFT 3  LEFT 3\n3   4  LEFT 4  LEFT 4",
      "text/html": "<div>\n<style scoped>\n    .dataframe tbody tr th:only-of-type {\n        vertical-align: middle;\n    }\n\n    .dataframe tbody tr th {\n        vertical-align: top;\n    }\n\n    .dataframe thead th {\n        text-align: right;\n    }\n</style>\n<table border=\"1\" class=\"dataframe\">\n  <thead>\n    <tr style=\"text-align: right;\">\n      <th></th>\n      <th>ID</th>\n      <th>VALUE_x</th>\n      <th>VALUE_y</th>\n    </tr>\n  </thead>\n  <tbody>\n    <tr>\n      <th>0</th>\n      <td>1</td>\n      <td>LEFT 1</td>\n      <td>LEFT 1</td>\n    </tr>\n    <tr>\n      <th>1</th>\n      <td>2</td>\n      <td>LEFT 2</td>\n      <td>LEFT 2</td>\n    </tr>\n    <tr>\n      <th>2</th>\n      <td>3</td>\n      <td>LEFT 3</td>\n      <td>LEFT 3</td>\n    </tr>\n    <tr>\n      <th>3</th>\n      <td>4</td>\n      <td>LEFT 4</td>\n      <td>LEFT 4</td>\n    </tr>\n  </tbody>\n</table>\n</div>"
     },
     "execution_count": 103,
     "metadata": {},
     "output_type": "execute_result"
    }
   ],
   "source": [
    "#SELF JOIN\n",
    "\n",
    "left_table.merge(left_table, on='ID')"
   ],
   "metadata": {
    "collapsed": false,
    "pycharm": {
     "name": "#%%\n"
    }
   }
  },
  {
   "cell_type": "code",
   "execution_count": 104,
   "outputs": [
    {
     "data": {
      "text/plain": "   ID VALUE_x  VALUE_y\n0   1  LEFT 1  RIGHT 1\n1   2  LEFT 2      NaN\n2   3  LEFT 3      NaN\n3   4  LEFT 4  RIGHT 2",
      "text/html": "<div>\n<style scoped>\n    .dataframe tbody tr th:only-of-type {\n        vertical-align: middle;\n    }\n\n    .dataframe tbody tr th {\n        vertical-align: top;\n    }\n\n    .dataframe thead th {\n        text-align: right;\n    }\n</style>\n<table border=\"1\" class=\"dataframe\">\n  <thead>\n    <tr style=\"text-align: right;\">\n      <th></th>\n      <th>ID</th>\n      <th>VALUE_x</th>\n      <th>VALUE_y</th>\n    </tr>\n  </thead>\n  <tbody>\n    <tr>\n      <th>0</th>\n      <td>1</td>\n      <td>LEFT 1</td>\n      <td>RIGHT 1</td>\n    </tr>\n    <tr>\n      <th>1</th>\n      <td>2</td>\n      <td>LEFT 2</td>\n      <td>NaN</td>\n    </tr>\n    <tr>\n      <th>2</th>\n      <td>3</td>\n      <td>LEFT 3</td>\n      <td>NaN</td>\n    </tr>\n    <tr>\n      <th>3</th>\n      <td>4</td>\n      <td>LEFT 4</td>\n      <td>RIGHT 2</td>\n    </tr>\n  </tbody>\n</table>\n</div>"
     },
     "execution_count": 104,
     "metadata": {},
     "output_type": "execute_result"
    }
   ],
   "source": [
    "# LEFT JOIN\n",
    "\n",
    "left_table.merge(right_table, how='left', on='ID')"
   ],
   "metadata": {
    "collapsed": false,
    "pycharm": {
     "name": "#%%\n"
    }
   }
  },
  {
   "cell_type": "code",
   "execution_count": 105,
   "outputs": [
    {
     "data": {
      "text/plain": "   ID VALUE_x  VALUE_y\n0   1  LEFT 1  RIGHT 1\n1   4  LEFT 4  RIGHT 2\n2   5     NaN  RIGHT 3\n3   6     NaN  RIGHT 4",
      "text/html": "<div>\n<style scoped>\n    .dataframe tbody tr th:only-of-type {\n        vertical-align: middle;\n    }\n\n    .dataframe tbody tr th {\n        vertical-align: top;\n    }\n\n    .dataframe thead th {\n        text-align: right;\n    }\n</style>\n<table border=\"1\" class=\"dataframe\">\n  <thead>\n    <tr style=\"text-align: right;\">\n      <th></th>\n      <th>ID</th>\n      <th>VALUE_x</th>\n      <th>VALUE_y</th>\n    </tr>\n  </thead>\n  <tbody>\n    <tr>\n      <th>0</th>\n      <td>1</td>\n      <td>LEFT 1</td>\n      <td>RIGHT 1</td>\n    </tr>\n    <tr>\n      <th>1</th>\n      <td>4</td>\n      <td>LEFT 4</td>\n      <td>RIGHT 2</td>\n    </tr>\n    <tr>\n      <th>2</th>\n      <td>5</td>\n      <td>NaN</td>\n      <td>RIGHT 3</td>\n    </tr>\n    <tr>\n      <th>3</th>\n      <td>6</td>\n      <td>NaN</td>\n      <td>RIGHT 4</td>\n    </tr>\n  </tbody>\n</table>\n</div>"
     },
     "execution_count": 105,
     "metadata": {},
     "output_type": "execute_result"
    }
   ],
   "source": [
    "# RIGHT JOIN\n",
    "\n",
    "left_table.merge(right_table, how='right', on='ID')"
   ],
   "metadata": {
    "collapsed": false,
    "pycharm": {
     "name": "#%%\n"
    }
   }
  },
  {
   "cell_type": "code",
   "execution_count": 106,
   "outputs": [
    {
     "data": {
      "text/plain": "   ID VALUE_x  VALUE_y\n0   1  LEFT 1  RIGHT 1\n1   2  LEFT 2      NaN\n2   3  LEFT 3      NaN\n3   4  LEFT 4  RIGHT 2\n4   5     NaN  RIGHT 3\n5   6     NaN  RIGHT 4",
      "text/html": "<div>\n<style scoped>\n    .dataframe tbody tr th:only-of-type {\n        vertical-align: middle;\n    }\n\n    .dataframe tbody tr th {\n        vertical-align: top;\n    }\n\n    .dataframe thead th {\n        text-align: right;\n    }\n</style>\n<table border=\"1\" class=\"dataframe\">\n  <thead>\n    <tr style=\"text-align: right;\">\n      <th></th>\n      <th>ID</th>\n      <th>VALUE_x</th>\n      <th>VALUE_y</th>\n    </tr>\n  </thead>\n  <tbody>\n    <tr>\n      <th>0</th>\n      <td>1</td>\n      <td>LEFT 1</td>\n      <td>RIGHT 1</td>\n    </tr>\n    <tr>\n      <th>1</th>\n      <td>2</td>\n      <td>LEFT 2</td>\n      <td>NaN</td>\n    </tr>\n    <tr>\n      <th>2</th>\n      <td>3</td>\n      <td>LEFT 3</td>\n      <td>NaN</td>\n    </tr>\n    <tr>\n      <th>3</th>\n      <td>4</td>\n      <td>LEFT 4</td>\n      <td>RIGHT 2</td>\n    </tr>\n    <tr>\n      <th>4</th>\n      <td>5</td>\n      <td>NaN</td>\n      <td>RIGHT 3</td>\n    </tr>\n    <tr>\n      <th>5</th>\n      <td>6</td>\n      <td>NaN</td>\n      <td>RIGHT 4</td>\n    </tr>\n  </tbody>\n</table>\n</div>"
     },
     "execution_count": 106,
     "metadata": {},
     "output_type": "execute_result"
    }
   ],
   "source": [
    "# FULL JOIN\n",
    "\n",
    "left_table.merge(right_table, how='outer', on='ID')"
   ],
   "metadata": {
    "collapsed": false,
    "pycharm": {
     "name": "#%%\n"
    }
   }
  },
  {
   "cell_type": "code",
   "execution_count": 109,
   "outputs": [],
   "source": [
    "left_table = pd.DataFrame(\n",
    "    data={\n",
    "        'ID': [1, 2, 3, 4],\n",
    "        'VALUE': ['VALUE 1', 'VALUE 2', 'VALUE 3', 'VALUE 4']\n",
    "    }\n",
    ")\n",
    "right_table = pd.DataFrame(\n",
    "    data={\n",
    "        'ID': [1, 4, 5, 6],\n",
    "        'VALUE': ['VALUE 1', 'VALUE 2', 'VALUE 3', 'VALUE 4']\n",
    "    }\n",
    ")"
   ],
   "metadata": {
    "collapsed": false,
    "pycharm": {
     "name": "#%%\n"
    }
   }
  },
  {
   "cell_type": "code",
   "execution_count": 110,
   "outputs": [
    {
     "data": {
      "text/plain": "   ID    VALUE\n0   1  VALUE 1\n1   2  VALUE 2\n2   3  VALUE 3\n3   4  VALUE 4\n4   1  VALUE 1\n5   4  VALUE 2\n6   5  VALUE 3\n7   6  VALUE 4",
      "text/html": "<div>\n<style scoped>\n    .dataframe tbody tr th:only-of-type {\n        vertical-align: middle;\n    }\n\n    .dataframe tbody tr th {\n        vertical-align: top;\n    }\n\n    .dataframe thead th {\n        text-align: right;\n    }\n</style>\n<table border=\"1\" class=\"dataframe\">\n  <thead>\n    <tr style=\"text-align: right;\">\n      <th></th>\n      <th>ID</th>\n      <th>VALUE</th>\n    </tr>\n  </thead>\n  <tbody>\n    <tr>\n      <th>0</th>\n      <td>1</td>\n      <td>VALUE 1</td>\n    </tr>\n    <tr>\n      <th>1</th>\n      <td>2</td>\n      <td>VALUE 2</td>\n    </tr>\n    <tr>\n      <th>2</th>\n      <td>3</td>\n      <td>VALUE 3</td>\n    </tr>\n    <tr>\n      <th>3</th>\n      <td>4</td>\n      <td>VALUE 4</td>\n    </tr>\n    <tr>\n      <th>4</th>\n      <td>1</td>\n      <td>VALUE 1</td>\n    </tr>\n    <tr>\n      <th>5</th>\n      <td>4</td>\n      <td>VALUE 2</td>\n    </tr>\n    <tr>\n      <th>6</th>\n      <td>5</td>\n      <td>VALUE 3</td>\n    </tr>\n    <tr>\n      <th>7</th>\n      <td>6</td>\n      <td>VALUE 4</td>\n    </tr>\n  </tbody>\n</table>\n</div>"
     },
     "execution_count": 110,
     "metadata": {},
     "output_type": "execute_result"
    }
   ],
   "source": [
    "# UNION ALL\n",
    "\n",
    "pd.concat([left_table, right_table], ignore_index=True)"
   ],
   "metadata": {
    "collapsed": false,
    "pycharm": {
     "name": "#%%\n"
    }
   }
  },
  {
   "cell_type": "code",
   "execution_count": 111,
   "outputs": [
    {
     "data": {
      "text/plain": "   ID    VALUE\n0   1  VALUE 1\n1   2  VALUE 2\n2   3  VALUE 3\n3   4  VALUE 4\n5   4  VALUE 2\n6   5  VALUE 3\n7   6  VALUE 4",
      "text/html": "<div>\n<style scoped>\n    .dataframe tbody tr th:only-of-type {\n        vertical-align: middle;\n    }\n\n    .dataframe tbody tr th {\n        vertical-align: top;\n    }\n\n    .dataframe thead th {\n        text-align: right;\n    }\n</style>\n<table border=\"1\" class=\"dataframe\">\n  <thead>\n    <tr style=\"text-align: right;\">\n      <th></th>\n      <th>ID</th>\n      <th>VALUE</th>\n    </tr>\n  </thead>\n  <tbody>\n    <tr>\n      <th>0</th>\n      <td>1</td>\n      <td>VALUE 1</td>\n    </tr>\n    <tr>\n      <th>1</th>\n      <td>2</td>\n      <td>VALUE 2</td>\n    </tr>\n    <tr>\n      <th>2</th>\n      <td>3</td>\n      <td>VALUE 3</td>\n    </tr>\n    <tr>\n      <th>3</th>\n      <td>4</td>\n      <td>VALUE 4</td>\n    </tr>\n    <tr>\n      <th>5</th>\n      <td>4</td>\n      <td>VALUE 2</td>\n    </tr>\n    <tr>\n      <th>6</th>\n      <td>5</td>\n      <td>VALUE 3</td>\n    </tr>\n    <tr>\n      <th>7</th>\n      <td>6</td>\n      <td>VALUE 4</td>\n    </tr>\n  </tbody>\n</table>\n</div>"
     },
     "execution_count": 111,
     "metadata": {},
     "output_type": "execute_result"
    }
   ],
   "source": [
    "# UNION\n",
    "\n",
    "pd.concat([left_table, right_table], ignore_index=True).drop_duplicates()"
   ],
   "metadata": {
    "collapsed": false,
    "pycharm": {
     "name": "#%%\n"
    }
   }
  },
  {
   "cell_type": "code",
   "execution_count": 112,
   "outputs": [
    {
     "data": {
      "text/plain": "   ID    VALUE\n0   1  VALUE 1",
      "text/html": "<div>\n<style scoped>\n    .dataframe tbody tr th:only-of-type {\n        vertical-align: middle;\n    }\n\n    .dataframe tbody tr th {\n        vertical-align: top;\n    }\n\n    .dataframe thead th {\n        text-align: right;\n    }\n</style>\n<table border=\"1\" class=\"dataframe\">\n  <thead>\n    <tr style=\"text-align: right;\">\n      <th></th>\n      <th>ID</th>\n      <th>VALUE</th>\n    </tr>\n  </thead>\n  <tbody>\n    <tr>\n      <th>0</th>\n      <td>1</td>\n      <td>VALUE 1</td>\n    </tr>\n  </tbody>\n</table>\n</div>"
     },
     "execution_count": 112,
     "metadata": {},
     "output_type": "execute_result"
    }
   ],
   "source": [
    "# INTERSECT\n",
    "\n",
    "left_table.merge(right_table, how='inner')"
   ],
   "metadata": {
    "collapsed": false,
    "pycharm": {
     "name": "#%%\n"
    }
   }
  },
  {
   "cell_type": "code",
   "execution_count": 114,
   "outputs": [
    {
     "data": {
      "text/plain": "   ID    VALUE\n1   2  VALUE 2\n2   3  VALUE 3\n3   4  VALUE 4",
      "text/html": "<div>\n<style scoped>\n    .dataframe tbody tr th:only-of-type {\n        vertical-align: middle;\n    }\n\n    .dataframe tbody tr th {\n        vertical-align: top;\n    }\n\n    .dataframe thead th {\n        text-align: right;\n    }\n</style>\n<table border=\"1\" class=\"dataframe\">\n  <thead>\n    <tr style=\"text-align: right;\">\n      <th></th>\n      <th>ID</th>\n      <th>VALUE</th>\n    </tr>\n  </thead>\n  <tbody>\n    <tr>\n      <th>1</th>\n      <td>2</td>\n      <td>VALUE 2</td>\n    </tr>\n    <tr>\n      <th>2</th>\n      <td>3</td>\n      <td>VALUE 3</td>\n    </tr>\n    <tr>\n      <th>3</th>\n      <td>4</td>\n      <td>VALUE 4</td>\n    </tr>\n  </tbody>\n</table>\n</div>"
     },
     "execution_count": 114,
     "metadata": {},
     "output_type": "execute_result"
    }
   ],
   "source": [
    "# EXCEPT\n",
    "\n",
    "intersect = left_table.merge(right_table, how='inner')\n",
    "pd.concat([left_table, intersect]).drop_duplicates(keep=False)"
   ],
   "metadata": {
    "collapsed": false,
    "pycharm": {
     "name": "#%%\n"
    }
   }
  },
  {
   "cell_type": "code",
   "execution_count": 115,
   "outputs": [],
   "source": [
    "left_table = pd.DataFrame(\n",
    "    data={\n",
    "        'ID': [1, 2, 3, 4],\n",
    "        'VALUE': ['VALUE 1', 'VALUE 2', 'VALUE 3', 'VALUE 4']\n",
    "    }\n",
    ")\n",
    "right_table = pd.DataFrame(\n",
    "    data={\n",
    "        'VALUE': ['VALUE 2', 'VALUE 3']\n",
    "    }\n",
    ")"
   ],
   "metadata": {
    "collapsed": false,
    "pycharm": {
     "name": "#%%\n"
    }
   }
  },
  {
   "cell_type": "code",
   "execution_count": 116,
   "outputs": [
    {
     "data": {
      "text/plain": "   ID    VALUE\n1   2  VALUE 2\n2   3  VALUE 3",
      "text/html": "<div>\n<style scoped>\n    .dataframe tbody tr th:only-of-type {\n        vertical-align: middle;\n    }\n\n    .dataframe tbody tr th {\n        vertical-align: top;\n    }\n\n    .dataframe thead th {\n        text-align: right;\n    }\n</style>\n<table border=\"1\" class=\"dataframe\">\n  <thead>\n    <tr style=\"text-align: right;\">\n      <th></th>\n      <th>ID</th>\n      <th>VALUE</th>\n    </tr>\n  </thead>\n  <tbody>\n    <tr>\n      <th>1</th>\n      <td>2</td>\n      <td>VALUE 2</td>\n    </tr>\n    <tr>\n      <th>2</th>\n      <td>3</td>\n      <td>VALUE 3</td>\n    </tr>\n  </tbody>\n</table>\n</div>"
     },
     "execution_count": 116,
     "metadata": {},
     "output_type": "execute_result"
    }
   ],
   "source": [
    "outer = left_table.merge(right_table, on='VALUE', how='outer', indicator=True)\n",
    "semi = outer.query('_merge == \"both\"').drop(columns='_merge')\n",
    "semi"
   ],
   "metadata": {
    "collapsed": false,
    "pycharm": {
     "name": "#%%\n"
    }
   }
  },
  {
   "cell_type": "code",
   "execution_count": null,
   "outputs": [],
   "source": [
    "outer = left_table.merge(right_table, on='VALUE', how='outer', indicator=True)\n",
    "anti = outer.query('_merge != \"both\"').drop(columns='_merge')\n",
    "anti"
   ],
   "metadata": {
    "collapsed": false,
    "pycharm": {
     "name": "#%%\n"
    }
   }
  }
 ],
 "metadata": {
  "kernelspec": {
   "display_name": "Python 3",
   "language": "python",
   "name": "python3"
  },
  "language_info": {
   "codemirror_mode": {
    "name": "ipython",
    "version": 2
   },
   "file_extension": ".py",
   "mimetype": "text/x-python",
   "name": "python",
   "nbconvert_exporter": "python",
   "pygments_lexer": "ipython2",
   "version": "2.7.6"
  }
 },
 "nbformat": 4,
 "nbformat_minor": 0
}